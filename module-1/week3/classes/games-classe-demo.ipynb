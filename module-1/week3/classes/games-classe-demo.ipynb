{
 "cells": [
  {
   "cell_type": "markdown",
   "metadata": {},
   "source": [
    "# PyGame"
   ]
  },
  {
   "cell_type": "code",
   "execution_count": 1,
   "metadata": {
    "ExecuteTime": {
     "end_time": "2020-08-08T18:29:26.778001Z",
     "start_time": "2020-08-08T18:29:26.325029Z"
    }
   },
   "outputs": [
    {
     "name": "stderr",
     "output_type": "stream",
     "text": [
      "c:\\programas\\anaconda3\\lib\\site-packages\\numpy\\_distributor_init.py:32: UserWarning: loaded more than 1 DLL from .libs:\n",
      "c:\\programas\\anaconda3\\lib\\site-packages\\numpy\\.libs\\libopenblas.PYQHXLVVQ7VESDPUVUADXEVJOBGHJPAY.gfortran-win_amd64.dll\n",
      "c:\\programas\\anaconda3\\lib\\site-packages\\numpy\\.libs\\libopenblas.TXA6YQSD3GCQQC22GEQ54J2UDCXDXHWN.gfortran-win_amd64.dll\n",
      "  stacklevel=1)\n"
     ]
    },
    {
     "name": "stdout",
     "output_type": "stream",
     "text": [
      "pygame 1.9.6\n",
      "Hello from the pygame community. https://www.pygame.org/contribute.html\n"
     ]
    },
    {
     "data": {
      "text/plain": [
       "(6, 0)"
      ]
     },
     "execution_count": 1,
     "metadata": {},
     "output_type": "execute_result"
    }
   ],
   "source": [
    "import pygame\n",
    "\n",
    "pygame.init()"
   ]
  },
  {
   "cell_type": "code",
   "execution_count": 2,
   "metadata": {
    "ExecuteTime": {
     "end_time": "2020-08-08T18:29:26.799000Z",
     "start_time": "2020-08-08T18:29:26.780001Z"
    }
   },
   "outputs": [],
   "source": [
    "# configurações de tela\n",
    "\n",
    "screen = pygame.display.set_mode((600, 600))\n",
    "\n",
    "bg_color = (230, 230, 230)"
   ]
  },
  {
   "cell_type": "code",
   "execution_count": 3,
   "metadata": {
    "ExecuteTime": {
     "end_time": "2020-08-08T18:30:35.230854Z",
     "start_time": "2020-08-08T18:29:27.372044Z"
    }
   },
   "outputs": [],
   "source": [
    "x_position = 0\n",
    "\n",
    "try:\n",
    "    # forever\n",
    "    while True:    \n",
    "\n",
    "        # preencher fundo de tela\n",
    "        screen.fill(bg_color)\n",
    "\n",
    "        # colocar imagem no fundo de tela na posição x_position\n",
    "        image = pygame.image.load('space_ship.bmp')\n",
    "        \n",
    "        screen.blit(image, (x_position, 400,600,600))\n",
    "\n",
    "        # update screen\n",
    "        pygame.display.flip()\n",
    "except:\n",
    "    pygame.display.quit()"
   ]
  },
  {
   "cell_type": "code",
   "execution_count": 8,
   "metadata": {
    "ExecuteTime": {
     "end_time": "2020-08-08T18:31:43.186369Z",
     "start_time": "2020-08-08T18:31:43.177371Z"
    }
   },
   "outputs": [],
   "source": [
    "import pygame\n",
    "pygame.init()\n",
    "screen = pygame.display.set_mode((600, 600))\n",
    "bg_color = (230, 230, 230)"
   ]
  },
  {
   "cell_type": "code",
   "execution_count": 9,
   "metadata": {
    "ExecuteTime": {
     "end_time": "2020-08-08T18:31:47.455819Z",
     "start_time": "2020-08-08T18:31:47.449821Z"
    }
   },
   "outputs": [
    {
     "data": {
      "text/plain": [
       "[<Event(1-ActiveEvent {'gain': 1, 'state': 6})>,\n",
       " <Event(1-ActiveEvent {'gain': 0, 'state': 2})>,\n",
       " <Event(4-MouseMotion {'pos': (348, 476), 'rel': (-45, -1), 'buttons': (0, 0, 0), 'window': None})>,\n",
       " <Event(1-ActiveEvent {'gain': 1, 'state': 6})>,\n",
       " <Event(2-KeyDown {'unicode': 'a', 'key': 97, 'mod': 0, 'scancode': 30, 'window': None})>,\n",
       " <Event(2-KeyDown {'unicode': 's', 'key': 115, 'mod': 0, 'scancode': 31, 'window': None})>,\n",
       " <Event(2-KeyDown {'unicode': 'd', 'key': 100, 'mod': 0, 'scancode': 32, 'window': None})>,\n",
       " <Event(3-KeyUp {'key': 115, 'mod': 0, 'scancode': 31, 'window': None})>,\n",
       " <Event(3-KeyUp {'key': 97, 'mod': 0, 'scancode': 30, 'window': None})>,\n",
       " <Event(3-KeyUp {'key': 100, 'mod': 0, 'scancode': 32, 'window': None})>,\n",
       " <Event(1-ActiveEvent {'gain': 0, 'state': 2})>]"
      ]
     },
     "execution_count": 9,
     "metadata": {},
     "output_type": "execute_result"
    }
   ],
   "source": [
    "pygame.event.get()"
   ]
  },
  {
   "cell_type": "code",
   "execution_count": 3,
   "metadata": {
    "ExecuteTime": {
     "end_time": "2020-08-08T18:35:07.014622Z",
     "start_time": "2020-08-08T18:34:57.542620Z"
    }
   },
   "outputs": [],
   "source": [
    "import pygame\n",
    "pygame.init()\n",
    "\n",
    "# configurações de tela\n",
    "\n",
    "screen = pygame.display.set_mode((600, 600))\n",
    "bg_color = (230, 230, 230)\n",
    "\n",
    "x_position = 0\n",
    "\n",
    "try:\n",
    "    \n",
    "    # forever\n",
    "    while True:    \n",
    "\n",
    "        for event in pygame.event.get():\n",
    "            if event.type == pygame.KEYDOWN and event.key == pygame.K_RIGHT:\n",
    "                x_position += 20\n",
    "            if event.type == pygame.KEYDOWN and event.key == pygame.K_LEFT:\n",
    "                x_position -= 20\n",
    "\n",
    "        # preencher fundo de tela\n",
    "        screen.fill(bg_color)\n",
    "\n",
    "        # colocar imagem no fundo de tela na posição x_position\n",
    "        image = pygame.image.load('space_ship.bmp')\n",
    "        screen.blit(image, (x_position, 400,600,600))\n",
    "\n",
    "        # update screen\n",
    "        pygame.display.flip()\n",
    "except:\n",
    "    pygame.display.quit()"
   ]
  },
  {
   "cell_type": "code",
   "execution_count": 12,
   "metadata": {
    "ExecuteTime": {
     "end_time": "2020-08-08T18:48:22.227949Z",
     "start_time": "2020-08-08T18:46:17.484429Z"
    }
   },
   "outputs": [
    {
     "ename": "KeyboardInterrupt",
     "evalue": "",
     "output_type": "error",
     "traceback": [
      "\u001b[1;31m---------------------------------------------------------------------------\u001b[0m",
      "\u001b[1;31mKeyboardInterrupt\u001b[0m                         Traceback (most recent call last)",
      "\u001b[1;32m<ipython-input-12-6840ef31bc6d>\u001b[0m in \u001b[0;36m<module>\u001b[1;34m\u001b[0m\n\u001b[0;32m     64\u001b[0m \u001b[1;33m\u001b[0m\u001b[0m\n\u001b[0;32m     65\u001b[0m         \u001b[1;31m# colocar imagem no fundo de tela na posição x_position\u001b[0m\u001b[1;33m\u001b[0m\u001b[1;33m\u001b[0m\u001b[1;33m\u001b[0m\u001b[0m\n\u001b[1;32m---> 66\u001b[1;33m         \u001b[0mimage\u001b[0m \u001b[1;33m=\u001b[0m \u001b[0mpygame\u001b[0m\u001b[1;33m.\u001b[0m\u001b[0mimage\u001b[0m\u001b[1;33m.\u001b[0m\u001b[0mload\u001b[0m\u001b[1;33m(\u001b[0m\u001b[1;34m'test.png'\u001b[0m\u001b[1;33m)\u001b[0m\u001b[1;33m\u001b[0m\u001b[1;33m\u001b[0m\u001b[0m\n\u001b[0m\u001b[0;32m     67\u001b[0m         \u001b[0mscreen\u001b[0m\u001b[1;33m.\u001b[0m\u001b[0mblit\u001b[0m\u001b[1;33m(\u001b[0m\u001b[0mimage\u001b[0m\u001b[1;33m,\u001b[0m \u001b[1;33m(\u001b[0m\u001b[0mx_position\u001b[0m\u001b[1;33m,\u001b[0m \u001b[0my_position\u001b[0m\u001b[1;33m,\u001b[0m\u001b[1;36m600\u001b[0m\u001b[1;33m,\u001b[0m\u001b[1;36m600\u001b[0m\u001b[1;33m)\u001b[0m\u001b[1;33m)\u001b[0m\u001b[1;33m\u001b[0m\u001b[1;33m\u001b[0m\u001b[0m\n\u001b[0;32m     68\u001b[0m \u001b[1;33m\u001b[0m\u001b[0m\n",
      "\u001b[1;31mKeyboardInterrupt\u001b[0m: "
     ]
    }
   ],
   "source": [
    "pygame.init()\n",
    "screen = pygame.display.set_mode((600, 600))\n",
    "\n",
    "x_position = 0\n",
    "y_position = 400\n",
    "\n",
    "fl_moving_right = False\n",
    "fl_moving_left = False\n",
    "fl_moving_down = False\n",
    "fl_moving_up = False\n",
    "\n",
    "# forever\n",
    "try:\n",
    "    while True:    \n",
    "        \n",
    "        for event in pygame.event.get():\n",
    "            if event.type == pygame.KEYDOWN and event.key == pygame.K_RIGHT:\n",
    "                fl_moving_right = True\n",
    "            if event.type == pygame.KEYUP and event.key == pygame.K_RIGHT:\n",
    "                fl_moving_right = False\n",
    "\n",
    "            if event.type == pygame.KEYDOWN and event.key == pygame.K_LEFT:\n",
    "                fl_moving_left = True\n",
    "            if event.type == pygame.KEYUP and event.key == pygame.K_LEFT:\n",
    "                fl_moving_left = False\n",
    "                \n",
    "            if event.type == pygame.KEYDOWN and event.key == pygame.K_UP:\n",
    "                fl_moving_up = True\n",
    "            if event.type == pygame.KEYUP and event.key == pygame.K_UP:\n",
    "                fl_moving_up = False\n",
    "                \n",
    "            if event.type == pygame.KEYDOWN and event.key == pygame.K_DOWN:\n",
    "                fl_moving_down = True\n",
    "            if event.type == pygame.KEYUP and event.key == pygame.K_DOWN:\n",
    "                fl_moving_down = False\n",
    "                \n",
    "                \n",
    "        \n",
    "        # move permanently while flag is true\n",
    "        if fl_moving_right:\n",
    "            x_position += 1\n",
    "        if fl_moving_left:\n",
    "            x_position -= 1\n",
    "        if fl_moving_up:\n",
    "            y_position -= 1\n",
    "        if fl_moving_down:\n",
    "            y_position += 1\n",
    "            \n",
    "        # handle boundaries\n",
    "        if x_position > 600:\n",
    "            x_position = 0\n",
    "        if x_position < 0:\n",
    "            x_position = 600\n",
    "        if y_position > 600:\n",
    "            y_position = 0\n",
    "        if y_position < 0:\n",
    "            y_position = 600\n",
    "            \n",
    "            \n",
    "        # preencher fundo de tela\n",
    "        screen.fill(bg_color)\n",
    "\n",
    "        # colocar imagem no fundo de tela na posição x_position\n",
    "        image = pygame.image.load('test.png')\n",
    "        screen.blit(image, (x_position, y_position,600,600))\n",
    "\n",
    "        # update screen\n",
    "        pygame.display.flip()\n",
    "except Exception as err:\n",
    "    print(err)\n",
    "    pygame.display.quit()"
   ]
  },
  {
   "cell_type": "code",
   "execution_count": null,
   "metadata": {},
   "outputs": [],
   "source": []
  },
  {
   "cell_type": "code",
   "execution_count": null,
   "metadata": {},
   "outputs": [],
   "source": []
  },
  {
   "cell_type": "code",
   "execution_count": null,
   "metadata": {},
   "outputs": [],
   "source": []
  },
  {
   "cell_type": "code",
   "execution_count": null,
   "metadata": {},
   "outputs": [],
   "source": []
  },
  {
   "cell_type": "code",
   "execution_count": null,
   "metadata": {},
   "outputs": [],
   "source": []
  },
  {
   "cell_type": "code",
   "execution_count": null,
   "metadata": {},
   "outputs": [],
   "source": []
  },
  {
   "cell_type": "code",
   "execution_count": null,
   "metadata": {},
   "outputs": [],
   "source": []
  },
  {
   "cell_type": "code",
   "execution_count": null,
   "metadata": {},
   "outputs": [],
   "source": []
  },
  {
   "cell_type": "code",
   "execution_count": null,
   "metadata": {},
   "outputs": [],
   "source": []
  },
  {
   "cell_type": "code",
   "execution_count": null,
   "metadata": {},
   "outputs": [],
   "source": []
  },
  {
   "cell_type": "code",
   "execution_count": null,
   "metadata": {},
   "outputs": [],
   "source": []
  },
  {
   "cell_type": "code",
   "execution_count": null,
   "metadata": {},
   "outputs": [],
   "source": []
  },
  {
   "cell_type": "code",
   "execution_count": null,
   "metadata": {},
   "outputs": [],
   "source": []
  },
  {
   "cell_type": "code",
   "execution_count": null,
   "metadata": {},
   "outputs": [],
   "source": []
  },
  {
   "cell_type": "code",
   "execution_count": null,
   "metadata": {},
   "outputs": [],
   "source": []
  },
  {
   "cell_type": "code",
   "execution_count": null,
   "metadata": {},
   "outputs": [],
   "source": []
  },
  {
   "cell_type": "code",
   "execution_count": null,
   "metadata": {},
   "outputs": [],
   "source": []
  },
  {
   "cell_type": "code",
   "execution_count": null,
   "metadata": {},
   "outputs": [],
   "source": []
  },
  {
   "cell_type": "code",
   "execution_count": null,
   "metadata": {},
   "outputs": [],
   "source": []
  },
  {
   "cell_type": "code",
   "execution_count": null,
   "metadata": {},
   "outputs": [],
   "source": []
  },
  {
   "cell_type": "code",
   "execution_count": null,
   "metadata": {},
   "outputs": [],
   "source": []
  },
  {
   "cell_type": "code",
   "execution_count": null,
   "metadata": {},
   "outputs": [],
   "source": []
  },
  {
   "cell_type": "code",
   "execution_count": null,
   "metadata": {},
   "outputs": [],
   "source": []
  }
 ],
 "metadata": {
  "kernelspec": {
   "display_name": "Python 3",
   "language": "python",
   "name": "python3"
  },
  "language_info": {
   "codemirror_mode": {
    "name": "ipython",
    "version": 3
   },
   "file_extension": ".py",
   "mimetype": "text/x-python",
   "name": "python",
   "nbconvert_exporter": "python",
   "pygments_lexer": "ipython3",
   "version": "3.7.3"
  },
  "toc": {
   "base_numbering": 1,
   "nav_menu": {},
   "number_sections": true,
   "sideBar": true,
   "skip_h1_title": false,
   "title_cell": "Table of Contents",
   "title_sidebar": "Contents",
   "toc_cell": false,
   "toc_position": {},
   "toc_section_display": true,
   "toc_window_display": false
  }
 },
 "nbformat": 4,
 "nbformat_minor": 2
}
