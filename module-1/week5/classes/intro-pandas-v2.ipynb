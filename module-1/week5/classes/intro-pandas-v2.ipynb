{
 "cells": [
  {
   "cell_type": "markdown",
   "metadata": {},
   "source": [
    "# Pandas"
   ]
  },
  {
   "cell_type": "markdown",
   "metadata": {},
   "source": [
    "\n",
    "## Importing convetion"
   ]
  },
  {
   "cell_type": "code",
   "execution_count": null,
   "metadata": {
    "ExecuteTime": {
     "end_time": "2020-11-17T22:36:56.325533Z",
     "start_time": "2020-11-17T22:36:55.936625Z"
    }
   },
   "outputs": [],
   "source": [
    "import pandas as pd\n",
    "import numpy as np"
   ]
  },
  {
   "cell_type": "code",
   "execution_count": null,
   "metadata": {
    "ExecuteTime": {
     "end_time": "2020-07-29T17:24:50.635718Z",
     "start_time": "2020-07-29T17:24:47.808592Z"
    }
   },
   "outputs": [],
   "source": [
    "!pip install pandas --upgrade --user"
   ]
  },
  {
   "cell_type": "code",
   "execution_count": null,
   "metadata": {
    "ExecuteTime": {
     "end_time": "2020-11-17T22:37:03.614767Z",
     "start_time": "2020-11-17T22:37:03.601288Z"
    }
   },
   "outputs": [],
   "source": [
    "pd.__version__"
   ]
  },
  {
   "cell_type": "markdown",
   "metadata": {},
   "source": [
    "# What is Pandas?\n",
    "\n",
    "Pandas can be thought as an enhanced version of numpy arrays. In this case, the rows and columns can be identified with labels instead of just simple integer indices."
   ]
  },
  {
   "cell_type": "markdown",
   "metadata": {},
   "source": [
    "There are **three** main pandas elements we **need** to understand.\n",
    "1. Pandas Series\n",
    "2. Pandas DataFrame\n",
    "3. Index"
   ]
  },
  {
   "cell_type": "markdown",
   "metadata": {},
   "source": [
    "# The Pandas Series"
   ]
  },
  {
   "cell_type": "markdown",
   "metadata": {},
   "source": [
    "A pandas series is a one-dimensional (**1-D**) indexed array."
   ]
  },
  {
   "cell_type": "code",
   "execution_count": null,
   "metadata": {
    "ExecuteTime": {
     "end_time": "2020-11-17T22:48:44.980888Z",
     "start_time": "2020-11-17T22:48:44.962895Z"
    }
   },
   "outputs": [],
   "source": [
    "np.random.randint(1,10,size=2)"
   ]
  },
  {
   "cell_type": "code",
   "execution_count": null,
   "metadata": {
    "ExecuteTime": {
     "end_time": "2020-11-17T22:49:11.192562Z",
     "start_time": "2020-11-17T22:49:11.186518Z"
    }
   },
   "outputs": [],
   "source": [
    "np.array([1,2,3])"
   ]
  },
  {
   "cell_type": "code",
   "execution_count": null,
   "metadata": {
    "ExecuteTime": {
     "end_time": "2020-11-17T22:49:34.714990Z",
     "start_time": "2020-11-17T22:49:34.708749Z"
    }
   },
   "outputs": [],
   "source": [
    "pd"
   ]
  },
  {
   "cell_type": "code",
   "execution_count": null,
   "metadata": {
    "ExecuteTime": {
     "end_time": "2020-11-17T22:50:12.526629Z",
     "start_time": "2020-11-17T22:50:12.513652Z"
    }
   },
   "outputs": [],
   "source": [
    "pd.Series()"
   ]
  },
  {
   "cell_type": "markdown",
   "metadata": {},
   "source": [
    "## Creating a pandas Series from a list\n",
    "\n",
    "You'll start to recognize a pandas Series by its visual "
   ]
  },
  {
   "cell_type": "code",
   "execution_count": null,
   "metadata": {
    "ExecuteTime": {
     "end_time": "2020-11-17T22:53:28.511359Z",
     "start_time": "2020-11-17T22:53:28.506364Z"
    }
   },
   "outputs": [],
   "source": [
    "np.array([1,2,3])"
   ]
  },
  {
   "cell_type": "code",
   "execution_count": null,
   "metadata": {
    "ExecuteTime": {
     "end_time": "2020-11-17T22:50:42.532989Z",
     "start_time": "2020-11-17T22:50:42.523294Z"
    },
    "scrolled": true
   },
   "outputs": [],
   "source": [
    "pd.Series([5,8,3])"
   ]
  },
  {
   "cell_type": "markdown",
   "metadata": {},
   "source": [
    "`dtype` means the `data type` of what is inside your pandas Series."
   ]
  },
  {
   "cell_type": "code",
   "execution_count": null,
   "metadata": {
    "ExecuteTime": {
     "end_time": "2020-11-17T22:55:05.535974Z",
     "start_time": "2020-11-17T22:55:05.529989Z"
    }
   },
   "outputs": [],
   "source": [
    "# As in lists, you don't need to have all of the same type inside a pandas series\n",
    "\n",
    "pd.Series(['a', 2, 3])"
   ]
  },
  {
   "cell_type": "markdown",
   "metadata": {},
   "source": [
    "When you see `dtype: object`, it usually means you have a `str` inside your `Series`"
   ]
  },
  {
   "cell_type": "code",
   "execution_count": null,
   "metadata": {
    "ExecuteTime": {
     "end_time": "2020-11-17T22:56:28.341444Z",
     "start_time": "2020-11-17T22:56:28.337456Z"
    }
   },
   "outputs": [],
   "source": [
    "data = pd.Series([10,23,3,43,25,136])"
   ]
  },
  {
   "cell_type": "code",
   "execution_count": null,
   "metadata": {
    "ExecuteTime": {
     "end_time": "2020-11-17T22:56:31.486628Z",
     "start_time": "2020-11-17T22:56:31.481642Z"
    }
   },
   "outputs": [],
   "source": [
    "data"
   ]
  },
  {
   "cell_type": "code",
   "execution_count": null,
   "metadata": {
    "ExecuteTime": {
     "end_time": "2020-11-17T22:56:56.824576Z",
     "start_time": "2020-11-17T22:56:56.809095Z"
    }
   },
   "outputs": [],
   "source": [
    "type(data)"
   ]
  },
  {
   "cell_type": "markdown",
   "metadata": {},
   "source": [
    "So, the `type` of `data` is a `pandas...Series` and the types of the data inside the `pandas.Series` is `int`"
   ]
  },
  {
   "cell_type": "markdown",
   "metadata": {},
   "source": [
    "## Accessing elements \n",
    "\n",
    "Can be done like a numpy array. "
   ]
  },
  {
   "cell_type": "code",
   "execution_count": null,
   "metadata": {
    "ExecuteTime": {
     "end_time": "2020-11-17T22:57:29.775863Z",
     "start_time": "2020-11-17T22:57:29.761779Z"
    }
   },
   "outputs": [],
   "source": [
    "data"
   ]
  },
  {
   "cell_type": "code",
   "execution_count": null,
   "metadata": {
    "ExecuteTime": {
     "end_time": "2020-11-17T22:57:44.323601Z",
     "start_time": "2020-11-17T22:57:44.313606Z"
    }
   },
   "outputs": [],
   "source": [
    "data[0]"
   ]
  },
  {
   "cell_type": "code",
   "execution_count": null,
   "metadata": {
    "ExecuteTime": {
     "end_time": "2020-11-17T22:58:34.795767Z",
     "start_time": "2020-11-17T22:58:34.777816Z"
    },
    "scrolled": true
   },
   "outputs": [],
   "source": [
    "data[0:6]"
   ]
  },
  {
   "cell_type": "code",
   "execution_count": null,
   "metadata": {
    "ExecuteTime": {
     "end_time": "2020-11-17T22:58:41.878817Z",
     "start_time": "2020-11-17T22:58:41.865882Z"
    }
   },
   "outputs": [],
   "source": [
    "data[:]"
   ]
  },
  {
   "cell_type": "markdown",
   "metadata": {},
   "source": [
    "Em resumo: pandas series pode ser considerado uma numpy array de 1-D"
   ]
  },
  {
   "cell_type": "markdown",
   "metadata": {},
   "source": [
    "### What is the difference then? Numpy array vs Pandas Series"
   ]
  },
  {
   "cell_type": "markdown",
   "metadata": {},
   "source": [
    "Mostly the index notation.\n",
    "\n",
    "Numpy arrays only have the **implicit** index associated with its location. By using a **explicit** index notation, Pandas Series are much more flexible. For example:"
   ]
  },
  {
   "cell_type": "markdown",
   "metadata": {},
   "source": [
    "## Index don't need to be numbers."
   ]
  },
  {
   "cell_type": "code",
   "execution_count": 31,
   "metadata": {
    "ExecuteTime": {
     "end_time": "2020-11-17T23:07:22.233290Z",
     "start_time": "2020-11-17T23:07:22.216821Z"
    }
   },
   "outputs": [
    {
     "data": {
      "text/plain": [
       "Andre        1\n",
       "Raiana       2\n",
       "Guilherme    3\n",
       "Gisele       5\n",
       "Raiana       7\n",
       "Gabriel      9\n",
       "dtype: int64"
      ]
     },
     "execution_count": 31,
     "metadata": {},
     "output_type": "execute_result"
    }
   ],
   "source": [
    "my_series = pd.Series(index=['Andre','Raiana','Guilherme','Gisele','Raiana','Gabriel'],data=[1,2,3,5,7,9]) #index argument\n",
    "my_series"
   ]
  },
  {
   "cell_type": "markdown",
   "metadata": {},
   "source": [
    "## Index don't need to be in sequence"
   ]
  },
  {
   "cell_type": "code",
   "execution_count": 24,
   "metadata": {
    "ExecuteTime": {
     "end_time": "2020-11-17T23:04:38.991360Z",
     "start_time": "2020-11-17T23:04:38.977872Z"
    }
   },
   "outputs": [],
   "source": [
    "data = pd.Series(data=[1,2,3,4], \n",
    "                 index=[1,7,4313,19])"
   ]
  },
  {
   "cell_type": "code",
   "execution_count": 25,
   "metadata": {
    "ExecuteTime": {
     "end_time": "2020-11-17T23:04:39.224014Z",
     "start_time": "2020-11-17T23:04:39.209054Z"
    }
   },
   "outputs": [
    {
     "data": {
      "text/plain": [
       "1       1\n",
       "7       2\n",
       "4313    3\n",
       "19      4\n",
       "dtype: int64"
      ]
     },
     "execution_count": 25,
     "metadata": {},
     "output_type": "execute_result"
    }
   ],
   "source": [
    "data"
   ]
  },
  {
   "cell_type": "markdown",
   "metadata": {},
   "source": [
    "### Then how can I access these pandas series?"
   ]
  },
  {
   "cell_type": "code",
   "execution_count": 26,
   "metadata": {
    "ExecuteTime": {
     "end_time": "2020-11-17T23:05:01.010588Z",
     "start_time": "2020-11-17T23:05:01.001080Z"
    }
   },
   "outputs": [
    {
     "data": {
      "text/plain": [
       "Andre        1\n",
       "Raiana       2\n",
       "Guilherme    3\n",
       "Gisele       5\n",
       "Raiana       7\n",
       "Gabriel      9\n",
       "dtype: int64"
      ]
     },
     "execution_count": 26,
     "metadata": {},
     "output_type": "execute_result"
    }
   ],
   "source": [
    "my_series"
   ]
  },
  {
   "cell_type": "code",
   "execution_count": 27,
   "metadata": {
    "ExecuteTime": {
     "end_time": "2020-11-17T23:05:18.281098Z",
     "start_time": "2020-11-17T23:05:18.264140Z"
    }
   },
   "outputs": [
    {
     "data": {
      "text/plain": [
       "Raiana    2\n",
       "Raiana    7\n",
       "dtype: int64"
      ]
     },
     "execution_count": 27,
     "metadata": {},
     "output_type": "execute_result"
    }
   ],
   "source": [
    "my_series['Raiana']"
   ]
  },
  {
   "cell_type": "code",
   "execution_count": 28,
   "metadata": {
    "ExecuteTime": {
     "end_time": "2020-11-17T23:05:30.296208Z",
     "start_time": "2020-11-17T23:05:30.281249Z"
    }
   },
   "outputs": [
    {
     "data": {
      "text/plain": [
       "4.5"
      ]
     },
     "execution_count": 28,
     "metadata": {},
     "output_type": "execute_result"
    }
   ],
   "source": [
    "my_series['Raiana'].mean()"
   ]
  },
  {
   "cell_type": "markdown",
   "metadata": {},
   "source": [
    "**NOTE:** One can think of a pandas series, then, as a form of dictionary, in which the indexes are keys and the rows are the values"
   ]
  },
  {
   "cell_type": "code",
   "execution_count": 32,
   "metadata": {
    "ExecuteTime": {
     "end_time": "2020-11-17T23:07:45.977338Z",
     "start_time": "2020-11-17T23:07:45.969839Z"
    }
   },
   "outputs": [
    {
     "data": {
      "text/plain": [
       "Andre        1\n",
       "Raiana       2\n",
       "Guilherme    3\n",
       "Gisele       5\n",
       "Raiana       7\n",
       "Gabriel      9\n",
       "dtype: int64"
      ]
     },
     "execution_count": 32,
     "metadata": {},
     "output_type": "execute_result"
    }
   ],
   "source": [
    "my_series"
   ]
  },
  {
   "cell_type": "code",
   "execution_count": 33,
   "metadata": {
    "ExecuteTime": {
     "end_time": "2020-11-17T23:07:46.996980Z",
     "start_time": "2020-11-17T23:07:46.985093Z"
    }
   },
   "outputs": [
    {
     "data": {
      "text/plain": [
       "Index(['Andre', 'Raiana', 'Guilherme', 'Gisele', 'Raiana', 'Gabriel'], dtype='object')"
      ]
     },
     "execution_count": 33,
     "metadata": {},
     "output_type": "execute_result"
    }
   ],
   "source": [
    "my_series.keys()"
   ]
  },
  {
   "cell_type": "code",
   "execution_count": 37,
   "metadata": {
    "ExecuteTime": {
     "end_time": "2020-11-17T23:09:50.925218Z",
     "start_time": "2020-11-17T23:09:50.912806Z"
    }
   },
   "outputs": [
    {
     "data": {
      "text/plain": [
       "array([1, 2, 3, 5, 7, 9], dtype=int64)"
      ]
     },
     "execution_count": 37,
     "metadata": {},
     "output_type": "execute_result"
    }
   ],
   "source": [
    "my_series.values"
   ]
  },
  {
   "cell_type": "code",
   "execution_count": 35,
   "metadata": {
    "ExecuteTime": {
     "end_time": "2020-11-17T23:09:14.073244Z",
     "start_time": "2020-11-17T23:09:14.040726Z"
    }
   },
   "outputs": [
    {
     "data": {
      "text/plain": [
       "Andre         3\n",
       "Raiana        6\n",
       "Guilherme     9\n",
       "Gisele       15\n",
       "Raiana       21\n",
       "Gabriel      27\n",
       "dtype: int64"
      ]
     },
     "execution_count": 35,
     "metadata": {},
     "output_type": "execute_result"
    }
   ],
   "source": [
    "my_series * 3"
   ]
  },
  {
   "cell_type": "markdown",
   "metadata": {},
   "source": [
    "## Creating a pandas series from a dict."
   ]
  },
  {
   "cell_type": "code",
   "execution_count": 38,
   "metadata": {
    "ExecuteTime": {
     "end_time": "2020-11-17T23:10:36.179703Z",
     "start_time": "2020-11-17T23:10:36.175713Z"
    }
   },
   "outputs": [],
   "source": [
    "my_dict = {'RODRIGO': 20, \n",
    "           'ANDRE':10}"
   ]
  },
  {
   "cell_type": "code",
   "execution_count": 39,
   "metadata": {
    "ExecuteTime": {
     "end_time": "2020-11-17T23:10:38.113507Z",
     "start_time": "2020-11-17T23:10:38.104709Z"
    }
   },
   "outputs": [
    {
     "data": {
      "text/plain": [
       "{'RODRIGO': 20, 'ANDRE': 10}"
      ]
     },
     "execution_count": 39,
     "metadata": {},
     "output_type": "execute_result"
    }
   ],
   "source": [
    "my_dict"
   ]
  },
  {
   "cell_type": "code",
   "execution_count": 40,
   "metadata": {
    "ExecuteTime": {
     "end_time": "2020-11-17T23:10:39.428092Z",
     "start_time": "2020-11-17T23:10:39.416591Z"
    }
   },
   "outputs": [
    {
     "data": {
      "text/plain": [
       "RODRIGO    20\n",
       "ANDRE      10\n",
       "dtype: int64"
      ]
     },
     "execution_count": 40,
     "metadata": {},
     "output_type": "execute_result"
    }
   ],
   "source": [
    "pd.Series(my_dict)"
   ]
  },
  {
   "cell_type": "markdown",
   "metadata": {},
   "source": [
    "But what about > 1-D?\n"
   ]
  },
  {
   "cell_type": "markdown",
   "metadata": {},
   "source": [
    "# Pandas DataFrame\n"
   ]
  },
  {
   "cell_type": "markdown",
   "metadata": {},
   "source": [
    "Pandas Dataframes can be thought as a generalization of **2-D** numpy arrays. However, again, they bring flexibility on both the indices and column names."
   ]
  },
  {
   "cell_type": "code",
   "execution_count": 41,
   "metadata": {
    "ExecuteTime": {
     "end_time": "2020-11-17T23:11:15.881721Z",
     "start_time": "2020-11-17T23:11:15.872744Z"
    }
   },
   "outputs": [
    {
     "data": {
      "text/html": [
       "<div>\n",
       "<style scoped>\n",
       "    .dataframe tbody tr th:only-of-type {\n",
       "        vertical-align: middle;\n",
       "    }\n",
       "\n",
       "    .dataframe tbody tr th {\n",
       "        vertical-align: top;\n",
       "    }\n",
       "\n",
       "    .dataframe thead th {\n",
       "        text-align: right;\n",
       "    }\n",
       "</style>\n",
       "<table border=\"1\" class=\"dataframe\">\n",
       "  <thead>\n",
       "    <tr style=\"text-align: right;\">\n",
       "      <th></th>\n",
       "    </tr>\n",
       "  </thead>\n",
       "  <tbody>\n",
       "  </tbody>\n",
       "</table>\n",
       "</div>"
      ],
      "text/plain": [
       "Empty DataFrame\n",
       "Columns: []\n",
       "Index: []"
      ]
     },
     "execution_count": 41,
     "metadata": {},
     "output_type": "execute_result"
    }
   ],
   "source": [
    "pd.DataFrame()"
   ]
  },
  {
   "cell_type": "code",
   "execution_count": 42,
   "metadata": {
    "ExecuteTime": {
     "end_time": "2020-11-17T23:11:32.367126Z",
     "start_time": "2020-11-17T23:11:32.352150Z"
    }
   },
   "outputs": [
    {
     "data": {
      "text/plain": [
       "pandas.core.frame.DataFrame"
      ]
     },
     "execution_count": 42,
     "metadata": {},
     "output_type": "execute_result"
    }
   ],
   "source": [
    "type(pd.DataFrame())"
   ]
  },
  {
   "cell_type": "markdown",
   "metadata": {},
   "source": [
    "## Pandas DataFrame can be thought as a group of Pandas Series"
   ]
  },
  {
   "cell_type": "code",
   "execution_count": 43,
   "metadata": {
    "ExecuteTime": {
     "end_time": "2020-11-17T23:12:11.600675Z",
     "start_time": "2020-11-17T23:12:11.585306Z"
    }
   },
   "outputs": [],
   "source": [
    "my_dict = {'RODRIGO': 25, \n",
    "           'ANDRE':28}\n",
    "\n",
    "data = pd.Series(my_dict)"
   ]
  },
  {
   "cell_type": "code",
   "execution_count": 44,
   "metadata": {
    "ExecuteTime": {
     "end_time": "2020-11-17T23:12:13.405414Z",
     "start_time": "2020-11-17T23:12:13.392911Z"
    }
   },
   "outputs": [
    {
     "data": {
      "text/plain": [
       "RODRIGO    25\n",
       "ANDRE      28\n",
       "dtype: int64"
      ]
     },
     "execution_count": 44,
     "metadata": {},
     "output_type": "execute_result"
    }
   ],
   "source": [
    "data"
   ]
  },
  {
   "cell_type": "code",
   "execution_count": 45,
   "metadata": {
    "ExecuteTime": {
     "end_time": "2020-11-17T23:12:20.370605Z",
     "start_time": "2020-11-17T23:12:20.359870Z"
    }
   },
   "outputs": [],
   "source": [
    "another_dict = {'RODRIGO': 177,'ANDRE': 175}\n",
    "\n",
    "data_2 = pd.Series(another_dict)"
   ]
  },
  {
   "cell_type": "code",
   "execution_count": 46,
   "metadata": {
    "ExecuteTime": {
     "end_time": "2020-11-17T23:12:29.967274Z",
     "start_time": "2020-11-17T23:12:29.960291Z"
    }
   },
   "outputs": [
    {
     "data": {
      "text/plain": [
       "RODRIGO    177\n",
       "ANDRE      175\n",
       "dtype: int64"
      ]
     },
     "execution_count": 46,
     "metadata": {},
     "output_type": "execute_result"
    }
   ],
   "source": [
    "data_2"
   ]
  },
  {
   "cell_type": "code",
   "execution_count": 47,
   "metadata": {
    "ExecuteTime": {
     "end_time": "2020-11-17T23:12:36.108850Z",
     "start_time": "2020-11-17T23:12:36.096377Z"
    },
    "cell_style": "split",
    "scrolled": true
   },
   "outputs": [
    {
     "data": {
      "text/plain": [
       "Andre        1\n",
       "Raiana       2\n",
       "Guilherme    3\n",
       "Gisele       5\n",
       "Raiana       7\n",
       "Gabriel      9\n",
       "dtype: int64"
      ]
     },
     "execution_count": 47,
     "metadata": {},
     "output_type": "execute_result"
    }
   ],
   "source": [
    "my_series"
   ]
  },
  {
   "cell_type": "code",
   "execution_count": 48,
   "metadata": {
    "ExecuteTime": {
     "end_time": "2020-11-17T23:13:57.726212Z",
     "start_time": "2020-11-17T23:13:57.708236Z"
    },
    "cell_style": "split",
    "scrolled": true
   },
   "outputs": [
    {
     "data": {
      "text/plain": [
       "Andre        Professor\n",
       "Raiana              TA\n",
       "Guilherme         Prof\n",
       "Gisele           Aluno\n",
       "Raiana           Aluna\n",
       "Gabriel          Aluna\n",
       "dtype: object"
      ]
     },
     "execution_count": 48,
     "metadata": {},
     "output_type": "execute_result"
    }
   ],
   "source": [
    "my_series2 = pd.Series(['Professor','TA','Prof','Aluno','Aluna','Aluna'], index=['Andre','Raiana','Guilherme','Gisele','Raiana','Gabriel'])\n",
    "my_series2"
   ]
  },
  {
   "cell_type": "code",
   "execution_count": 49,
   "metadata": {
    "ExecuteTime": {
     "end_time": "2020-11-17T23:14:20.121077Z",
     "start_time": "2020-11-17T23:14:20.104599Z"
    }
   },
   "outputs": [
    {
     "data": {
      "text/plain": [
       "{'nota': Andre        1\n",
       " Raiana       2\n",
       " Guilherme    3\n",
       " Gisele       5\n",
       " Raiana       7\n",
       " Gabriel      9\n",
       " dtype: int64,\n",
       " 'cargo': Andre        Professor\n",
       " Raiana              TA\n",
       " Guilherme         Prof\n",
       " Gisele           Aluno\n",
       " Raiana           Aluna\n",
       " Gabriel          Aluna\n",
       " dtype: object}"
      ]
     },
     "execution_count": 49,
     "metadata": {},
     "output_type": "execute_result"
    }
   ],
   "source": [
    "my_dict = {'nota': my_series, 'cargo': my_series2}\n",
    "my_dict"
   ]
  },
  {
   "cell_type": "code",
   "execution_count": 156,
   "metadata": {
    "ExecuteTime": {
     "end_time": "2020-11-18T00:13:48.547147Z",
     "start_time": "2020-11-18T00:13:48.542160Z"
    },
    "cell_style": "split"
   },
   "outputs": [],
   "source": [
    "df_2=pd.DataFrame(my_dict)#.describe()"
   ]
  },
  {
   "cell_type": "code",
   "execution_count": 53,
   "metadata": {
    "ExecuteTime": {
     "end_time": "2020-11-17T23:17:16.735402Z",
     "start_time": "2020-11-17T23:17:16.722437Z"
    },
    "cell_style": "split"
   },
   "outputs": [
    {
     "data": {
      "text/html": [
       "<div>\n",
       "<style scoped>\n",
       "    .dataframe tbody tr th:only-of-type {\n",
       "        vertical-align: middle;\n",
       "    }\n",
       "\n",
       "    .dataframe tbody tr th {\n",
       "        vertical-align: top;\n",
       "    }\n",
       "\n",
       "    .dataframe thead th {\n",
       "        text-align: right;\n",
       "    }\n",
       "</style>\n",
       "<table border=\"1\" class=\"dataframe\">\n",
       "  <thead>\n",
       "    <tr style=\"text-align: right;\">\n",
       "      <th></th>\n",
       "      <th>nota</th>\n",
       "    </tr>\n",
       "  </thead>\n",
       "  <tbody>\n",
       "    <tr>\n",
       "      <th>count</th>\n",
       "      <td>6.000000</td>\n",
       "    </tr>\n",
       "    <tr>\n",
       "      <th>mean</th>\n",
       "      <td>4.500000</td>\n",
       "    </tr>\n",
       "    <tr>\n",
       "      <th>std</th>\n",
       "      <td>3.082207</td>\n",
       "    </tr>\n",
       "    <tr>\n",
       "      <th>min</th>\n",
       "      <td>1.000000</td>\n",
       "    </tr>\n",
       "    <tr>\n",
       "      <th>25%</th>\n",
       "      <td>2.250000</td>\n",
       "    </tr>\n",
       "    <tr>\n",
       "      <th>50%</th>\n",
       "      <td>4.000000</td>\n",
       "    </tr>\n",
       "    <tr>\n",
       "      <th>75%</th>\n",
       "      <td>6.500000</td>\n",
       "    </tr>\n",
       "    <tr>\n",
       "      <th>max</th>\n",
       "      <td>9.000000</td>\n",
       "    </tr>\n",
       "  </tbody>\n",
       "</table>\n",
       "</div>"
      ],
      "text/plain": [
       "           nota\n",
       "count  6.000000\n",
       "mean   4.500000\n",
       "std    3.082207\n",
       "min    1.000000\n",
       "25%    2.250000\n",
       "50%    4.000000\n",
       "75%    6.500000\n",
       "max    9.000000"
      ]
     },
     "execution_count": 53,
     "metadata": {},
     "output_type": "execute_result"
    }
   ],
   "source": [
    "pd.DataFrame(my_dict).describe()"
   ]
  },
  {
   "cell_type": "markdown",
   "metadata": {},
   "source": [
    "# Create dataframe as a collection of Series"
   ]
  },
  {
   "cell_type": "code",
   "execution_count": 54,
   "metadata": {
    "ExecuteTime": {
     "end_time": "2020-11-17T23:18:07.677311Z",
     "start_time": "2020-11-17T23:18:07.664346Z"
    }
   },
   "outputs": [
    {
     "data": {
      "text/plain": [
       "{'idade': RODRIGO    25\n",
       " ANDRE      28\n",
       " dtype: int64,\n",
       " 'altura': RODRIGO    177\n",
       " ANDRE      175\n",
       " dtype: int64}"
      ]
     },
     "execution_count": 54,
     "metadata": {},
     "output_type": "execute_result"
    }
   ],
   "source": [
    "{'idade':data, 'altura':data_2}"
   ]
  },
  {
   "cell_type": "code",
   "execution_count": 77,
   "metadata": {
    "ExecuteTime": {
     "end_time": "2020-11-17T23:28:26.871246Z",
     "start_time": "2020-11-17T23:28:26.856274Z"
    }
   },
   "outputs": [
    {
     "data": {
      "text/html": [
       "<div>\n",
       "<style scoped>\n",
       "    .dataframe tbody tr th:only-of-type {\n",
       "        vertical-align: middle;\n",
       "    }\n",
       "\n",
       "    .dataframe tbody tr th {\n",
       "        vertical-align: top;\n",
       "    }\n",
       "\n",
       "    .dataframe thead th {\n",
       "        text-align: right;\n",
       "    }\n",
       "</style>\n",
       "<table border=\"1\" class=\"dataframe\">\n",
       "  <thead>\n",
       "    <tr style=\"text-align: right;\">\n",
       "      <th></th>\n",
       "      <th>idade</th>\n",
       "      <th>altura muito louca</th>\n",
       "    </tr>\n",
       "  </thead>\n",
       "  <tbody>\n",
       "    <tr>\n",
       "      <th>RODRIGO</th>\n",
       "      <td>25</td>\n",
       "      <td>177</td>\n",
       "    </tr>\n",
       "    <tr>\n",
       "      <th>ANDRE</th>\n",
       "      <td>28</td>\n",
       "      <td>175</td>\n",
       "    </tr>\n",
       "  </tbody>\n",
       "</table>\n",
       "</div>"
      ],
      "text/plain": [
       "         idade  altura muito louca \n",
       "RODRIGO     25                  177\n",
       "ANDRE       28                  175"
      ]
     },
     "execution_count": 77,
     "metadata": {},
     "output_type": "execute_result"
    }
   ],
   "source": [
    "my_dataframe = pd.DataFrame({'idade':data, 'altura muito louca ':data_2})\n",
    "my_dataframe "
   ]
  },
  {
   "cell_type": "markdown",
   "metadata": {},
   "source": [
    "**NOTE:**: So a dataframe can be thought of as a dictionary, in which `keys` are the `column names` and `values` are the `pandas Series` themselves"
   ]
  },
  {
   "cell_type": "code",
   "execution_count": 71,
   "metadata": {
    "ExecuteTime": {
     "end_time": "2020-11-17T23:25:09.811365Z",
     "start_time": "2020-11-17T23:25:09.806377Z"
    }
   },
   "outputs": [
    {
     "data": {
      "text/plain": [
       "RODRIGO    177\n",
       "ANDRE      175\n",
       "Name: altura, dtype: int64"
      ]
     },
     "execution_count": 71,
     "metadata": {},
     "output_type": "execute_result"
    }
   ],
   "source": [
    "my_dataframe['altura']"
   ]
  },
  {
   "cell_type": "code",
   "execution_count": 66,
   "metadata": {
    "ExecuteTime": {
     "end_time": "2020-11-17T23:22:55.008641Z",
     "start_time": "2020-11-17T23:22:54.990659Z"
    }
   },
   "outputs": [
    {
     "data": {
      "text/plain": [
       "RODRIGO    177\n",
       "ANDRE      175\n",
       "Name: altura, dtype: int64"
      ]
     },
     "execution_count": 66,
     "metadata": {},
     "output_type": "execute_result"
    }
   ],
   "source": [
    "my_dataframe.altura"
   ]
  },
  {
   "cell_type": "code",
   "execution_count": 80,
   "metadata": {
    "ExecuteTime": {
     "end_time": "2020-11-17T23:29:10.828604Z",
     "start_time": "2020-11-17T23:29:10.822620Z"
    }
   },
   "outputs": [],
   "source": [
    "my_dataframe.columns= ['idade', 'altura']"
   ]
  },
  {
   "cell_type": "code",
   "execution_count": 78,
   "metadata": {
    "ExecuteTime": {
     "end_time": "2020-11-17T23:28:30.760865Z",
     "start_time": "2020-11-17T23:28:30.757872Z"
    }
   },
   "outputs": [],
   "source": [
    "new_columns=[]\n",
    "for c in my_dataframe.columns:\n",
    "    new_columns.append(c.strip())\n",
    "my_dataframe.columns=new_columns"
   ]
  },
  {
   "cell_type": "code",
   "execution_count": 79,
   "metadata": {
    "ExecuteTime": {
     "end_time": "2020-11-17T23:28:39.861431Z",
     "start_time": "2020-11-17T23:28:39.853954Z"
    }
   },
   "outputs": [
    {
     "data": {
      "text/plain": [
       "['idade', 'altura muito louca']"
      ]
     },
     "execution_count": 79,
     "metadata": {},
     "output_type": "execute_result"
    }
   ],
   "source": [
    "new_columns"
   ]
  },
  {
   "cell_type": "markdown",
   "metadata": {},
   "source": [
    "# `Access` Methods: Accessing dataframes rows and columns\n",
    "\n",
    "These are the correct way to access data in a dataframe. You can specify both row and column. You can also specify only row."
   ]
  },
  {
   "cell_type": "code",
   "execution_count": 81,
   "metadata": {
    "ExecuteTime": {
     "end_time": "2020-11-17T23:29:41.304030Z",
     "start_time": "2020-11-17T23:29:41.286061Z"
    }
   },
   "outputs": [
    {
     "data": {
      "text/html": [
       "<div>\n",
       "<style scoped>\n",
       "    .dataframe tbody tr th:only-of-type {\n",
       "        vertical-align: middle;\n",
       "    }\n",
       "\n",
       "    .dataframe tbody tr th {\n",
       "        vertical-align: top;\n",
       "    }\n",
       "\n",
       "    .dataframe thead th {\n",
       "        text-align: right;\n",
       "    }\n",
       "</style>\n",
       "<table border=\"1\" class=\"dataframe\">\n",
       "  <thead>\n",
       "    <tr style=\"text-align: right;\">\n",
       "      <th></th>\n",
       "      <th>idade</th>\n",
       "      <th>altura</th>\n",
       "    </tr>\n",
       "  </thead>\n",
       "  <tbody>\n",
       "    <tr>\n",
       "      <th>RODRIGO</th>\n",
       "      <td>25</td>\n",
       "      <td>177</td>\n",
       "    </tr>\n",
       "    <tr>\n",
       "      <th>ANDRE</th>\n",
       "      <td>28</td>\n",
       "      <td>175</td>\n",
       "    </tr>\n",
       "  </tbody>\n",
       "</table>\n",
       "</div>"
      ],
      "text/plain": [
       "         idade  altura\n",
       "RODRIGO     25     177\n",
       "ANDRE       28     175"
      ]
     },
     "execution_count": 81,
     "metadata": {},
     "output_type": "execute_result"
    }
   ],
   "source": [
    "my_dataframe"
   ]
  },
  {
   "cell_type": "markdown",
   "metadata": {
    "ExecuteTime": {
     "end_time": "2020-07-29T17:52:37.678499Z",
     "start_time": "2020-07-29T17:52:37.676498Z"
    }
   },
   "source": [
    "## `dataframe.loc[row_name, col_name]`"
   ]
  },
  {
   "cell_type": "code",
   "execution_count": 116,
   "metadata": {
    "ExecuteTime": {
     "end_time": "2020-11-17T23:59:13.056129Z",
     "start_time": "2020-11-17T23:59:13.016242Z"
    }
   },
   "outputs": [
    {
     "ename": "KeyError",
     "evalue": "0",
     "output_type": "error",
     "traceback": [
      "\u001b[1;31m---------------------------------------------------------------------------\u001b[0m",
      "\u001b[1;31mKeyError\u001b[0m                                  Traceback (most recent call last)",
      "\u001b[1;32mc:\\users\\raian\\appdata\\local\\programs\\python\\python39\\lib\\site-packages\\pandas\\core\\indexes\\base.py\u001b[0m in \u001b[0;36mget_loc\u001b[1;34m(self, key, method, tolerance)\u001b[0m\n\u001b[0;32m   2894\u001b[0m             \u001b[1;32mtry\u001b[0m\u001b[1;33m:\u001b[0m\u001b[1;33m\u001b[0m\u001b[1;33m\u001b[0m\u001b[0m\n\u001b[1;32m-> 2895\u001b[1;33m                 \u001b[1;32mreturn\u001b[0m \u001b[0mself\u001b[0m\u001b[1;33m.\u001b[0m\u001b[0m_engine\u001b[0m\u001b[1;33m.\u001b[0m\u001b[0mget_loc\u001b[0m\u001b[1;33m(\u001b[0m\u001b[0mcasted_key\u001b[0m\u001b[1;33m)\u001b[0m\u001b[1;33m\u001b[0m\u001b[1;33m\u001b[0m\u001b[0m\n\u001b[0m\u001b[0;32m   2896\u001b[0m             \u001b[1;32mexcept\u001b[0m \u001b[0mKeyError\u001b[0m \u001b[1;32mas\u001b[0m \u001b[0merr\u001b[0m\u001b[1;33m:\u001b[0m\u001b[1;33m\u001b[0m\u001b[1;33m\u001b[0m\u001b[0m\n",
      "\u001b[1;32mpandas\\_libs\\index.pyx\u001b[0m in \u001b[0;36mpandas._libs.index.IndexEngine.get_loc\u001b[1;34m()\u001b[0m\n",
      "\u001b[1;32mpandas\\_libs\\index.pyx\u001b[0m in \u001b[0;36mpandas._libs.index.IndexEngine.get_loc\u001b[1;34m()\u001b[0m\n",
      "\u001b[1;32mpandas\\_libs\\hashtable_class_helper.pxi\u001b[0m in \u001b[0;36mpandas._libs.hashtable.PyObjectHashTable.get_item\u001b[1;34m()\u001b[0m\n",
      "\u001b[1;32mpandas\\_libs\\hashtable_class_helper.pxi\u001b[0m in \u001b[0;36mpandas._libs.hashtable.PyObjectHashTable.get_item\u001b[1;34m()\u001b[0m\n",
      "\u001b[1;31mKeyError\u001b[0m: 0",
      "\nThe above exception was the direct cause of the following exception:\n",
      "\u001b[1;31mKeyError\u001b[0m                                  Traceback (most recent call last)",
      "\u001b[1;32m<ipython-input-116-80f3f762290d>\u001b[0m in \u001b[0;36m<module>\u001b[1;34m\u001b[0m\n\u001b[1;32m----> 1\u001b[1;33m \u001b[0mmy_dataframe\u001b[0m\u001b[1;33m.\u001b[0m\u001b[0mloc\u001b[0m\u001b[1;33m[\u001b[0m\u001b[1;36m0\u001b[0m\u001b[1;33m,\u001b[0m \u001b[1;34m'idade'\u001b[0m\u001b[1;33m]\u001b[0m\u001b[1;33m\u001b[0m\u001b[1;33m\u001b[0m\u001b[0m\n\u001b[0m",
      "\u001b[1;32mc:\\users\\raian\\appdata\\local\\programs\\python\\python39\\lib\\site-packages\\pandas\\core\\indexing.py\u001b[0m in \u001b[0;36m__getitem__\u001b[1;34m(self, key)\u001b[0m\n\u001b[0;32m    871\u001b[0m                     \u001b[1;31m# AttributeError for IntervalTree get_value\u001b[0m\u001b[1;33m\u001b[0m\u001b[1;33m\u001b[0m\u001b[1;33m\u001b[0m\u001b[0m\n\u001b[0;32m    872\u001b[0m                     \u001b[1;32mpass\u001b[0m\u001b[1;33m\u001b[0m\u001b[1;33m\u001b[0m\u001b[0m\n\u001b[1;32m--> 873\u001b[1;33m             \u001b[1;32mreturn\u001b[0m \u001b[0mself\u001b[0m\u001b[1;33m.\u001b[0m\u001b[0m_getitem_tuple\u001b[0m\u001b[1;33m(\u001b[0m\u001b[0mkey\u001b[0m\u001b[1;33m)\u001b[0m\u001b[1;33m\u001b[0m\u001b[1;33m\u001b[0m\u001b[0m\n\u001b[0m\u001b[0;32m    874\u001b[0m         \u001b[1;32melse\u001b[0m\u001b[1;33m:\u001b[0m\u001b[1;33m\u001b[0m\u001b[1;33m\u001b[0m\u001b[0m\n\u001b[0;32m    875\u001b[0m             \u001b[1;31m# we by definition only have the 0th axis\u001b[0m\u001b[1;33m\u001b[0m\u001b[1;33m\u001b[0m\u001b[1;33m\u001b[0m\u001b[0m\n",
      "\u001b[1;32mc:\\users\\raian\\appdata\\local\\programs\\python\\python39\\lib\\site-packages\\pandas\\core\\indexing.py\u001b[0m in \u001b[0;36m_getitem_tuple\u001b[1;34m(self, tup)\u001b[0m\n\u001b[0;32m   1042\u001b[0m     \u001b[1;32mdef\u001b[0m \u001b[0m_getitem_tuple\u001b[0m\u001b[1;33m(\u001b[0m\u001b[0mself\u001b[0m\u001b[1;33m,\u001b[0m \u001b[0mtup\u001b[0m\u001b[1;33m:\u001b[0m \u001b[0mTuple\u001b[0m\u001b[1;33m)\u001b[0m\u001b[1;33m:\u001b[0m\u001b[1;33m\u001b[0m\u001b[1;33m\u001b[0m\u001b[0m\n\u001b[0;32m   1043\u001b[0m         \u001b[1;32mtry\u001b[0m\u001b[1;33m:\u001b[0m\u001b[1;33m\u001b[0m\u001b[1;33m\u001b[0m\u001b[0m\n\u001b[1;32m-> 1044\u001b[1;33m             \u001b[1;32mreturn\u001b[0m \u001b[0mself\u001b[0m\u001b[1;33m.\u001b[0m\u001b[0m_getitem_lowerdim\u001b[0m\u001b[1;33m(\u001b[0m\u001b[0mtup\u001b[0m\u001b[1;33m)\u001b[0m\u001b[1;33m\u001b[0m\u001b[1;33m\u001b[0m\u001b[0m\n\u001b[0m\u001b[0;32m   1045\u001b[0m         \u001b[1;32mexcept\u001b[0m \u001b[0mIndexingError\u001b[0m\u001b[1;33m:\u001b[0m\u001b[1;33m\u001b[0m\u001b[1;33m\u001b[0m\u001b[0m\n\u001b[0;32m   1046\u001b[0m             \u001b[1;32mpass\u001b[0m\u001b[1;33m\u001b[0m\u001b[1;33m\u001b[0m\u001b[0m\n",
      "\u001b[1;32mc:\\users\\raian\\appdata\\local\\programs\\python\\python39\\lib\\site-packages\\pandas\\core\\indexing.py\u001b[0m in \u001b[0;36m_getitem_lowerdim\u001b[1;34m(self, tup)\u001b[0m\n\u001b[0;32m    784\u001b[0m                 \u001b[1;31m# We don't need to check for tuples here because those are\u001b[0m\u001b[1;33m\u001b[0m\u001b[1;33m\u001b[0m\u001b[1;33m\u001b[0m\u001b[0m\n\u001b[0;32m    785\u001b[0m                 \u001b[1;31m#  caught by the _is_nested_tuple_indexer check above.\u001b[0m\u001b[1;33m\u001b[0m\u001b[1;33m\u001b[0m\u001b[1;33m\u001b[0m\u001b[0m\n\u001b[1;32m--> 786\u001b[1;33m                 \u001b[0msection\u001b[0m \u001b[1;33m=\u001b[0m \u001b[0mself\u001b[0m\u001b[1;33m.\u001b[0m\u001b[0m_getitem_axis\u001b[0m\u001b[1;33m(\u001b[0m\u001b[0mkey\u001b[0m\u001b[1;33m,\u001b[0m \u001b[0maxis\u001b[0m\u001b[1;33m=\u001b[0m\u001b[0mi\u001b[0m\u001b[1;33m)\u001b[0m\u001b[1;33m\u001b[0m\u001b[1;33m\u001b[0m\u001b[0m\n\u001b[0m\u001b[0;32m    787\u001b[0m \u001b[1;33m\u001b[0m\u001b[0m\n\u001b[0;32m    788\u001b[0m                 \u001b[1;31m# We should never have a scalar section here, because\u001b[0m\u001b[1;33m\u001b[0m\u001b[1;33m\u001b[0m\u001b[1;33m\u001b[0m\u001b[0m\n",
      "\u001b[1;32mc:\\users\\raian\\appdata\\local\\programs\\python\\python39\\lib\\site-packages\\pandas\\core\\indexing.py\u001b[0m in \u001b[0;36m_getitem_axis\u001b[1;34m(self, key, axis)\u001b[0m\n\u001b[0;32m   1108\u001b[0m         \u001b[1;31m# fall thru to straight lookup\u001b[0m\u001b[1;33m\u001b[0m\u001b[1;33m\u001b[0m\u001b[1;33m\u001b[0m\u001b[0m\n\u001b[0;32m   1109\u001b[0m         \u001b[0mself\u001b[0m\u001b[1;33m.\u001b[0m\u001b[0m_validate_key\u001b[0m\u001b[1;33m(\u001b[0m\u001b[0mkey\u001b[0m\u001b[1;33m,\u001b[0m \u001b[0maxis\u001b[0m\u001b[1;33m)\u001b[0m\u001b[1;33m\u001b[0m\u001b[1;33m\u001b[0m\u001b[0m\n\u001b[1;32m-> 1110\u001b[1;33m         \u001b[1;32mreturn\u001b[0m \u001b[0mself\u001b[0m\u001b[1;33m.\u001b[0m\u001b[0m_get_label\u001b[0m\u001b[1;33m(\u001b[0m\u001b[0mkey\u001b[0m\u001b[1;33m,\u001b[0m \u001b[0maxis\u001b[0m\u001b[1;33m=\u001b[0m\u001b[0maxis\u001b[0m\u001b[1;33m)\u001b[0m\u001b[1;33m\u001b[0m\u001b[1;33m\u001b[0m\u001b[0m\n\u001b[0m\u001b[0;32m   1111\u001b[0m \u001b[1;33m\u001b[0m\u001b[0m\n\u001b[0;32m   1112\u001b[0m     \u001b[1;32mdef\u001b[0m \u001b[0m_get_slice_axis\u001b[0m\u001b[1;33m(\u001b[0m\u001b[0mself\u001b[0m\u001b[1;33m,\u001b[0m \u001b[0mslice_obj\u001b[0m\u001b[1;33m:\u001b[0m \u001b[0mslice\u001b[0m\u001b[1;33m,\u001b[0m \u001b[0maxis\u001b[0m\u001b[1;33m:\u001b[0m \u001b[0mint\u001b[0m\u001b[1;33m)\u001b[0m\u001b[1;33m:\u001b[0m\u001b[1;33m\u001b[0m\u001b[1;33m\u001b[0m\u001b[0m\n",
      "\u001b[1;32mc:\\users\\raian\\appdata\\local\\programs\\python\\python39\\lib\\site-packages\\pandas\\core\\indexing.py\u001b[0m in \u001b[0;36m_get_label\u001b[1;34m(self, label, axis)\u001b[0m\n\u001b[0;32m   1057\u001b[0m     \u001b[1;32mdef\u001b[0m \u001b[0m_get_label\u001b[0m\u001b[1;33m(\u001b[0m\u001b[0mself\u001b[0m\u001b[1;33m,\u001b[0m \u001b[0mlabel\u001b[0m\u001b[1;33m,\u001b[0m \u001b[0maxis\u001b[0m\u001b[1;33m:\u001b[0m \u001b[0mint\u001b[0m\u001b[1;33m)\u001b[0m\u001b[1;33m:\u001b[0m\u001b[1;33m\u001b[0m\u001b[1;33m\u001b[0m\u001b[0m\n\u001b[0;32m   1058\u001b[0m         \u001b[1;31m# GH#5667 this will fail if the label is not present in the axis.\u001b[0m\u001b[1;33m\u001b[0m\u001b[1;33m\u001b[0m\u001b[1;33m\u001b[0m\u001b[0m\n\u001b[1;32m-> 1059\u001b[1;33m         \u001b[1;32mreturn\u001b[0m \u001b[0mself\u001b[0m\u001b[1;33m.\u001b[0m\u001b[0mobj\u001b[0m\u001b[1;33m.\u001b[0m\u001b[0mxs\u001b[0m\u001b[1;33m(\u001b[0m\u001b[0mlabel\u001b[0m\u001b[1;33m,\u001b[0m \u001b[0maxis\u001b[0m\u001b[1;33m=\u001b[0m\u001b[0maxis\u001b[0m\u001b[1;33m)\u001b[0m\u001b[1;33m\u001b[0m\u001b[1;33m\u001b[0m\u001b[0m\n\u001b[0m\u001b[0;32m   1060\u001b[0m \u001b[1;33m\u001b[0m\u001b[0m\n\u001b[0;32m   1061\u001b[0m     \u001b[1;32mdef\u001b[0m \u001b[0m_handle_lowerdim_multi_index_axis0\u001b[0m\u001b[1;33m(\u001b[0m\u001b[0mself\u001b[0m\u001b[1;33m,\u001b[0m \u001b[0mtup\u001b[0m\u001b[1;33m:\u001b[0m \u001b[0mTuple\u001b[0m\u001b[1;33m)\u001b[0m\u001b[1;33m:\u001b[0m\u001b[1;33m\u001b[0m\u001b[1;33m\u001b[0m\u001b[0m\n",
      "\u001b[1;32mc:\\users\\raian\\appdata\\local\\programs\\python\\python39\\lib\\site-packages\\pandas\\core\\generic.py\u001b[0m in \u001b[0;36mxs\u001b[1;34m(self, key, axis, level, drop_level)\u001b[0m\n\u001b[0;32m   3489\u001b[0m             \u001b[0mloc\u001b[0m\u001b[1;33m,\u001b[0m \u001b[0mnew_index\u001b[0m \u001b[1;33m=\u001b[0m \u001b[0mself\u001b[0m\u001b[1;33m.\u001b[0m\u001b[0mindex\u001b[0m\u001b[1;33m.\u001b[0m\u001b[0mget_loc_level\u001b[0m\u001b[1;33m(\u001b[0m\u001b[0mkey\u001b[0m\u001b[1;33m,\u001b[0m \u001b[0mdrop_level\u001b[0m\u001b[1;33m=\u001b[0m\u001b[0mdrop_level\u001b[0m\u001b[1;33m)\u001b[0m\u001b[1;33m\u001b[0m\u001b[1;33m\u001b[0m\u001b[0m\n\u001b[0;32m   3490\u001b[0m         \u001b[1;32melse\u001b[0m\u001b[1;33m:\u001b[0m\u001b[1;33m\u001b[0m\u001b[1;33m\u001b[0m\u001b[0m\n\u001b[1;32m-> 3491\u001b[1;33m             \u001b[0mloc\u001b[0m \u001b[1;33m=\u001b[0m \u001b[0mself\u001b[0m\u001b[1;33m.\u001b[0m\u001b[0mindex\u001b[0m\u001b[1;33m.\u001b[0m\u001b[0mget_loc\u001b[0m\u001b[1;33m(\u001b[0m\u001b[0mkey\u001b[0m\u001b[1;33m)\u001b[0m\u001b[1;33m\u001b[0m\u001b[1;33m\u001b[0m\u001b[0m\n\u001b[0m\u001b[0;32m   3492\u001b[0m \u001b[1;33m\u001b[0m\u001b[0m\n\u001b[0;32m   3493\u001b[0m             \u001b[1;32mif\u001b[0m \u001b[0misinstance\u001b[0m\u001b[1;33m(\u001b[0m\u001b[0mloc\u001b[0m\u001b[1;33m,\u001b[0m \u001b[0mnp\u001b[0m\u001b[1;33m.\u001b[0m\u001b[0mndarray\u001b[0m\u001b[1;33m)\u001b[0m\u001b[1;33m:\u001b[0m\u001b[1;33m\u001b[0m\u001b[1;33m\u001b[0m\u001b[0m\n",
      "\u001b[1;32mc:\\users\\raian\\appdata\\local\\programs\\python\\python39\\lib\\site-packages\\pandas\\core\\indexes\\base.py\u001b[0m in \u001b[0;36mget_loc\u001b[1;34m(self, key, method, tolerance)\u001b[0m\n\u001b[0;32m   2895\u001b[0m                 \u001b[1;32mreturn\u001b[0m \u001b[0mself\u001b[0m\u001b[1;33m.\u001b[0m\u001b[0m_engine\u001b[0m\u001b[1;33m.\u001b[0m\u001b[0mget_loc\u001b[0m\u001b[1;33m(\u001b[0m\u001b[0mcasted_key\u001b[0m\u001b[1;33m)\u001b[0m\u001b[1;33m\u001b[0m\u001b[1;33m\u001b[0m\u001b[0m\n\u001b[0;32m   2896\u001b[0m             \u001b[1;32mexcept\u001b[0m \u001b[0mKeyError\u001b[0m \u001b[1;32mas\u001b[0m \u001b[0merr\u001b[0m\u001b[1;33m:\u001b[0m\u001b[1;33m\u001b[0m\u001b[1;33m\u001b[0m\u001b[0m\n\u001b[1;32m-> 2897\u001b[1;33m                 \u001b[1;32mraise\u001b[0m \u001b[0mKeyError\u001b[0m\u001b[1;33m(\u001b[0m\u001b[0mkey\u001b[0m\u001b[1;33m)\u001b[0m \u001b[1;32mfrom\u001b[0m \u001b[0merr\u001b[0m\u001b[1;33m\u001b[0m\u001b[1;33m\u001b[0m\u001b[0m\n\u001b[0m\u001b[0;32m   2898\u001b[0m \u001b[1;33m\u001b[0m\u001b[0m\n\u001b[0;32m   2899\u001b[0m         \u001b[1;32mif\u001b[0m \u001b[0mtolerance\u001b[0m \u001b[1;32mis\u001b[0m \u001b[1;32mnot\u001b[0m \u001b[1;32mNone\u001b[0m\u001b[1;33m:\u001b[0m\u001b[1;33m\u001b[0m\u001b[1;33m\u001b[0m\u001b[0m\n",
      "\u001b[1;31mKeyError\u001b[0m: 0"
     ]
    }
   ],
   "source": [
    "my_dataframe.loc['RODRIGO', 'idade']"
   ]
  },
  {
   "cell_type": "code",
   "execution_count": 83,
   "metadata": {
    "ExecuteTime": {
     "end_time": "2020-11-17T23:31:17.304401Z",
     "start_time": "2020-11-17T23:31:17.296360Z"
    }
   },
   "outputs": [
    {
     "data": {
      "text/plain": [
       "RODRIGO    25\n",
       "ANDRE      28\n",
       "Name: idade, dtype: int64"
      ]
     },
     "execution_count": 83,
     "metadata": {},
     "output_type": "execute_result"
    }
   ],
   "source": [
    "my_dataframe.loc[:, 'idade']"
   ]
  },
  {
   "cell_type": "code",
   "execution_count": 84,
   "metadata": {
    "ExecuteTime": {
     "end_time": "2020-11-17T23:31:42.085298Z",
     "start_time": "2020-11-17T23:31:42.077809Z"
    }
   },
   "outputs": [
    {
     "data": {
      "text/plain": [
       "175"
      ]
     },
     "execution_count": 84,
     "metadata": {},
     "output_type": "execute_result"
    }
   ],
   "source": [
    "my_dataframe.loc['ANDRE', 'altura']"
   ]
  },
  {
   "cell_type": "code",
   "execution_count": 88,
   "metadata": {
    "ExecuteTime": {
     "end_time": "2020-11-17T23:33:02.503683Z",
     "start_time": "2020-11-17T23:33:02.494168Z"
    }
   },
   "outputs": [
    {
     "data": {
      "text/plain": [
       "175"
      ]
     },
     "execution_count": 88,
     "metadata": {},
     "output_type": "execute_result"
    }
   ],
   "source": [
    "my_dataframe['altura']['ANDRE']# "
   ]
  },
  {
   "cell_type": "markdown",
   "metadata": {},
   "source": [
    "## `dataframe.iloc[row_number, col_number]`"
   ]
  },
  {
   "cell_type": "code",
   "execution_count": 89,
   "metadata": {
    "ExecuteTime": {
     "end_time": "2020-11-17T23:34:17.238209Z",
     "start_time": "2020-11-17T23:34:17.231228Z"
    }
   },
   "outputs": [
    {
     "data": {
      "text/html": [
       "<div>\n",
       "<style scoped>\n",
       "    .dataframe tbody tr th:only-of-type {\n",
       "        vertical-align: middle;\n",
       "    }\n",
       "\n",
       "    .dataframe tbody tr th {\n",
       "        vertical-align: top;\n",
       "    }\n",
       "\n",
       "    .dataframe thead th {\n",
       "        text-align: right;\n",
       "    }\n",
       "</style>\n",
       "<table border=\"1\" class=\"dataframe\">\n",
       "  <thead>\n",
       "    <tr style=\"text-align: right;\">\n",
       "      <th></th>\n",
       "      <th>idade</th>\n",
       "      <th>altura</th>\n",
       "    </tr>\n",
       "  </thead>\n",
       "  <tbody>\n",
       "    <tr>\n",
       "      <th>RODRIGO</th>\n",
       "      <td>25</td>\n",
       "      <td>177</td>\n",
       "    </tr>\n",
       "    <tr>\n",
       "      <th>ANDRE</th>\n",
       "      <td>28</td>\n",
       "      <td>175</td>\n",
       "    </tr>\n",
       "  </tbody>\n",
       "</table>\n",
       "</div>"
      ],
      "text/plain": [
       "         idade  altura\n",
       "RODRIGO     25     177\n",
       "ANDRE       28     175"
      ]
     },
     "execution_count": 89,
     "metadata": {},
     "output_type": "execute_result"
    }
   ],
   "source": [
    "my_dataframe"
   ]
  },
  {
   "cell_type": "code",
   "execution_count": 92,
   "metadata": {
    "ExecuteTime": {
     "end_time": "2020-11-17T23:35:11.189841Z",
     "start_time": "2020-11-17T23:35:11.181740Z"
    }
   },
   "outputs": [
    {
     "data": {
      "text/plain": [
       "25"
      ]
     },
     "execution_count": 92,
     "metadata": {},
     "output_type": "execute_result"
    }
   ],
   "source": [
    "my_dataframe.iloc[0, 0]"
   ]
  },
  {
   "cell_type": "code",
   "execution_count": 93,
   "metadata": {
    "ExecuteTime": {
     "end_time": "2020-11-17T23:35:57.294762Z",
     "start_time": "2020-11-17T23:35:57.286248Z"
    }
   },
   "outputs": [
    {
     "data": {
      "text/plain": [
       "175"
      ]
     },
     "execution_count": 93,
     "metadata": {},
     "output_type": "execute_result"
    }
   ],
   "source": [
    "my_dataframe.iloc[1, 1]"
   ]
  },
  {
   "cell_type": "code",
   "execution_count": 97,
   "metadata": {
    "ExecuteTime": {
     "end_time": "2020-11-17T23:39:53.923987Z",
     "start_time": "2020-11-17T23:39:53.918001Z"
    }
   },
   "outputs": [
    {
     "data": {
      "text/plain": [
       "175"
      ]
     },
     "execution_count": 97,
     "metadata": {},
     "output_type": "execute_result"
    }
   ],
   "source": [
    "my_dataframe.iloc[-1, -1]"
   ]
  },
  {
   "cell_type": "markdown",
   "metadata": {},
   "source": [
    "What is the difference of selecting a column via: `my_dataframe['idade']` vs `my_dataframe.loc[:, 'idade']`?"
   ]
  },
  {
   "cell_type": "markdown",
   "metadata": {},
   "source": [
    "# Creating dataframes"
   ]
  },
  {
   "cell_type": "markdown",
   "metadata": {},
   "source": [
    "## From a list in 1-D"
   ]
  },
  {
   "cell_type": "code",
   "execution_count": 100,
   "metadata": {
    "ExecuteTime": {
     "end_time": "2020-11-17T23:51:50.389075Z",
     "start_time": "2020-11-17T23:51:50.385784Z"
    }
   },
   "outputs": [],
   "source": [
    "my_list = [1,2,3]"
   ]
  },
  {
   "cell_type": "code",
   "execution_count": 101,
   "metadata": {
    "ExecuteTime": {
     "end_time": "2020-11-17T23:52:12.426266Z",
     "start_time": "2020-11-17T23:52:12.414774Z"
    }
   },
   "outputs": [
    {
     "data": {
      "text/plain": [
       "array([1, 2, 3])"
      ]
     },
     "execution_count": 101,
     "metadata": {},
     "output_type": "execute_result"
    }
   ],
   "source": [
    "np.array(my_list)"
   ]
  },
  {
   "cell_type": "code",
   "execution_count": 102,
   "metadata": {
    "ExecuteTime": {
     "end_time": "2020-11-17T23:52:13.472279Z",
     "start_time": "2020-11-17T23:52:13.462769Z"
    }
   },
   "outputs": [
    {
     "data": {
      "text/plain": [
       "(3,)"
      ]
     },
     "execution_count": 102,
     "metadata": {},
     "output_type": "execute_result"
    }
   ],
   "source": [
    "np.array(my_list).shape"
   ]
  },
  {
   "cell_type": "code",
   "execution_count": 103,
   "metadata": {
    "ExecuteTime": {
     "end_time": "2020-11-17T23:52:27.137663Z",
     "start_time": "2020-11-17T23:52:27.126782Z"
    }
   },
   "outputs": [
    {
     "data": {
      "text/html": [
       "<div>\n",
       "<style scoped>\n",
       "    .dataframe tbody tr th:only-of-type {\n",
       "        vertical-align: middle;\n",
       "    }\n",
       "\n",
       "    .dataframe tbody tr th {\n",
       "        vertical-align: top;\n",
       "    }\n",
       "\n",
       "    .dataframe thead th {\n",
       "        text-align: right;\n",
       "    }\n",
       "</style>\n",
       "<table border=\"1\" class=\"dataframe\">\n",
       "  <thead>\n",
       "    <tr style=\"text-align: right;\">\n",
       "      <th></th>\n",
       "      <th>0</th>\n",
       "    </tr>\n",
       "  </thead>\n",
       "  <tbody>\n",
       "    <tr>\n",
       "      <th>0</th>\n",
       "      <td>1</td>\n",
       "    </tr>\n",
       "    <tr>\n",
       "      <th>1</th>\n",
       "      <td>2</td>\n",
       "    </tr>\n",
       "    <tr>\n",
       "      <th>2</th>\n",
       "      <td>3</td>\n",
       "    </tr>\n",
       "  </tbody>\n",
       "</table>\n",
       "</div>"
      ],
      "text/plain": [
       "   0\n",
       "0  1\n",
       "1  2\n",
       "2  3"
      ]
     },
     "execution_count": 103,
     "metadata": {},
     "output_type": "execute_result"
    }
   ],
   "source": [
    "pd.DataFrame(data=my_list)"
   ]
  },
  {
   "cell_type": "code",
   "execution_count": 104,
   "metadata": {
    "ExecuteTime": {
     "end_time": "2020-11-17T23:53:19.807872Z",
     "start_time": "2020-11-17T23:53:19.797919Z"
    }
   },
   "outputs": [
    {
     "data": {
      "text/html": [
       "<div>\n",
       "<style scoped>\n",
       "    .dataframe tbody tr th:only-of-type {\n",
       "        vertical-align: middle;\n",
       "    }\n",
       "\n",
       "    .dataframe tbody tr th {\n",
       "        vertical-align: top;\n",
       "    }\n",
       "\n",
       "    .dataframe thead th {\n",
       "        text-align: right;\n",
       "    }\n",
       "</style>\n",
       "<table border=\"1\" class=\"dataframe\">\n",
       "  <thead>\n",
       "    <tr style=\"text-align: right;\">\n",
       "      <th></th>\n",
       "      <th>notas</th>\n",
       "    </tr>\n",
       "  </thead>\n",
       "  <tbody>\n",
       "    <tr>\n",
       "      <th>Andre</th>\n",
       "      <td>1</td>\n",
       "    </tr>\n",
       "    <tr>\n",
       "      <th>Rai</th>\n",
       "      <td>2</td>\n",
       "    </tr>\n",
       "    <tr>\n",
       "      <th>Rodrigo</th>\n",
       "      <td>3</td>\n",
       "    </tr>\n",
       "  </tbody>\n",
       "</table>\n",
       "</div>"
      ],
      "text/plain": [
       "         notas\n",
       "Andre        1\n",
       "Rai          2\n",
       "Rodrigo      3"
      ]
     },
     "execution_count": 104,
     "metadata": {},
     "output_type": "execute_result"
    }
   ],
   "source": [
    "pd.DataFrame(data=my_list, columns=['notas'], index=['Andre','Rai','Rodrigo'])"
   ]
  },
  {
   "cell_type": "markdown",
   "metadata": {},
   "source": [
    "## From a list in > 1-D (let's remember numpy arrays here!)"
   ]
  },
  {
   "cell_type": "code",
   "execution_count": 105,
   "metadata": {
    "ExecuteTime": {
     "end_time": "2020-11-17T23:54:15.811206Z",
     "start_time": "2020-11-17T23:54:15.808194Z"
    }
   },
   "outputs": [],
   "source": [
    "my_list = [[1,2,3],\n",
    "           [-5,-6,-7]]"
   ]
  },
  {
   "cell_type": "code",
   "execution_count": 106,
   "metadata": {
    "ExecuteTime": {
     "end_time": "2020-11-17T23:54:31.004735Z",
     "start_time": "2020-11-17T23:54:30.997755Z"
    }
   },
   "outputs": [
    {
     "data": {
      "text/plain": [
       "array([[ 1,  2,  3],\n",
       "       [-5, -6, -7]])"
      ]
     },
     "execution_count": 106,
     "metadata": {},
     "output_type": "execute_result"
    }
   ],
   "source": [
    "np.array(my_list)"
   ]
  },
  {
   "cell_type": "code",
   "execution_count": 107,
   "metadata": {
    "ExecuteTime": {
     "end_time": "2020-11-17T23:54:32.352815Z",
     "start_time": "2020-11-17T23:54:32.336373Z"
    }
   },
   "outputs": [
    {
     "data": {
      "text/plain": [
       "(2, 3)"
      ]
     },
     "execution_count": 107,
     "metadata": {},
     "output_type": "execute_result"
    }
   ],
   "source": [
    "np.array(my_list).shape"
   ]
  },
  {
   "cell_type": "code",
   "execution_count": 108,
   "metadata": {
    "ExecuteTime": {
     "end_time": "2020-11-17T23:54:42.940027Z",
     "start_time": "2020-11-17T23:54:42.918849Z"
    },
    "scrolled": true
   },
   "outputs": [
    {
     "data": {
      "text/html": [
       "<div>\n",
       "<style scoped>\n",
       "    .dataframe tbody tr th:only-of-type {\n",
       "        vertical-align: middle;\n",
       "    }\n",
       "\n",
       "    .dataframe tbody tr th {\n",
       "        vertical-align: top;\n",
       "    }\n",
       "\n",
       "    .dataframe thead th {\n",
       "        text-align: right;\n",
       "    }\n",
       "</style>\n",
       "<table border=\"1\" class=\"dataframe\">\n",
       "  <thead>\n",
       "    <tr style=\"text-align: right;\">\n",
       "      <th></th>\n",
       "      <th>idade</th>\n",
       "      <th>peso</th>\n",
       "      <th>altura</th>\n",
       "    </tr>\n",
       "  </thead>\n",
       "  <tbody>\n",
       "    <tr>\n",
       "      <th>0</th>\n",
       "      <td>1</td>\n",
       "      <td>2</td>\n",
       "      <td>3</td>\n",
       "    </tr>\n",
       "    <tr>\n",
       "      <th>1</th>\n",
       "      <td>-5</td>\n",
       "      <td>-6</td>\n",
       "      <td>-7</td>\n",
       "    </tr>\n",
       "  </tbody>\n",
       "</table>\n",
       "</div>"
      ],
      "text/plain": [
       "   idade  peso  altura\n",
       "0      1     2       3\n",
       "1     -5    -6      -7"
      ]
     },
     "execution_count": 108,
     "metadata": {},
     "output_type": "execute_result"
    }
   ],
   "source": [
    "df = pd.DataFrame(data=my_list, columns=['idade','peso','altura'])\n",
    "df"
   ]
  },
  {
   "cell_type": "code",
   "execution_count": 109,
   "metadata": {
    "ExecuteTime": {
     "end_time": "2020-11-17T23:55:24.440815Z",
     "start_time": "2020-11-17T23:55:24.421869Z"
    }
   },
   "outputs": [
    {
     "data": {
      "text/plain": [
       "(2, 3)"
      ]
     },
     "execution_count": 109,
     "metadata": {},
     "output_type": "execute_result"
    }
   ],
   "source": [
    "df.shape"
   ]
  },
  {
   "cell_type": "markdown",
   "metadata": {},
   "source": [
    "## From a dictionary composed by lists"
   ]
  },
  {
   "cell_type": "code",
   "execution_count": 110,
   "metadata": {
    "ExecuteTime": {
     "end_time": "2020-11-17T23:56:06.190248Z",
     "start_time": "2020-11-17T23:56:06.174324Z"
    }
   },
   "outputs": [
    {
     "data": {
      "text/html": [
       "<div>\n",
       "<style scoped>\n",
       "    .dataframe tbody tr th:only-of-type {\n",
       "        vertical-align: middle;\n",
       "    }\n",
       "\n",
       "    .dataframe tbody tr th {\n",
       "        vertical-align: top;\n",
       "    }\n",
       "\n",
       "    .dataframe thead th {\n",
       "        text-align: right;\n",
       "    }\n",
       "</style>\n",
       "<table border=\"1\" class=\"dataframe\">\n",
       "  <thead>\n",
       "    <tr style=\"text-align: right;\">\n",
       "      <th></th>\n",
       "      <th>ironhack_students</th>\n",
       "      <th>NOTA</th>\n",
       "    </tr>\n",
       "  </thead>\n",
       "  <tbody>\n",
       "    <tr>\n",
       "      <th>0</th>\n",
       "      <td>a</td>\n",
       "      <td>10</td>\n",
       "    </tr>\n",
       "    <tr>\n",
       "      <th>1</th>\n",
       "      <td>b</td>\n",
       "      <td>10</td>\n",
       "    </tr>\n",
       "    <tr>\n",
       "      <th>2</th>\n",
       "      <td>c</td>\n",
       "      <td>0</td>\n",
       "    </tr>\n",
       "  </tbody>\n",
       "</table>\n",
       "</div>"
      ],
      "text/plain": [
       "  ironhack_students  NOTA\n",
       "0                 a    10\n",
       "1                 b    10\n",
       "2                 c     0"
      ]
     },
     "execution_count": 110,
     "metadata": {},
     "output_type": "execute_result"
    }
   ],
   "source": [
    "pd.DataFrame({'ironhack_students': ['a','b','c'],\n",
    "              'NOTA':[10, 10, 0]})"
   ]
  },
  {
   "cell_type": "markdown",
   "metadata": {},
   "source": [
    "## From a numpy array"
   ]
  },
  {
   "cell_type": "code",
   "execution_count": 111,
   "metadata": {
    "ExecuteTime": {
     "end_time": "2020-11-17T23:56:25.763016Z",
     "start_time": "2020-11-17T23:56:25.743410Z"
    }
   },
   "outputs": [
    {
     "data": {
      "text/plain": [
       "array([[0.31640789, 0.3495478 , 0.04542596, 0.90165774],\n",
       "       [0.80883859, 0.32951372, 0.86457096, 0.13683244],\n",
       "       [0.16568874, 0.69845172, 0.62149579, 0.30688947],\n",
       "       [0.2058912 , 0.28072697, 0.50766449, 0.74809371],\n",
       "       [0.49087636, 0.79384728, 0.20301596, 0.26710354]])"
      ]
     },
     "execution_count": 111,
     "metadata": {},
     "output_type": "execute_result"
    }
   ],
   "source": [
    "a = np.random.random(size=(5, 4))\n",
    "a"
   ]
  },
  {
   "cell_type": "code",
   "execution_count": 124,
   "metadata": {
    "ExecuteTime": {
     "end_time": "2020-11-18T00:02:18.063001Z",
     "start_time": "2020-11-18T00:02:18.046874Z"
    }
   },
   "outputs": [],
   "source": [
    "data = pd.DataFrame(a, columns=['altura', 'peso', 'idade', 'largura'])"
   ]
  },
  {
   "cell_type": "code",
   "execution_count": 113,
   "metadata": {
    "ExecuteTime": {
     "end_time": "2020-11-17T23:56:36.177148Z",
     "start_time": "2020-11-17T23:56:36.165659Z"
    }
   },
   "outputs": [
    {
     "data": {
      "text/html": [
       "<div>\n",
       "<style scoped>\n",
       "    .dataframe tbody tr th:only-of-type {\n",
       "        vertical-align: middle;\n",
       "    }\n",
       "\n",
       "    .dataframe tbody tr th {\n",
       "        vertical-align: top;\n",
       "    }\n",
       "\n",
       "    .dataframe thead th {\n",
       "        text-align: right;\n",
       "    }\n",
       "</style>\n",
       "<table border=\"1\" class=\"dataframe\">\n",
       "  <thead>\n",
       "    <tr style=\"text-align: right;\">\n",
       "      <th></th>\n",
       "      <th>altura</th>\n",
       "      <th>peso</th>\n",
       "      <th>idade</th>\n",
       "      <th>largura</th>\n",
       "    </tr>\n",
       "  </thead>\n",
       "  <tbody>\n",
       "    <tr>\n",
       "      <th>0</th>\n",
       "      <td>0.316408</td>\n",
       "      <td>0.349548</td>\n",
       "      <td>0.045426</td>\n",
       "      <td>0.901658</td>\n",
       "    </tr>\n",
       "    <tr>\n",
       "      <th>1</th>\n",
       "      <td>0.808839</td>\n",
       "      <td>0.329514</td>\n",
       "      <td>0.864571</td>\n",
       "      <td>0.136832</td>\n",
       "    </tr>\n",
       "    <tr>\n",
       "      <th>2</th>\n",
       "      <td>0.165689</td>\n",
       "      <td>0.698452</td>\n",
       "      <td>0.621496</td>\n",
       "      <td>0.306889</td>\n",
       "    </tr>\n",
       "    <tr>\n",
       "      <th>3</th>\n",
       "      <td>0.205891</td>\n",
       "      <td>0.280727</td>\n",
       "      <td>0.507664</td>\n",
       "      <td>0.748094</td>\n",
       "    </tr>\n",
       "    <tr>\n",
       "      <th>4</th>\n",
       "      <td>0.490876</td>\n",
       "      <td>0.793847</td>\n",
       "      <td>0.203016</td>\n",
       "      <td>0.267104</td>\n",
       "    </tr>\n",
       "  </tbody>\n",
       "</table>\n",
       "</div>"
      ],
      "text/plain": [
       "     altura      peso     idade   largura\n",
       "0  0.316408  0.349548  0.045426  0.901658\n",
       "1  0.808839  0.329514  0.864571  0.136832\n",
       "2  0.165689  0.698452  0.621496  0.306889\n",
       "3  0.205891  0.280727  0.507664  0.748094\n",
       "4  0.490876  0.793847  0.203016  0.267104"
      ]
     },
     "execution_count": 113,
     "metadata": {},
     "output_type": "execute_result"
    }
   ],
   "source": [
    "data"
   ]
  },
  {
   "cell_type": "markdown",
   "metadata": {},
   "source": [
    "### Accessing rows and columns:\n",
    "\n",
    "#### `.loc`\n",
    "\n",
    "remember: `.loc` receives `[row_name, column_name]`"
   ]
  },
  {
   "cell_type": "code",
   "execution_count": 121,
   "metadata": {
    "ExecuteTime": {
     "end_time": "2020-11-18T00:01:32.009733Z",
     "start_time": "2020-11-18T00:01:31.997200Z"
    }
   },
   "outputs": [
    {
     "data": {
      "text/html": [
       "<div>\n",
       "<style scoped>\n",
       "    .dataframe tbody tr th:only-of-type {\n",
       "        vertical-align: middle;\n",
       "    }\n",
       "\n",
       "    .dataframe tbody tr th {\n",
       "        vertical-align: top;\n",
       "    }\n",
       "\n",
       "    .dataframe thead th {\n",
       "        text-align: right;\n",
       "    }\n",
       "</style>\n",
       "<table border=\"1\" class=\"dataframe\">\n",
       "  <thead>\n",
       "    <tr style=\"text-align: right;\">\n",
       "      <th></th>\n",
       "      <th>altura</th>\n",
       "      <th>peso</th>\n",
       "      <th>idade</th>\n",
       "      <th>largura</th>\n",
       "    </tr>\n",
       "  </thead>\n",
       "  <tbody>\n",
       "    <tr>\n",
       "      <th>67</th>\n",
       "      <td>0.316408</td>\n",
       "      <td>0.349548</td>\n",
       "      <td>0.045426</td>\n",
       "      <td>0.901658</td>\n",
       "    </tr>\n",
       "    <tr>\n",
       "      <th>423</th>\n",
       "      <td>0.808839</td>\n",
       "      <td>0.329514</td>\n",
       "      <td>0.864571</td>\n",
       "      <td>0.136832</td>\n",
       "    </tr>\n",
       "    <tr>\n",
       "      <th>214</th>\n",
       "      <td>0.165689</td>\n",
       "      <td>0.698452</td>\n",
       "      <td>0.621496</td>\n",
       "      <td>0.306889</td>\n",
       "    </tr>\n",
       "    <tr>\n",
       "      <th>532</th>\n",
       "      <td>0.205891</td>\n",
       "      <td>0.280727</td>\n",
       "      <td>0.507664</td>\n",
       "      <td>0.748094</td>\n",
       "    </tr>\n",
       "    <tr>\n",
       "      <th>321</th>\n",
       "      <td>0.490876</td>\n",
       "      <td>0.793847</td>\n",
       "      <td>0.203016</td>\n",
       "      <td>0.267104</td>\n",
       "    </tr>\n",
       "  </tbody>\n",
       "</table>\n",
       "</div>"
      ],
      "text/plain": [
       "       altura      peso     idade   largura\n",
       "67   0.316408  0.349548  0.045426  0.901658\n",
       "423  0.808839  0.329514  0.864571  0.136832\n",
       "214  0.165689  0.698452  0.621496  0.306889\n",
       "532  0.205891  0.280727  0.507664  0.748094\n",
       "321  0.490876  0.793847  0.203016  0.267104"
      ]
     },
     "execution_count": 121,
     "metadata": {},
     "output_type": "execute_result"
    }
   ],
   "source": [
    "data"
   ]
  },
  {
   "cell_type": "code",
   "execution_count": 123,
   "metadata": {
    "ExecuteTime": {
     "end_time": "2020-11-18T00:01:49.103734Z",
     "start_time": "2020-11-18T00:01:49.088157Z"
    }
   },
   "outputs": [
    {
     "data": {
      "text/plain": [
       "0.3295137230817692"
      ]
     },
     "execution_count": 123,
     "metadata": {},
     "output_type": "execute_result"
    }
   ],
   "source": [
    "# get third row and column `peso`: result should be 0.285021\n",
    "\n",
    "data.loc[423, 'peso']"
   ]
  },
  {
   "cell_type": "code",
   "execution_count": 125,
   "metadata": {
    "ExecuteTime": {
     "end_time": "2020-11-18T00:02:24.172795Z",
     "start_time": "2020-11-18T00:02:24.157813Z"
    }
   },
   "outputs": [
    {
     "data": {
      "text/plain": [
       "altura     0.165689\n",
       "peso       0.698452\n",
       "idade      0.621496\n",
       "largura    0.306889\n",
       "Name: 2, dtype: float64"
      ]
     },
     "execution_count": 125,
     "metadata": {},
     "output_type": "execute_result"
    }
   ],
   "source": [
    "# get entire third row\n",
    "\n",
    "data.loc[2, :]"
   ]
  },
  {
   "cell_type": "code",
   "execution_count": 126,
   "metadata": {
    "ExecuteTime": {
     "end_time": "2020-11-18T00:02:34.292811Z",
     "start_time": "2020-11-18T00:02:34.272468Z"
    }
   },
   "outputs": [
    {
     "data": {
      "text/plain": [
       "0    0.045426\n",
       "1    0.864571\n",
       "2    0.621496\n",
       "3    0.507664\n",
       "4    0.203016\n",
       "Name: idade, dtype: float64"
      ]
     },
     "execution_count": 126,
     "metadata": {},
     "output_type": "execute_result"
    }
   ],
   "source": [
    "# get entire `idade` column\n",
    "\n",
    "# data['idade']\n",
    "# data.idade\n",
    "data.loc[:, 'idade']"
   ]
  },
  {
   "cell_type": "code",
   "execution_count": 128,
   "metadata": {
    "ExecuteTime": {
     "end_time": "2020-11-18T00:03:53.060402Z",
     "start_time": "2020-11-18T00:03:53.038905Z"
    }
   },
   "outputs": [
    {
     "data": {
      "text/html": [
       "<div>\n",
       "<style scoped>\n",
       "    .dataframe tbody tr th:only-of-type {\n",
       "        vertical-align: middle;\n",
       "    }\n",
       "\n",
       "    .dataframe tbody tr th {\n",
       "        vertical-align: top;\n",
       "    }\n",
       "\n",
       "    .dataframe thead th {\n",
       "        text-align: right;\n",
       "    }\n",
       "</style>\n",
       "<table border=\"1\" class=\"dataframe\">\n",
       "  <thead>\n",
       "    <tr style=\"text-align: right;\">\n",
       "      <th></th>\n",
       "      <th>altura</th>\n",
       "      <th>peso</th>\n",
       "      <th>idade</th>\n",
       "      <th>largura</th>\n",
       "    </tr>\n",
       "  </thead>\n",
       "  <tbody>\n",
       "    <tr>\n",
       "      <th>0</th>\n",
       "      <td>0.316408</td>\n",
       "      <td>0.349548</td>\n",
       "      <td>0.045426</td>\n",
       "      <td>0.901658</td>\n",
       "    </tr>\n",
       "    <tr>\n",
       "      <th>1</th>\n",
       "      <td>0.808839</td>\n",
       "      <td>0.329514</td>\n",
       "      <td>0.864571</td>\n",
       "      <td>0.136832</td>\n",
       "    </tr>\n",
       "    <tr>\n",
       "      <th>2</th>\n",
       "      <td>0.165689</td>\n",
       "      <td>0.698452</td>\n",
       "      <td>0.621496</td>\n",
       "      <td>0.306889</td>\n",
       "    </tr>\n",
       "    <tr>\n",
       "      <th>3</th>\n",
       "      <td>0.205891</td>\n",
       "      <td>0.280727</td>\n",
       "      <td>0.507664</td>\n",
       "      <td>0.748094</td>\n",
       "    </tr>\n",
       "    <tr>\n",
       "      <th>4</th>\n",
       "      <td>0.490876</td>\n",
       "      <td>0.793847</td>\n",
       "      <td>0.203016</td>\n",
       "      <td>0.267104</td>\n",
       "    </tr>\n",
       "  </tbody>\n",
       "</table>\n",
       "</div>"
      ],
      "text/plain": [
       "     altura      peso     idade   largura\n",
       "0  0.316408  0.349548  0.045426  0.901658\n",
       "1  0.808839  0.329514  0.864571  0.136832\n",
       "2  0.165689  0.698452  0.621496  0.306889\n",
       "3  0.205891  0.280727  0.507664  0.748094\n",
       "4  0.490876  0.793847  0.203016  0.267104"
      ]
     },
     "execution_count": 128,
     "metadata": {},
     "output_type": "execute_result"
    }
   ],
   "source": [
    "data.loc[:,:]"
   ]
  },
  {
   "cell_type": "code",
   "execution_count": 127,
   "metadata": {
    "ExecuteTime": {
     "end_time": "2020-11-18T00:02:40.165639Z",
     "start_time": "2020-11-18T00:02:40.142202Z"
    }
   },
   "outputs": [
    {
     "data": {
      "text/html": [
       "<div>\n",
       "<style scoped>\n",
       "    .dataframe tbody tr th:only-of-type {\n",
       "        vertical-align: middle;\n",
       "    }\n",
       "\n",
       "    .dataframe tbody tr th {\n",
       "        vertical-align: top;\n",
       "    }\n",
       "\n",
       "    .dataframe thead th {\n",
       "        text-align: right;\n",
       "    }\n",
       "</style>\n",
       "<table border=\"1\" class=\"dataframe\">\n",
       "  <thead>\n",
       "    <tr style=\"text-align: right;\">\n",
       "      <th></th>\n",
       "      <th>peso</th>\n",
       "      <th>idade</th>\n",
       "      <th>largura</th>\n",
       "    </tr>\n",
       "  </thead>\n",
       "  <tbody>\n",
       "    <tr>\n",
       "      <th>0</th>\n",
       "      <td>0.349548</td>\n",
       "      <td>0.045426</td>\n",
       "      <td>0.901658</td>\n",
       "    </tr>\n",
       "    <tr>\n",
       "      <th>1</th>\n",
       "      <td>0.329514</td>\n",
       "      <td>0.864571</td>\n",
       "      <td>0.136832</td>\n",
       "    </tr>\n",
       "    <tr>\n",
       "      <th>2</th>\n",
       "      <td>0.698452</td>\n",
       "      <td>0.621496</td>\n",
       "      <td>0.306889</td>\n",
       "    </tr>\n",
       "    <tr>\n",
       "      <th>3</th>\n",
       "      <td>0.280727</td>\n",
       "      <td>0.507664</td>\n",
       "      <td>0.748094</td>\n",
       "    </tr>\n",
       "    <tr>\n",
       "      <th>4</th>\n",
       "      <td>0.793847</td>\n",
       "      <td>0.203016</td>\n",
       "      <td>0.267104</td>\n",
       "    </tr>\n",
       "  </tbody>\n",
       "</table>\n",
       "</div>"
      ],
      "text/plain": [
       "       peso     idade   largura\n",
       "0  0.349548  0.045426  0.901658\n",
       "1  0.329514  0.864571  0.136832\n",
       "2  0.698452  0.621496  0.306889\n",
       "3  0.280727  0.507664  0.748094\n",
       "4  0.793847  0.203016  0.267104"
      ]
     },
     "execution_count": 127,
     "metadata": {},
     "output_type": "execute_result"
    }
   ],
   "source": [
    "# get all rows from column `peso` up to `largura`\n",
    "\n",
    "data.loc[:, 'peso':'largura']"
   ]
  },
  {
   "cell_type": "code",
   "execution_count": 129,
   "metadata": {
    "ExecuteTime": {
     "end_time": "2020-11-18T00:04:16.278820Z",
     "start_time": "2020-11-18T00:04:16.261436Z"
    }
   },
   "outputs": [
    {
     "data": {
      "text/html": [
       "<div>\n",
       "<style scoped>\n",
       "    .dataframe tbody tr th:only-of-type {\n",
       "        vertical-align: middle;\n",
       "    }\n",
       "\n",
       "    .dataframe tbody tr th {\n",
       "        vertical-align: top;\n",
       "    }\n",
       "\n",
       "    .dataframe thead th {\n",
       "        text-align: right;\n",
       "    }\n",
       "</style>\n",
       "<table border=\"1\" class=\"dataframe\">\n",
       "  <thead>\n",
       "    <tr style=\"text-align: right;\">\n",
       "      <th></th>\n",
       "      <th>peso</th>\n",
       "      <th>idade</th>\n",
       "      <th>largura</th>\n",
       "    </tr>\n",
       "  </thead>\n",
       "  <tbody>\n",
       "    <tr>\n",
       "      <th>0</th>\n",
       "      <td>0.349548</td>\n",
       "      <td>0.045426</td>\n",
       "      <td>0.901658</td>\n",
       "    </tr>\n",
       "    <tr>\n",
       "      <th>1</th>\n",
       "      <td>0.329514</td>\n",
       "      <td>0.864571</td>\n",
       "      <td>0.136832</td>\n",
       "    </tr>\n",
       "    <tr>\n",
       "      <th>2</th>\n",
       "      <td>0.698452</td>\n",
       "      <td>0.621496</td>\n",
       "      <td>0.306889</td>\n",
       "    </tr>\n",
       "    <tr>\n",
       "      <th>3</th>\n",
       "      <td>0.280727</td>\n",
       "      <td>0.507664</td>\n",
       "      <td>0.748094</td>\n",
       "    </tr>\n",
       "    <tr>\n",
       "      <th>4</th>\n",
       "      <td>0.793847</td>\n",
       "      <td>0.203016</td>\n",
       "      <td>0.267104</td>\n",
       "    </tr>\n",
       "  </tbody>\n",
       "</table>\n",
       "</div>"
      ],
      "text/plain": [
       "       peso     idade   largura\n",
       "0  0.349548  0.045426  0.901658\n",
       "1  0.329514  0.864571  0.136832\n",
       "2  0.698452  0.621496  0.306889\n",
       "3  0.280727  0.507664  0.748094\n",
       "4  0.793847  0.203016  0.267104"
      ]
     },
     "execution_count": 129,
     "metadata": {},
     "output_type": "execute_result"
    }
   ],
   "source": [
    "data.loc[:, ['peso','idade','largura']]"
   ]
  },
  {
   "cell_type": "code",
   "execution_count": 130,
   "metadata": {
    "ExecuteTime": {
     "end_time": "2020-11-18T00:04:25.100605Z",
     "start_time": "2020-11-18T00:04:25.086751Z"
    }
   },
   "outputs": [
    {
     "data": {
      "text/html": [
       "<div>\n",
       "<style scoped>\n",
       "    .dataframe tbody tr th:only-of-type {\n",
       "        vertical-align: middle;\n",
       "    }\n",
       "\n",
       "    .dataframe tbody tr th {\n",
       "        vertical-align: top;\n",
       "    }\n",
       "\n",
       "    .dataframe thead th {\n",
       "        text-align: right;\n",
       "    }\n",
       "</style>\n",
       "<table border=\"1\" class=\"dataframe\">\n",
       "  <thead>\n",
       "    <tr style=\"text-align: right;\">\n",
       "      <th></th>\n",
       "      <th>peso</th>\n",
       "      <th>idade</th>\n",
       "      <th>largura</th>\n",
       "    </tr>\n",
       "  </thead>\n",
       "  <tbody>\n",
       "    <tr>\n",
       "      <th>0</th>\n",
       "      <td>0.349548</td>\n",
       "      <td>0.045426</td>\n",
       "      <td>0.901658</td>\n",
       "    </tr>\n",
       "    <tr>\n",
       "      <th>1</th>\n",
       "      <td>0.329514</td>\n",
       "      <td>0.864571</td>\n",
       "      <td>0.136832</td>\n",
       "    </tr>\n",
       "    <tr>\n",
       "      <th>2</th>\n",
       "      <td>0.698452</td>\n",
       "      <td>0.621496</td>\n",
       "      <td>0.306889</td>\n",
       "    </tr>\n",
       "    <tr>\n",
       "      <th>3</th>\n",
       "      <td>0.280727</td>\n",
       "      <td>0.507664</td>\n",
       "      <td>0.748094</td>\n",
       "    </tr>\n",
       "  </tbody>\n",
       "</table>\n",
       "</div>"
      ],
      "text/plain": [
       "       peso     idade   largura\n",
       "0  0.349548  0.045426  0.901658\n",
       "1  0.329514  0.864571  0.136832\n",
       "2  0.698452  0.621496  0.306889\n",
       "3  0.280727  0.507664  0.748094"
      ]
     },
     "execution_count": 130,
     "metadata": {},
     "output_type": "execute_result"
    }
   ],
   "source": [
    "data.loc[:3, ['peso','idade','largura']]"
   ]
  },
  {
   "cell_type": "code",
   "execution_count": 131,
   "metadata": {
    "ExecuteTime": {
     "end_time": "2020-11-18T00:04:25.950098Z",
     "start_time": "2020-11-18T00:04:25.934577Z"
    }
   },
   "outputs": [
    {
     "data": {
      "text/html": [
       "<div>\n",
       "<style scoped>\n",
       "    .dataframe tbody tr th:only-of-type {\n",
       "        vertical-align: middle;\n",
       "    }\n",
       "\n",
       "    .dataframe tbody tr th {\n",
       "        vertical-align: top;\n",
       "    }\n",
       "\n",
       "    .dataframe thead th {\n",
       "        text-align: right;\n",
       "    }\n",
       "</style>\n",
       "<table border=\"1\" class=\"dataframe\">\n",
       "  <thead>\n",
       "    <tr style=\"text-align: right;\">\n",
       "      <th></th>\n",
       "      <th>peso</th>\n",
       "      <th>idade</th>\n",
       "      <th>largura</th>\n",
       "    </tr>\n",
       "  </thead>\n",
       "  <tbody>\n",
       "  </tbody>\n",
       "</table>\n",
       "</div>"
      ],
      "text/plain": [
       "Empty DataFrame\n",
       "Columns: [peso, idade, largura]\n",
       "Index: []"
      ]
     },
     "execution_count": 131,
     "metadata": {},
     "output_type": "execute_result"
    }
   ],
   "source": [
    "data.loc[:-1, ['peso','idade','largura']]"
   ]
  },
  {
   "cell_type": "code",
   "execution_count": null,
   "metadata": {},
   "outputs": [],
   "source": []
  },
  {
   "cell_type": "code",
   "execution_count": 132,
   "metadata": {
    "ExecuteTime": {
     "end_time": "2020-11-18T00:05:16.796818Z",
     "start_time": "2020-11-18T00:05:16.781359Z"
    }
   },
   "outputs": [
    {
     "data": {
      "text/plain": [
       "0    0.045426\n",
       "1    0.864571\n",
       "2    0.621496\n",
       "3    0.507664\n",
       "4    0.203016\n",
       "Name: idade, dtype: float64"
      ]
     },
     "execution_count": 132,
     "metadata": {},
     "output_type": "execute_result"
    }
   ],
   "source": [
    "data.loc[:, 'idade']"
   ]
  },
  {
   "cell_type": "code",
   "execution_count": 134,
   "metadata": {
    "ExecuteTime": {
     "end_time": "2020-11-18T00:05:39.703214Z",
     "start_time": "2020-11-18T00:05:39.694783Z"
    }
   },
   "outputs": [
    {
     "data": {
      "text/plain": [
       "(5,)"
      ]
     },
     "execution_count": 134,
     "metadata": {},
     "output_type": "execute_result"
    }
   ],
   "source": [
    "data.loc[:, 'idade'].shape"
   ]
  },
  {
   "cell_type": "code",
   "execution_count": 133,
   "metadata": {
    "ExecuteTime": {
     "end_time": "2020-11-18T00:05:33.443629Z",
     "start_time": "2020-11-18T00:05:33.428439Z"
    }
   },
   "outputs": [
    {
     "data": {
      "text/html": [
       "<div>\n",
       "<style scoped>\n",
       "    .dataframe tbody tr th:only-of-type {\n",
       "        vertical-align: middle;\n",
       "    }\n",
       "\n",
       "    .dataframe tbody tr th {\n",
       "        vertical-align: top;\n",
       "    }\n",
       "\n",
       "    .dataframe thead th {\n",
       "        text-align: right;\n",
       "    }\n",
       "</style>\n",
       "<table border=\"1\" class=\"dataframe\">\n",
       "  <thead>\n",
       "    <tr style=\"text-align: right;\">\n",
       "      <th></th>\n",
       "      <th>idade</th>\n",
       "    </tr>\n",
       "  </thead>\n",
       "  <tbody>\n",
       "    <tr>\n",
       "      <th>0</th>\n",
       "      <td>0.045426</td>\n",
       "    </tr>\n",
       "    <tr>\n",
       "      <th>1</th>\n",
       "      <td>0.864571</td>\n",
       "    </tr>\n",
       "    <tr>\n",
       "      <th>2</th>\n",
       "      <td>0.621496</td>\n",
       "    </tr>\n",
       "    <tr>\n",
       "      <th>3</th>\n",
       "      <td>0.507664</td>\n",
       "    </tr>\n",
       "    <tr>\n",
       "      <th>4</th>\n",
       "      <td>0.203016</td>\n",
       "    </tr>\n",
       "  </tbody>\n",
       "</table>\n",
       "</div>"
      ],
      "text/plain": [
       "      idade\n",
       "0  0.045426\n",
       "1  0.864571\n",
       "2  0.621496\n",
       "3  0.507664\n",
       "4  0.203016"
      ]
     },
     "execution_count": 133,
     "metadata": {},
     "output_type": "execute_result"
    }
   ],
   "source": [
    "data.loc[:, ['idade']]"
   ]
  },
  {
   "cell_type": "code",
   "execution_count": 135,
   "metadata": {
    "ExecuteTime": {
     "end_time": "2020-11-18T00:05:41.478275Z",
     "start_time": "2020-11-18T00:05:41.463502Z"
    }
   },
   "outputs": [
    {
     "data": {
      "text/plain": [
       "(5, 1)"
      ]
     },
     "execution_count": 135,
     "metadata": {},
     "output_type": "execute_result"
    }
   ],
   "source": [
    "data.loc[:, ['idade']].shape"
   ]
  },
  {
   "cell_type": "markdown",
   "metadata": {},
   "source": [
    "#### `.iloc`"
   ]
  },
  {
   "cell_type": "code",
   "execution_count": 136,
   "metadata": {
    "ExecuteTime": {
     "end_time": "2020-11-18T00:05:52.944410Z",
     "start_time": "2020-11-18T00:05:52.932893Z"
    }
   },
   "outputs": [
    {
     "data": {
      "text/html": [
       "<div>\n",
       "<style scoped>\n",
       "    .dataframe tbody tr th:only-of-type {\n",
       "        vertical-align: middle;\n",
       "    }\n",
       "\n",
       "    .dataframe tbody tr th {\n",
       "        vertical-align: top;\n",
       "    }\n",
       "\n",
       "    .dataframe thead th {\n",
       "        text-align: right;\n",
       "    }\n",
       "</style>\n",
       "<table border=\"1\" class=\"dataframe\">\n",
       "  <thead>\n",
       "    <tr style=\"text-align: right;\">\n",
       "      <th></th>\n",
       "      <th>altura</th>\n",
       "      <th>peso</th>\n",
       "      <th>idade</th>\n",
       "      <th>largura</th>\n",
       "    </tr>\n",
       "  </thead>\n",
       "  <tbody>\n",
       "    <tr>\n",
       "      <th>0</th>\n",
       "      <td>0.316408</td>\n",
       "      <td>0.349548</td>\n",
       "      <td>0.045426</td>\n",
       "      <td>0.901658</td>\n",
       "    </tr>\n",
       "    <tr>\n",
       "      <th>1</th>\n",
       "      <td>0.808839</td>\n",
       "      <td>0.329514</td>\n",
       "      <td>0.864571</td>\n",
       "      <td>0.136832</td>\n",
       "    </tr>\n",
       "    <tr>\n",
       "      <th>2</th>\n",
       "      <td>0.165689</td>\n",
       "      <td>0.698452</td>\n",
       "      <td>0.621496</td>\n",
       "      <td>0.306889</td>\n",
       "    </tr>\n",
       "    <tr>\n",
       "      <th>3</th>\n",
       "      <td>0.205891</td>\n",
       "      <td>0.280727</td>\n",
       "      <td>0.507664</td>\n",
       "      <td>0.748094</td>\n",
       "    </tr>\n",
       "  </tbody>\n",
       "</table>\n",
       "</div>"
      ],
      "text/plain": [
       "     altura      peso     idade   largura\n",
       "0  0.316408  0.349548  0.045426  0.901658\n",
       "1  0.808839  0.329514  0.864571  0.136832\n",
       "2  0.165689  0.698452  0.621496  0.306889\n",
       "3  0.205891  0.280727  0.507664  0.748094"
      ]
     },
     "execution_count": 136,
     "metadata": {},
     "output_type": "execute_result"
    }
   ],
   "source": [
    "data.iloc[0:4, :]"
   ]
  },
  {
   "cell_type": "code",
   "execution_count": 137,
   "metadata": {
    "ExecuteTime": {
     "end_time": "2020-11-18T00:05:53.920633Z",
     "start_time": "2020-11-18T00:05:53.901181Z"
    }
   },
   "outputs": [
    {
     "data": {
      "text/html": [
       "<div>\n",
       "<style scoped>\n",
       "    .dataframe tbody tr th:only-of-type {\n",
       "        vertical-align: middle;\n",
       "    }\n",
       "\n",
       "    .dataframe tbody tr th {\n",
       "        vertical-align: top;\n",
       "    }\n",
       "\n",
       "    .dataframe thead th {\n",
       "        text-align: right;\n",
       "    }\n",
       "</style>\n",
       "<table border=\"1\" class=\"dataframe\">\n",
       "  <thead>\n",
       "    <tr style=\"text-align: right;\">\n",
       "      <th></th>\n",
       "      <th>peso</th>\n",
       "      <th>idade</th>\n",
       "      <th>largura</th>\n",
       "    </tr>\n",
       "  </thead>\n",
       "  <tbody>\n",
       "    <tr>\n",
       "      <th>0</th>\n",
       "      <td>0.349548</td>\n",
       "      <td>0.045426</td>\n",
       "      <td>0.901658</td>\n",
       "    </tr>\n",
       "    <tr>\n",
       "      <th>1</th>\n",
       "      <td>0.329514</td>\n",
       "      <td>0.864571</td>\n",
       "      <td>0.136832</td>\n",
       "    </tr>\n",
       "    <tr>\n",
       "      <th>2</th>\n",
       "      <td>0.698452</td>\n",
       "      <td>0.621496</td>\n",
       "      <td>0.306889</td>\n",
       "    </tr>\n",
       "    <tr>\n",
       "      <th>3</th>\n",
       "      <td>0.280727</td>\n",
       "      <td>0.507664</td>\n",
       "      <td>0.748094</td>\n",
       "    </tr>\n",
       "  </tbody>\n",
       "</table>\n",
       "</div>"
      ],
      "text/plain": [
       "       peso     idade   largura\n",
       "0  0.349548  0.045426  0.901658\n",
       "1  0.329514  0.864571  0.136832\n",
       "2  0.698452  0.621496  0.306889\n",
       "3  0.280727  0.507664  0.748094"
      ]
     },
     "execution_count": 137,
     "metadata": {},
     "output_type": "execute_result"
    }
   ],
   "source": [
    "data.iloc[0:4, 1:4]"
   ]
  },
  {
   "cell_type": "code",
   "execution_count": 138,
   "metadata": {
    "ExecuteTime": {
     "end_time": "2020-11-18T00:05:54.980764Z",
     "start_time": "2020-11-18T00:05:54.958808Z"
    }
   },
   "outputs": [
    {
     "data": {
      "text/plain": [
       "altura     0.490876\n",
       "peso       0.793847\n",
       "idade      0.203016\n",
       "largura    0.267104\n",
       "Name: 4, dtype: float64"
      ]
     },
     "execution_count": 138,
     "metadata": {},
     "output_type": "execute_result"
    }
   ],
   "source": [
    "data.iloc[-1, :]"
   ]
  },
  {
   "cell_type": "markdown",
   "metadata": {},
   "source": [
    "## Math operations"
   ]
  },
  {
   "cell_type": "code",
   "execution_count": 139,
   "metadata": {
    "ExecuteTime": {
     "end_time": "2020-11-18T00:06:04.451525Z",
     "start_time": "2020-11-18T00:06:04.438526Z"
    }
   },
   "outputs": [],
   "source": [
    "data = np.random.random(size=(8, 4))"
   ]
  },
  {
   "cell_type": "code",
   "execution_count": 140,
   "metadata": {
    "ExecuteTime": {
     "end_time": "2020-11-18T00:06:06.378510Z",
     "start_time": "2020-11-18T00:06:06.364810Z"
    }
   },
   "outputs": [],
   "source": [
    "df = pd.DataFrame(data, columns=['Andre','Rai','Rodrigo','Vamp'])"
   ]
  },
  {
   "cell_type": "code",
   "execution_count": 141,
   "metadata": {
    "ExecuteTime": {
     "end_time": "2020-11-18T00:06:12.958812Z",
     "start_time": "2020-11-18T00:06:12.934060Z"
    }
   },
   "outputs": [
    {
     "data": {
      "text/html": [
       "<div>\n",
       "<style scoped>\n",
       "    .dataframe tbody tr th:only-of-type {\n",
       "        vertical-align: middle;\n",
       "    }\n",
       "\n",
       "    .dataframe tbody tr th {\n",
       "        vertical-align: top;\n",
       "    }\n",
       "\n",
       "    .dataframe thead th {\n",
       "        text-align: right;\n",
       "    }\n",
       "</style>\n",
       "<table border=\"1\" class=\"dataframe\">\n",
       "  <thead>\n",
       "    <tr style=\"text-align: right;\">\n",
       "      <th></th>\n",
       "      <th>Andre</th>\n",
       "      <th>Rai</th>\n",
       "      <th>Rodrigo</th>\n",
       "      <th>Vamp</th>\n",
       "    </tr>\n",
       "  </thead>\n",
       "  <tbody>\n",
       "    <tr>\n",
       "      <th>0</th>\n",
       "      <td>0.599211</td>\n",
       "      <td>0.908881</td>\n",
       "      <td>0.358237</td>\n",
       "      <td>0.179483</td>\n",
       "    </tr>\n",
       "    <tr>\n",
       "      <th>1</th>\n",
       "      <td>0.367232</td>\n",
       "      <td>0.137365</td>\n",
       "      <td>0.492369</td>\n",
       "      <td>0.261942</td>\n",
       "    </tr>\n",
       "    <tr>\n",
       "      <th>2</th>\n",
       "      <td>0.427096</td>\n",
       "      <td>0.101282</td>\n",
       "      <td>0.706888</td>\n",
       "      <td>0.675554</td>\n",
       "    </tr>\n",
       "    <tr>\n",
       "      <th>3</th>\n",
       "      <td>0.025222</td>\n",
       "      <td>0.503995</td>\n",
       "      <td>0.120277</td>\n",
       "      <td>0.230367</td>\n",
       "    </tr>\n",
       "    <tr>\n",
       "      <th>4</th>\n",
       "      <td>0.700838</td>\n",
       "      <td>0.538928</td>\n",
       "      <td>0.477258</td>\n",
       "      <td>0.153079</td>\n",
       "    </tr>\n",
       "    <tr>\n",
       "      <th>5</th>\n",
       "      <td>0.516804</td>\n",
       "      <td>0.059523</td>\n",
       "      <td>0.445050</td>\n",
       "      <td>0.762666</td>\n",
       "    </tr>\n",
       "    <tr>\n",
       "      <th>6</th>\n",
       "      <td>0.308967</td>\n",
       "      <td>0.211154</td>\n",
       "      <td>0.567479</td>\n",
       "      <td>0.580374</td>\n",
       "    </tr>\n",
       "    <tr>\n",
       "      <th>7</th>\n",
       "      <td>0.575250</td>\n",
       "      <td>0.138184</td>\n",
       "      <td>0.979351</td>\n",
       "      <td>0.929731</td>\n",
       "    </tr>\n",
       "  </tbody>\n",
       "</table>\n",
       "</div>"
      ],
      "text/plain": [
       "      Andre       Rai   Rodrigo      Vamp\n",
       "0  0.599211  0.908881  0.358237  0.179483\n",
       "1  0.367232  0.137365  0.492369  0.261942\n",
       "2  0.427096  0.101282  0.706888  0.675554\n",
       "3  0.025222  0.503995  0.120277  0.230367\n",
       "4  0.700838  0.538928  0.477258  0.153079\n",
       "5  0.516804  0.059523  0.445050  0.762666\n",
       "6  0.308967  0.211154  0.567479  0.580374\n",
       "7  0.575250  0.138184  0.979351  0.929731"
      ]
     },
     "execution_count": 141,
     "metadata": {},
     "output_type": "execute_result"
    }
   ],
   "source": [
    "df"
   ]
  },
  {
   "cell_type": "code",
   "execution_count": 144,
   "metadata": {
    "ExecuteTime": {
     "end_time": "2020-11-18T00:08:03.961962Z",
     "start_time": "2020-11-18T00:08:03.949490Z"
    }
   },
   "outputs": [
    {
     "data": {
      "text/html": [
       "<div>\n",
       "<style scoped>\n",
       "    .dataframe tbody tr th:only-of-type {\n",
       "        vertical-align: middle;\n",
       "    }\n",
       "\n",
       "    .dataframe tbody tr th {\n",
       "        vertical-align: top;\n",
       "    }\n",
       "\n",
       "    .dataframe thead th {\n",
       "        text-align: right;\n",
       "    }\n",
       "</style>\n",
       "<table border=\"1\" class=\"dataframe\">\n",
       "  <thead>\n",
       "    <tr style=\"text-align: right;\">\n",
       "      <th></th>\n",
       "      <th>Andre</th>\n",
       "      <th>Rai</th>\n",
       "      <th>Rodrigo</th>\n",
       "      <th>Vamp</th>\n",
       "    </tr>\n",
       "  </thead>\n",
       "  <tbody>\n",
       "    <tr>\n",
       "      <th>0</th>\n",
       "      <td>0.599211</td>\n",
       "      <td>0.908881</td>\n",
       "      <td>0.358237</td>\n",
       "      <td>0.179483</td>\n",
       "    </tr>\n",
       "    <tr>\n",
       "      <th>1</th>\n",
       "      <td>0.367232</td>\n",
       "      <td>0.137365</td>\n",
       "      <td>0.492369</td>\n",
       "      <td>0.261942</td>\n",
       "    </tr>\n",
       "    <tr>\n",
       "      <th>2</th>\n",
       "      <td>0.427096</td>\n",
       "      <td>0.101282</td>\n",
       "      <td>0.706888</td>\n",
       "      <td>0.675554</td>\n",
       "    </tr>\n",
       "    <tr>\n",
       "      <th>3</th>\n",
       "      <td>0.025222</td>\n",
       "      <td>0.503995</td>\n",
       "      <td>0.120277</td>\n",
       "      <td>0.230367</td>\n",
       "    </tr>\n",
       "    <tr>\n",
       "      <th>4</th>\n",
       "      <td>0.700838</td>\n",
       "      <td>0.538928</td>\n",
       "      <td>0.477258</td>\n",
       "      <td>0.153079</td>\n",
       "    </tr>\n",
       "    <tr>\n",
       "      <th>5</th>\n",
       "      <td>0.516804</td>\n",
       "      <td>0.059523</td>\n",
       "      <td>0.445050</td>\n",
       "      <td>0.762666</td>\n",
       "    </tr>\n",
       "    <tr>\n",
       "      <th>6</th>\n",
       "      <td>0.308967</td>\n",
       "      <td>0.211154</td>\n",
       "      <td>0.567479</td>\n",
       "      <td>0.580374</td>\n",
       "    </tr>\n",
       "    <tr>\n",
       "      <th>7</th>\n",
       "      <td>0.575250</td>\n",
       "      <td>0.138184</td>\n",
       "      <td>0.979351</td>\n",
       "      <td>0.929731</td>\n",
       "    </tr>\n",
       "  </tbody>\n",
       "</table>\n",
       "</div>"
      ],
      "text/plain": [
       "      Andre       Rai   Rodrigo      Vamp\n",
       "0  0.599211  0.908881  0.358237  0.179483\n",
       "1  0.367232  0.137365  0.492369  0.261942\n",
       "2  0.427096  0.101282  0.706888  0.675554\n",
       "3  0.025222  0.503995  0.120277  0.230367\n",
       "4  0.700838  0.538928  0.477258  0.153079\n",
       "5  0.516804  0.059523  0.445050  0.762666\n",
       "6  0.308967  0.211154  0.567479  0.580374\n",
       "7  0.575250  0.138184  0.979351  0.929731"
      ]
     },
     "execution_count": 144,
     "metadata": {},
     "output_type": "execute_result"
    }
   ],
   "source": [
    "df#.transpose()"
   ]
  },
  {
   "cell_type": "code",
   "execution_count": 146,
   "metadata": {
    "ExecuteTime": {
     "end_time": "2020-11-18T00:09:02.397766Z",
     "start_time": "2020-11-18T00:09:02.389393Z"
    }
   },
   "outputs": [
    {
     "data": {
      "text/plain": [
       "Andre      0.440078\n",
       "Rai        0.324914\n",
       "Rodrigo    0.518364\n",
       "Vamp       0.471649\n",
       "dtype: float64"
      ]
     },
     "execution_count": 146,
     "metadata": {},
     "output_type": "execute_result"
    }
   ],
   "source": [
    "df.mean()"
   ]
  },
  {
   "cell_type": "code",
   "execution_count": 149,
   "metadata": {
    "ExecuteTime": {
     "end_time": "2020-11-18T00:10:49.056098Z",
     "start_time": "2020-11-18T00:10:49.037174Z"
    }
   },
   "outputs": [
    {
     "data": {
      "text/plain": [
       "0    0.511453\n",
       "1    0.314727\n",
       "2    0.477705\n",
       "3    0.219965\n",
       "4    0.467526\n",
       "5    0.446011\n",
       "6    0.416993\n",
       "7    0.655629\n",
       "dtype: float64"
      ]
     },
     "execution_count": 149,
     "metadata": {},
     "output_type": "execute_result"
    }
   ],
   "source": [
    "df.mean(axis=1)"
   ]
  },
  {
   "cell_type": "code",
   "execution_count": 152,
   "metadata": {
    "ExecuteTime": {
     "end_time": "2020-11-18T00:12:22.266988Z",
     "start_time": "2020-11-18T00:12:22.261004Z"
    },
    "scrolled": true
   },
   "outputs": [
    {
     "data": {
      "text/plain": [
       "Andre      0.211203\n",
       "Rai        0.298165\n",
       "Rodrigo    0.251372\n",
       "Vamp       0.301655\n",
       "dtype: float64"
      ]
     },
     "execution_count": 152,
     "metadata": {},
     "output_type": "execute_result"
    }
   ],
   "source": [
    "df.std()"
   ]
  },
  {
   "cell_type": "code",
   "execution_count": 163,
   "metadata": {
    "ExecuteTime": {
     "end_time": "2020-11-18T00:16:57.018934Z",
     "start_time": "2020-11-18T00:16:57.005541Z"
    },
    "scrolled": true
   },
   "outputs": [
    {
     "data": {
      "text/html": [
       "<div>\n",
       "<style scoped>\n",
       "    .dataframe tbody tr th:only-of-type {\n",
       "        vertical-align: middle;\n",
       "    }\n",
       "\n",
       "    .dataframe tbody tr th {\n",
       "        vertical-align: top;\n",
       "    }\n",
       "\n",
       "    .dataframe thead th {\n",
       "        text-align: right;\n",
       "    }\n",
       "</style>\n",
       "<table border=\"1\" class=\"dataframe\">\n",
       "  <thead>\n",
       "    <tr style=\"text-align: right;\">\n",
       "      <th></th>\n",
       "      <th>nota</th>\n",
       "      <th>cargo</th>\n",
       "    </tr>\n",
       "  </thead>\n",
       "  <tbody>\n",
       "    <tr>\n",
       "      <th>Andre</th>\n",
       "      <td>1</td>\n",
       "      <td>Professor</td>\n",
       "    </tr>\n",
       "    <tr>\n",
       "      <th>Raiana</th>\n",
       "      <td>2</td>\n",
       "      <td>TA</td>\n",
       "    </tr>\n",
       "    <tr>\n",
       "      <th>Guilherme</th>\n",
       "      <td>3</td>\n",
       "      <td>Prof</td>\n",
       "    </tr>\n",
       "    <tr>\n",
       "      <th>Gisele</th>\n",
       "      <td>5</td>\n",
       "      <td>Aluno</td>\n",
       "    </tr>\n",
       "    <tr>\n",
       "      <th>Raiana</th>\n",
       "      <td>7</td>\n",
       "      <td>Aluna</td>\n",
       "    </tr>\n",
       "    <tr>\n",
       "      <th>Gabriel</th>\n",
       "      <td>9</td>\n",
       "      <td>Aluna</td>\n",
       "    </tr>\n",
       "  </tbody>\n",
       "</table>\n",
       "</div>"
      ],
      "text/plain": [
       "           nota      cargo\n",
       "Andre         1  Professor\n",
       "Raiana        2         TA\n",
       "Guilherme     3       Prof\n",
       "Gisele        5      Aluno\n",
       "Raiana        7      Aluna\n",
       "Gabriel       9      Aluna"
      ]
     },
     "execution_count": 163,
     "metadata": {},
     "output_type": "execute_result"
    }
   ],
   "source": [
    "df_2#.describe()"
   ]
  },
  {
   "cell_type": "code",
   "execution_count": 162,
   "metadata": {
    "ExecuteTime": {
     "end_time": "2020-11-18T00:16:43.858264Z",
     "start_time": "2020-11-18T00:16:43.841287Z"
    }
   },
   "outputs": [
    {
     "data": {
      "text/html": [
       "<div>\n",
       "<style scoped>\n",
       "    .dataframe tbody tr th:only-of-type {\n",
       "        vertical-align: middle;\n",
       "    }\n",
       "\n",
       "    .dataframe tbody tr th {\n",
       "        vertical-align: top;\n",
       "    }\n",
       "\n",
       "    .dataframe thead th {\n",
       "        text-align: right;\n",
       "    }\n",
       "</style>\n",
       "<table border=\"1\" class=\"dataframe\">\n",
       "  <thead>\n",
       "    <tr style=\"text-align: right;\">\n",
       "      <th></th>\n",
       "      <th>Andre</th>\n",
       "      <th>Rai</th>\n",
       "      <th>Rodrigo</th>\n",
       "      <th>Vamp</th>\n",
       "    </tr>\n",
       "  </thead>\n",
       "  <tbody>\n",
       "    <tr>\n",
       "      <th>0</th>\n",
       "      <td>0.599211</td>\n",
       "      <td>0.908881</td>\n",
       "      <td>0.358237</td>\n",
       "      <td>0.179483</td>\n",
       "    </tr>\n",
       "    <tr>\n",
       "      <th>1</th>\n",
       "      <td>0.367232</td>\n",
       "      <td>0.137365</td>\n",
       "      <td>0.492369</td>\n",
       "      <td>0.261942</td>\n",
       "    </tr>\n",
       "    <tr>\n",
       "      <th>2</th>\n",
       "      <td>0.427096</td>\n",
       "      <td>0.101282</td>\n",
       "      <td>0.706888</td>\n",
       "      <td>0.675554</td>\n",
       "    </tr>\n",
       "    <tr>\n",
       "      <th>3</th>\n",
       "      <td>0.025222</td>\n",
       "      <td>0.503995</td>\n",
       "      <td>0.120277</td>\n",
       "      <td>0.230367</td>\n",
       "    </tr>\n",
       "    <tr>\n",
       "      <th>4</th>\n",
       "      <td>0.700838</td>\n",
       "      <td>0.538928</td>\n",
       "      <td>0.477258</td>\n",
       "      <td>0.153079</td>\n",
       "    </tr>\n",
       "    <tr>\n",
       "      <th>5</th>\n",
       "      <td>0.516804</td>\n",
       "      <td>0.059523</td>\n",
       "      <td>0.445050</td>\n",
       "      <td>0.762666</td>\n",
       "    </tr>\n",
       "    <tr>\n",
       "      <th>6</th>\n",
       "      <td>0.308967</td>\n",
       "      <td>0.211154</td>\n",
       "      <td>0.567479</td>\n",
       "      <td>0.580374</td>\n",
       "    </tr>\n",
       "    <tr>\n",
       "      <th>7</th>\n",
       "      <td>0.575250</td>\n",
       "      <td>0.138184</td>\n",
       "      <td>0.979351</td>\n",
       "      <td>0.929731</td>\n",
       "    </tr>\n",
       "  </tbody>\n",
       "</table>\n",
       "</div>"
      ],
      "text/plain": [
       "      Andre       Rai   Rodrigo      Vamp\n",
       "0  0.599211  0.908881  0.358237  0.179483\n",
       "1  0.367232  0.137365  0.492369  0.261942\n",
       "2  0.427096  0.101282  0.706888  0.675554\n",
       "3  0.025222  0.503995  0.120277  0.230367\n",
       "4  0.700838  0.538928  0.477258  0.153079\n",
       "5  0.516804  0.059523  0.445050  0.762666\n",
       "6  0.308967  0.211154  0.567479  0.580374\n",
       "7  0.575250  0.138184  0.979351  0.929731"
      ]
     },
     "execution_count": 162,
     "metadata": {},
     "output_type": "execute_result"
    }
   ],
   "source": [
    "df"
   ]
  },
  {
   "cell_type": "code",
   "execution_count": 164,
   "metadata": {
    "ExecuteTime": {
     "end_time": "2020-11-18T00:18:42.288395Z",
     "start_time": "2020-11-18T00:18:42.254903Z"
    },
    "scrolled": true
   },
   "outputs": [
    {
     "data": {
      "text/html": [
       "<div>\n",
       "<style scoped>\n",
       "    .dataframe tbody tr th:only-of-type {\n",
       "        vertical-align: middle;\n",
       "    }\n",
       "\n",
       "    .dataframe tbody tr th {\n",
       "        vertical-align: top;\n",
       "    }\n",
       "\n",
       "    .dataframe thead th {\n",
       "        text-align: right;\n",
       "    }\n",
       "</style>\n",
       "<table border=\"1\" class=\"dataframe\">\n",
       "  <thead>\n",
       "    <tr style=\"text-align: right;\">\n",
       "      <th></th>\n",
       "      <th>0</th>\n",
       "      <th>1</th>\n",
       "      <th>2</th>\n",
       "      <th>3</th>\n",
       "      <th>4</th>\n",
       "      <th>5</th>\n",
       "      <th>6</th>\n",
       "      <th>7</th>\n",
       "    </tr>\n",
       "  </thead>\n",
       "  <tbody>\n",
       "    <tr>\n",
       "      <th>count</th>\n",
       "      <td>4.000000</td>\n",
       "      <td>4.000000</td>\n",
       "      <td>4.000000</td>\n",
       "      <td>4.000000</td>\n",
       "      <td>4.000000</td>\n",
       "      <td>4.000000</td>\n",
       "      <td>4.000000</td>\n",
       "      <td>4.000000</td>\n",
       "    </tr>\n",
       "    <tr>\n",
       "      <th>mean</th>\n",
       "      <td>0.511453</td>\n",
       "      <td>0.314727</td>\n",
       "      <td>0.477705</td>\n",
       "      <td>0.219965</td>\n",
       "      <td>0.467526</td>\n",
       "      <td>0.446011</td>\n",
       "      <td>0.416993</td>\n",
       "      <td>0.655629</td>\n",
       "    </tr>\n",
       "    <tr>\n",
       "      <th>std</th>\n",
       "      <td>0.315874</td>\n",
       "      <td>0.151170</td>\n",
       "      <td>0.280431</td>\n",
       "      <td>0.207078</td>\n",
       "      <td>0.229858</td>\n",
       "      <td>0.291351</td>\n",
       "      <td>0.185633</td>\n",
       "      <td>0.389075</td>\n",
       "    </tr>\n",
       "    <tr>\n",
       "      <th>min</th>\n",
       "      <td>0.179483</td>\n",
       "      <td>0.137365</td>\n",
       "      <td>0.101282</td>\n",
       "      <td>0.025222</td>\n",
       "      <td>0.153079</td>\n",
       "      <td>0.059523</td>\n",
       "      <td>0.211154</td>\n",
       "      <td>0.138184</td>\n",
       "    </tr>\n",
       "    <tr>\n",
       "      <th>25%</th>\n",
       "      <td>0.313548</td>\n",
       "      <td>0.230798</td>\n",
       "      <td>0.345642</td>\n",
       "      <td>0.096513</td>\n",
       "      <td>0.396213</td>\n",
       "      <td>0.348669</td>\n",
       "      <td>0.284513</td>\n",
       "      <td>0.465984</td>\n",
       "    </tr>\n",
       "    <tr>\n",
       "      <th>50%</th>\n",
       "      <td>0.478724</td>\n",
       "      <td>0.314587</td>\n",
       "      <td>0.551325</td>\n",
       "      <td>0.175322</td>\n",
       "      <td>0.508093</td>\n",
       "      <td>0.480927</td>\n",
       "      <td>0.438223</td>\n",
       "      <td>0.752491</td>\n",
       "    </tr>\n",
       "    <tr>\n",
       "      <th>75%</th>\n",
       "      <td>0.676629</td>\n",
       "      <td>0.398516</td>\n",
       "      <td>0.683388</td>\n",
       "      <td>0.298774</td>\n",
       "      <td>0.579405</td>\n",
       "      <td>0.578270</td>\n",
       "      <td>0.570703</td>\n",
       "      <td>0.942136</td>\n",
       "    </tr>\n",
       "    <tr>\n",
       "      <th>max</th>\n",
       "      <td>0.908881</td>\n",
       "      <td>0.492369</td>\n",
       "      <td>0.706888</td>\n",
       "      <td>0.503995</td>\n",
       "      <td>0.700838</td>\n",
       "      <td>0.762666</td>\n",
       "      <td>0.580374</td>\n",
       "      <td>0.979351</td>\n",
       "    </tr>\n",
       "  </tbody>\n",
       "</table>\n",
       "</div>"
      ],
      "text/plain": [
       "              0         1         2         3         4         5         6  \\\n",
       "count  4.000000  4.000000  4.000000  4.000000  4.000000  4.000000  4.000000   \n",
       "mean   0.511453  0.314727  0.477705  0.219965  0.467526  0.446011  0.416993   \n",
       "std    0.315874  0.151170  0.280431  0.207078  0.229858  0.291351  0.185633   \n",
       "min    0.179483  0.137365  0.101282  0.025222  0.153079  0.059523  0.211154   \n",
       "25%    0.313548  0.230798  0.345642  0.096513  0.396213  0.348669  0.284513   \n",
       "50%    0.478724  0.314587  0.551325  0.175322  0.508093  0.480927  0.438223   \n",
       "75%    0.676629  0.398516  0.683388  0.298774  0.579405  0.578270  0.570703   \n",
       "max    0.908881  0.492369  0.706888  0.503995  0.700838  0.762666  0.580374   \n",
       "\n",
       "              7  \n",
       "count  4.000000  \n",
       "mean   0.655629  \n",
       "std    0.389075  \n",
       "min    0.138184  \n",
       "25%    0.465984  \n",
       "50%    0.752491  \n",
       "75%    0.942136  \n",
       "max    0.979351  "
      ]
     },
     "execution_count": 164,
     "metadata": {},
     "output_type": "execute_result"
    }
   ],
   "source": [
    "df.transpose().describe()"
   ]
  },
  {
   "cell_type": "code",
   "execution_count": 165,
   "metadata": {
    "ExecuteTime": {
     "end_time": "2020-11-18T00:19:14.384239Z",
     "start_time": "2020-11-18T00:19:14.366329Z"
    }
   },
   "outputs": [
    {
     "data": {
      "text/html": [
       "<div>\n",
       "<style scoped>\n",
       "    .dataframe tbody tr th:only-of-type {\n",
       "        vertical-align: middle;\n",
       "    }\n",
       "\n",
       "    .dataframe tbody tr th {\n",
       "        vertical-align: top;\n",
       "    }\n",
       "\n",
       "    .dataframe thead th {\n",
       "        text-align: right;\n",
       "    }\n",
       "</style>\n",
       "<table border=\"1\" class=\"dataframe\">\n",
       "  <thead>\n",
       "    <tr style=\"text-align: right;\">\n",
       "      <th></th>\n",
       "      <th>Andre</th>\n",
       "      <th>Rai</th>\n",
       "      <th>Rodrigo</th>\n",
       "      <th>Vamp</th>\n",
       "    </tr>\n",
       "  </thead>\n",
       "  <tbody>\n",
       "    <tr>\n",
       "      <th>0</th>\n",
       "      <td>0.599211</td>\n",
       "      <td>0.908881</td>\n",
       "      <td>0.358237</td>\n",
       "      <td>0.179483</td>\n",
       "    </tr>\n",
       "    <tr>\n",
       "      <th>1</th>\n",
       "      <td>0.367232</td>\n",
       "      <td>0.137365</td>\n",
       "      <td>0.492369</td>\n",
       "      <td>0.261942</td>\n",
       "    </tr>\n",
       "    <tr>\n",
       "      <th>2</th>\n",
       "      <td>0.427096</td>\n",
       "      <td>0.101282</td>\n",
       "      <td>0.706888</td>\n",
       "      <td>0.675554</td>\n",
       "    </tr>\n",
       "    <tr>\n",
       "      <th>3</th>\n",
       "      <td>0.025222</td>\n",
       "      <td>0.503995</td>\n",
       "      <td>0.120277</td>\n",
       "      <td>0.230367</td>\n",
       "    </tr>\n",
       "    <tr>\n",
       "      <th>4</th>\n",
       "      <td>0.700838</td>\n",
       "      <td>0.538928</td>\n",
       "      <td>0.477258</td>\n",
       "      <td>0.153079</td>\n",
       "    </tr>\n",
       "    <tr>\n",
       "      <th>5</th>\n",
       "      <td>0.516804</td>\n",
       "      <td>0.059523</td>\n",
       "      <td>0.445050</td>\n",
       "      <td>0.762666</td>\n",
       "    </tr>\n",
       "    <tr>\n",
       "      <th>6</th>\n",
       "      <td>0.308967</td>\n",
       "      <td>0.211154</td>\n",
       "      <td>0.567479</td>\n",
       "      <td>0.580374</td>\n",
       "    </tr>\n",
       "    <tr>\n",
       "      <th>7</th>\n",
       "      <td>0.575250</td>\n",
       "      <td>0.138184</td>\n",
       "      <td>0.979351</td>\n",
       "      <td>0.929731</td>\n",
       "    </tr>\n",
       "  </tbody>\n",
       "</table>\n",
       "</div>"
      ],
      "text/plain": [
       "      Andre       Rai   Rodrigo      Vamp\n",
       "0  0.599211  0.908881  0.358237  0.179483\n",
       "1  0.367232  0.137365  0.492369  0.261942\n",
       "2  0.427096  0.101282  0.706888  0.675554\n",
       "3  0.025222  0.503995  0.120277  0.230367\n",
       "4  0.700838  0.538928  0.477258  0.153079\n",
       "5  0.516804  0.059523  0.445050  0.762666\n",
       "6  0.308967  0.211154  0.567479  0.580374\n",
       "7  0.575250  0.138184  0.979351  0.929731"
      ]
     },
     "execution_count": 165,
     "metadata": {},
     "output_type": "execute_result"
    }
   ],
   "source": [
    "df"
   ]
  },
  {
   "cell_type": "code",
   "execution_count": 166,
   "metadata": {
    "ExecuteTime": {
     "end_time": "2020-11-18T00:19:39.538490Z",
     "start_time": "2020-11-18T00:19:39.526120Z"
    },
    "scrolled": true
   },
   "outputs": [
    {
     "data": {
      "text/html": [
       "<div>\n",
       "<style scoped>\n",
       "    .dataframe tbody tr th:only-of-type {\n",
       "        vertical-align: middle;\n",
       "    }\n",
       "\n",
       "    .dataframe tbody tr th {\n",
       "        vertical-align: top;\n",
       "    }\n",
       "\n",
       "    .dataframe thead th {\n",
       "        text-align: right;\n",
       "    }\n",
       "</style>\n",
       "<table border=\"1\" class=\"dataframe\">\n",
       "  <thead>\n",
       "    <tr style=\"text-align: right;\">\n",
       "      <th></th>\n",
       "      <th>Andre</th>\n",
       "      <th>Rai</th>\n",
       "      <th>Rodrigo</th>\n",
       "      <th>Vamp</th>\n",
       "      <th>Total</th>\n",
       "    </tr>\n",
       "  </thead>\n",
       "  <tbody>\n",
       "    <tr>\n",
       "      <th>0</th>\n",
       "      <td>0.599211</td>\n",
       "      <td>0.908881</td>\n",
       "      <td>0.358237</td>\n",
       "      <td>0.179483</td>\n",
       "      <td>0.778694</td>\n",
       "    </tr>\n",
       "    <tr>\n",
       "      <th>1</th>\n",
       "      <td>0.367232</td>\n",
       "      <td>0.137365</td>\n",
       "      <td>0.492369</td>\n",
       "      <td>0.261942</td>\n",
       "      <td>0.629174</td>\n",
       "    </tr>\n",
       "    <tr>\n",
       "      <th>2</th>\n",
       "      <td>0.427096</td>\n",
       "      <td>0.101282</td>\n",
       "      <td>0.706888</td>\n",
       "      <td>0.675554</td>\n",
       "      <td>1.102650</td>\n",
       "    </tr>\n",
       "    <tr>\n",
       "      <th>3</th>\n",
       "      <td>0.025222</td>\n",
       "      <td>0.503995</td>\n",
       "      <td>0.120277</td>\n",
       "      <td>0.230367</td>\n",
       "      <td>0.255589</td>\n",
       "    </tr>\n",
       "    <tr>\n",
       "      <th>4</th>\n",
       "      <td>0.700838</td>\n",
       "      <td>0.538928</td>\n",
       "      <td>0.477258</td>\n",
       "      <td>0.153079</td>\n",
       "      <td>0.853917</td>\n",
       "    </tr>\n",
       "    <tr>\n",
       "      <th>5</th>\n",
       "      <td>0.516804</td>\n",
       "      <td>0.059523</td>\n",
       "      <td>0.445050</td>\n",
       "      <td>0.762666</td>\n",
       "      <td>1.279470</td>\n",
       "    </tr>\n",
       "    <tr>\n",
       "      <th>6</th>\n",
       "      <td>0.308967</td>\n",
       "      <td>0.211154</td>\n",
       "      <td>0.567479</td>\n",
       "      <td>0.580374</td>\n",
       "      <td>0.889340</td>\n",
       "    </tr>\n",
       "    <tr>\n",
       "      <th>7</th>\n",
       "      <td>0.575250</td>\n",
       "      <td>0.138184</td>\n",
       "      <td>0.979351</td>\n",
       "      <td>0.929731</td>\n",
       "      <td>1.504981</td>\n",
       "    </tr>\n",
       "  </tbody>\n",
       "</table>\n",
       "</div>"
      ],
      "text/plain": [
       "      Andre       Rai   Rodrigo      Vamp     Total\n",
       "0  0.599211  0.908881  0.358237  0.179483  0.778694\n",
       "1  0.367232  0.137365  0.492369  0.261942  0.629174\n",
       "2  0.427096  0.101282  0.706888  0.675554  1.102650\n",
       "3  0.025222  0.503995  0.120277  0.230367  0.255589\n",
       "4  0.700838  0.538928  0.477258  0.153079  0.853917\n",
       "5  0.516804  0.059523  0.445050  0.762666  1.279470\n",
       "6  0.308967  0.211154  0.567479  0.580374  0.889340\n",
       "7  0.575250  0.138184  0.979351  0.929731  1.504981"
      ]
     },
     "execution_count": 166,
     "metadata": {},
     "output_type": "execute_result"
    }
   ],
   "source": [
    "df['Total'] = df['Andre'] + df['Vamp']\n",
    "df"
   ]
  },
  {
   "cell_type": "code",
   "execution_count": 167,
   "metadata": {
    "ExecuteTime": {
     "end_time": "2020-11-18T00:20:26.530756Z",
     "start_time": "2020-11-18T00:20:26.509282Z"
    },
    "scrolled": true
   },
   "outputs": [
    {
     "data": {
      "text/html": [
       "<div>\n",
       "<style scoped>\n",
       "    .dataframe tbody tr th:only-of-type {\n",
       "        vertical-align: middle;\n",
       "    }\n",
       "\n",
       "    .dataframe tbody tr th {\n",
       "        vertical-align: top;\n",
       "    }\n",
       "\n",
       "    .dataframe thead th {\n",
       "        text-align: right;\n",
       "    }\n",
       "</style>\n",
       "<table border=\"1\" class=\"dataframe\">\n",
       "  <thead>\n",
       "    <tr style=\"text-align: right;\">\n",
       "      <th></th>\n",
       "      <th>Rai</th>\n",
       "      <th>Rodrigo</th>\n",
       "    </tr>\n",
       "  </thead>\n",
       "  <tbody>\n",
       "    <tr>\n",
       "      <th>0</th>\n",
       "      <td>0.908881</td>\n",
       "      <td>0.358237</td>\n",
       "    </tr>\n",
       "    <tr>\n",
       "      <th>1</th>\n",
       "      <td>0.137365</td>\n",
       "      <td>0.492369</td>\n",
       "    </tr>\n",
       "    <tr>\n",
       "      <th>2</th>\n",
       "      <td>0.101282</td>\n",
       "      <td>0.706888</td>\n",
       "    </tr>\n",
       "    <tr>\n",
       "      <th>3</th>\n",
       "      <td>0.503995</td>\n",
       "      <td>0.120277</td>\n",
       "    </tr>\n",
       "    <tr>\n",
       "      <th>4</th>\n",
       "      <td>0.538928</td>\n",
       "      <td>0.477258</td>\n",
       "    </tr>\n",
       "    <tr>\n",
       "      <th>5</th>\n",
       "      <td>0.059523</td>\n",
       "      <td>0.445050</td>\n",
       "    </tr>\n",
       "    <tr>\n",
       "      <th>6</th>\n",
       "      <td>0.211154</td>\n",
       "      <td>0.567479</td>\n",
       "    </tr>\n",
       "    <tr>\n",
       "      <th>7</th>\n",
       "      <td>0.138184</td>\n",
       "      <td>0.979351</td>\n",
       "    </tr>\n",
       "  </tbody>\n",
       "</table>\n",
       "</div>"
      ],
      "text/plain": [
       "        Rai   Rodrigo\n",
       "0  0.908881  0.358237\n",
       "1  0.137365  0.492369\n",
       "2  0.101282  0.706888\n",
       "3  0.503995  0.120277\n",
       "4  0.538928  0.477258\n",
       "5  0.059523  0.445050\n",
       "6  0.211154  0.567479\n",
       "7  0.138184  0.979351"
      ]
     },
     "execution_count": 167,
     "metadata": {},
     "output_type": "execute_result"
    }
   ],
   "source": [
    "df[['Rai','Rodrigo']]"
   ]
  },
  {
   "cell_type": "code",
   "execution_count": 168,
   "metadata": {
    "ExecuteTime": {
     "end_time": "2020-11-18T00:21:12.952884Z",
     "start_time": "2020-11-18T00:21:12.941914Z"
    }
   },
   "outputs": [
    {
     "data": {
      "text/html": [
       "<div>\n",
       "<style scoped>\n",
       "    .dataframe tbody tr th:only-of-type {\n",
       "        vertical-align: middle;\n",
       "    }\n",
       "\n",
       "    .dataframe tbody tr th {\n",
       "        vertical-align: top;\n",
       "    }\n",
       "\n",
       "    .dataframe thead th {\n",
       "        text-align: right;\n",
       "    }\n",
       "</style>\n",
       "<table border=\"1\" class=\"dataframe\">\n",
       "  <thead>\n",
       "    <tr style=\"text-align: right;\">\n",
       "      <th></th>\n",
       "      <th>Andre</th>\n",
       "      <th>Vamp</th>\n",
       "      <th>Total</th>\n",
       "    </tr>\n",
       "  </thead>\n",
       "  <tbody>\n",
       "    <tr>\n",
       "      <th>0</th>\n",
       "      <td>0.599211</td>\n",
       "      <td>0.179483</td>\n",
       "      <td>0.778694</td>\n",
       "    </tr>\n",
       "    <tr>\n",
       "      <th>1</th>\n",
       "      <td>0.367232</td>\n",
       "      <td>0.261942</td>\n",
       "      <td>0.629174</td>\n",
       "    </tr>\n",
       "    <tr>\n",
       "      <th>2</th>\n",
       "      <td>0.427096</td>\n",
       "      <td>0.675554</td>\n",
       "      <td>1.102650</td>\n",
       "    </tr>\n",
       "    <tr>\n",
       "      <th>3</th>\n",
       "      <td>0.025222</td>\n",
       "      <td>0.230367</td>\n",
       "      <td>0.255589</td>\n",
       "    </tr>\n",
       "    <tr>\n",
       "      <th>4</th>\n",
       "      <td>0.700838</td>\n",
       "      <td>0.153079</td>\n",
       "      <td>0.853917</td>\n",
       "    </tr>\n",
       "    <tr>\n",
       "      <th>5</th>\n",
       "      <td>0.516804</td>\n",
       "      <td>0.762666</td>\n",
       "      <td>1.279470</td>\n",
       "    </tr>\n",
       "    <tr>\n",
       "      <th>6</th>\n",
       "      <td>0.308967</td>\n",
       "      <td>0.580374</td>\n",
       "      <td>0.889340</td>\n",
       "    </tr>\n",
       "    <tr>\n",
       "      <th>7</th>\n",
       "      <td>0.575250</td>\n",
       "      <td>0.929731</td>\n",
       "      <td>1.504981</td>\n",
       "    </tr>\n",
       "  </tbody>\n",
       "</table>\n",
       "</div>"
      ],
      "text/plain": [
       "      Andre      Vamp     Total\n",
       "0  0.599211  0.179483  0.778694\n",
       "1  0.367232  0.261942  0.629174\n",
       "2  0.427096  0.675554  1.102650\n",
       "3  0.025222  0.230367  0.255589\n",
       "4  0.700838  0.153079  0.853917\n",
       "5  0.516804  0.762666  1.279470\n",
       "6  0.308967  0.580374  0.889340\n",
       "7  0.575250  0.929731  1.504981"
      ]
     },
     "execution_count": 168,
     "metadata": {},
     "output_type": "execute_result"
    }
   ],
   "source": []
  },
  {
   "cell_type": "code",
   "execution_count": null,
   "metadata": {
    "ExecuteTime": {
     "end_time": "2020-07-31T00:37:44.790285Z",
     "start_time": "2020-07-31T00:37:44.785284Z"
    }
   },
   "outputs": [],
   "source": [
    "df.mean()"
   ]
  },
  {
   "cell_type": "code",
   "execution_count": null,
   "metadata": {
    "ExecuteTime": {
     "end_time": "2020-07-29T18:08:47.414040Z",
     "start_time": "2020-07-29T18:08:47.409036Z"
    }
   },
   "outputs": [],
   "source": [
    "df['Andre']"
   ]
  },
  {
   "cell_type": "markdown",
   "metadata": {},
   "source": [
    "# Pandas Index"
   ]
  },
  {
   "cell_type": "code",
   "execution_count": 169,
   "metadata": {
    "ExecuteTime": {
     "end_time": "2020-11-18T00:21:51.076510Z",
     "start_time": "2020-11-18T00:21:51.069531Z"
    }
   },
   "outputs": [
    {
     "data": {
      "text/plain": [
       "Int64Index([1, 2, 3], dtype='int64')"
      ]
     },
     "execution_count": 169,
     "metadata": {},
     "output_type": "execute_result"
    }
   ],
   "source": [
    "pd.Index([1,2,3])"
   ]
  },
  {
   "cell_type": "code",
   "execution_count": 170,
   "metadata": {
    "ExecuteTime": {
     "end_time": "2020-11-18T00:21:54.566161Z",
     "start_time": "2020-11-18T00:21:54.548699Z"
    }
   },
   "outputs": [
    {
     "data": {
      "text/html": [
       "<div>\n",
       "<style scoped>\n",
       "    .dataframe tbody tr th:only-of-type {\n",
       "        vertical-align: middle;\n",
       "    }\n",
       "\n",
       "    .dataframe tbody tr th {\n",
       "        vertical-align: top;\n",
       "    }\n",
       "\n",
       "    .dataframe thead th {\n",
       "        text-align: right;\n",
       "    }\n",
       "</style>\n",
       "<table border=\"1\" class=\"dataframe\">\n",
       "  <thead>\n",
       "    <tr style=\"text-align: right;\">\n",
       "      <th></th>\n",
       "      <th>Andre</th>\n",
       "      <th>Rai</th>\n",
       "      <th>Rodrigo</th>\n",
       "      <th>Vamp</th>\n",
       "      <th>Total</th>\n",
       "    </tr>\n",
       "  </thead>\n",
       "  <tbody>\n",
       "    <tr>\n",
       "      <th>0</th>\n",
       "      <td>0.599211</td>\n",
       "      <td>0.908881</td>\n",
       "      <td>0.358237</td>\n",
       "      <td>0.179483</td>\n",
       "      <td>0.778694</td>\n",
       "    </tr>\n",
       "    <tr>\n",
       "      <th>1</th>\n",
       "      <td>0.367232</td>\n",
       "      <td>0.137365</td>\n",
       "      <td>0.492369</td>\n",
       "      <td>0.261942</td>\n",
       "      <td>0.629174</td>\n",
       "    </tr>\n",
       "    <tr>\n",
       "      <th>2</th>\n",
       "      <td>0.427096</td>\n",
       "      <td>0.101282</td>\n",
       "      <td>0.706888</td>\n",
       "      <td>0.675554</td>\n",
       "      <td>1.102650</td>\n",
       "    </tr>\n",
       "    <tr>\n",
       "      <th>3</th>\n",
       "      <td>0.025222</td>\n",
       "      <td>0.503995</td>\n",
       "      <td>0.120277</td>\n",
       "      <td>0.230367</td>\n",
       "      <td>0.255589</td>\n",
       "    </tr>\n",
       "    <tr>\n",
       "      <th>4</th>\n",
       "      <td>0.700838</td>\n",
       "      <td>0.538928</td>\n",
       "      <td>0.477258</td>\n",
       "      <td>0.153079</td>\n",
       "      <td>0.853917</td>\n",
       "    </tr>\n",
       "    <tr>\n",
       "      <th>5</th>\n",
       "      <td>0.516804</td>\n",
       "      <td>0.059523</td>\n",
       "      <td>0.445050</td>\n",
       "      <td>0.762666</td>\n",
       "      <td>1.279470</td>\n",
       "    </tr>\n",
       "    <tr>\n",
       "      <th>6</th>\n",
       "      <td>0.308967</td>\n",
       "      <td>0.211154</td>\n",
       "      <td>0.567479</td>\n",
       "      <td>0.580374</td>\n",
       "      <td>0.889340</td>\n",
       "    </tr>\n",
       "    <tr>\n",
       "      <th>7</th>\n",
       "      <td>0.575250</td>\n",
       "      <td>0.138184</td>\n",
       "      <td>0.979351</td>\n",
       "      <td>0.929731</td>\n",
       "      <td>1.504981</td>\n",
       "    </tr>\n",
       "  </tbody>\n",
       "</table>\n",
       "</div>"
      ],
      "text/plain": [
       "      Andre       Rai   Rodrigo      Vamp     Total\n",
       "0  0.599211  0.908881  0.358237  0.179483  0.778694\n",
       "1  0.367232  0.137365  0.492369  0.261942  0.629174\n",
       "2  0.427096  0.101282  0.706888  0.675554  1.102650\n",
       "3  0.025222  0.503995  0.120277  0.230367  0.255589\n",
       "4  0.700838  0.538928  0.477258  0.153079  0.853917\n",
       "5  0.516804  0.059523  0.445050  0.762666  1.279470\n",
       "6  0.308967  0.211154  0.567479  0.580374  0.889340\n",
       "7  0.575250  0.138184  0.979351  0.929731  1.504981"
      ]
     },
     "execution_count": 170,
     "metadata": {},
     "output_type": "execute_result"
    }
   ],
   "source": [
    "df"
   ]
  },
  {
   "cell_type": "code",
   "execution_count": 172,
   "metadata": {
    "ExecuteTime": {
     "end_time": "2020-11-18T00:22:15.925564Z",
     "start_time": "2020-11-18T00:22:15.916060Z"
    }
   },
   "outputs": [
    {
     "data": {
      "text/plain": [
       "[0, 1, 2, 3, 4, 5, 6, 7]"
      ]
     },
     "execution_count": 172,
     "metadata": {},
     "output_type": "execute_result"
    }
   ],
   "source": [
    "list(df.index)"
   ]
  },
  {
   "cell_type": "code",
   "execution_count": 173,
   "metadata": {
    "ExecuteTime": {
     "end_time": "2020-11-18T00:22:21.279113Z",
     "start_time": "2020-11-18T00:22:21.261175Z"
    }
   },
   "outputs": [
    {
     "data": {
      "text/plain": [
       "array([0, 1, 2, 3, 4, 5, 6, 7], dtype=int64)"
      ]
     },
     "execution_count": 173,
     "metadata": {},
     "output_type": "execute_result"
    }
   ],
   "source": [
    "df.index.values"
   ]
  },
  {
   "cell_type": "code",
   "execution_count": 174,
   "metadata": {
    "ExecuteTime": {
     "end_time": "2020-11-18T00:25:34.653483Z",
     "start_time": "2020-11-18T00:25:34.638005Z"
    }
   },
   "outputs": [
    {
     "data": {
      "text/plain": [
       "0.90888139263271"
      ]
     },
     "execution_count": 174,
     "metadata": {},
     "output_type": "execute_result"
    }
   ],
   "source": [
    "df.loc[0,'Rai']"
   ]
  },
  {
   "cell_type": "code",
   "execution_count": 175,
   "metadata": {
    "ExecuteTime": {
     "end_time": "2020-11-18T00:26:18.376292Z",
     "start_time": "2020-11-18T00:26:18.356371Z"
    }
   },
   "outputs": [
    {
     "data": {
      "text/plain": [
       "0.90888139263271"
      ]
     },
     "execution_count": 175,
     "metadata": {},
     "output_type": "execute_result"
    }
   ],
   "source": [
    "df.iloc[0,1]"
   ]
  },
  {
   "cell_type": "code",
   "execution_count": 176,
   "metadata": {
    "ExecuteTime": {
     "end_time": "2020-11-18T00:27:02.320535Z",
     "start_time": "2020-11-18T00:27:02.309167Z"
    }
   },
   "outputs": [
    {
     "data": {
      "text/plain": [
       "0.90888139263271"
      ]
     },
     "execution_count": 176,
     "metadata": {},
     "output_type": "execute_result"
    }
   ],
   "source": [
    "df['Rai'][0]"
   ]
  },
  {
   "cell_type": "code",
   "execution_count": 178,
   "metadata": {
    "ExecuteTime": {
     "end_time": "2020-11-18T00:30:09.049147Z",
     "start_time": "2020-11-18T00:30:09.009151Z"
    }
   },
   "outputs": [
    {
     "data": {
      "text/html": [
       "<div>\n",
       "<style scoped>\n",
       "    .dataframe tbody tr th:only-of-type {\n",
       "        vertical-align: middle;\n",
       "    }\n",
       "\n",
       "    .dataframe tbody tr th {\n",
       "        vertical-align: top;\n",
       "    }\n",
       "\n",
       "    .dataframe thead th {\n",
       "        text-align: right;\n",
       "    }\n",
       "</style>\n",
       "<table border=\"1\" class=\"dataframe\">\n",
       "  <thead>\n",
       "    <tr style=\"text-align: right;\">\n",
       "      <th></th>\n",
       "      <th>0</th>\n",
       "      <th>1</th>\n",
       "      <th>2</th>\n",
       "      <th>3</th>\n",
       "      <th>4</th>\n",
       "      <th>5</th>\n",
       "      <th>6</th>\n",
       "      <th>7</th>\n",
       "    </tr>\n",
       "  </thead>\n",
       "  <tbody>\n",
       "    <tr>\n",
       "      <th>count</th>\n",
       "      <td>5.000000</td>\n",
       "      <td>5.000000</td>\n",
       "      <td>5.000000</td>\n",
       "      <td>5.000000</td>\n",
       "      <td>5.000000</td>\n",
       "      <td>5.000000</td>\n",
       "      <td>5.000000</td>\n",
       "      <td>5.000000</td>\n",
       "    </tr>\n",
       "    <tr>\n",
       "      <th>mean</th>\n",
       "      <td>0.564901</td>\n",
       "      <td>0.377616</td>\n",
       "      <td>0.602694</td>\n",
       "      <td>0.227090</td>\n",
       "      <td>0.544804</td>\n",
       "      <td>0.612703</td>\n",
       "      <td>0.511463</td>\n",
       "      <td>0.825499</td>\n",
       "    </tr>\n",
       "    <tr>\n",
       "      <th>std</th>\n",
       "      <td>0.298523</td>\n",
       "      <td>0.192132</td>\n",
       "      <td>0.370260</td>\n",
       "      <td>0.180041</td>\n",
       "      <td>0.263601</td>\n",
       "      <td>0.450105</td>\n",
       "      <td>0.265456</td>\n",
       "      <td>0.507754</td>\n",
       "    </tr>\n",
       "    <tr>\n",
       "      <th>min</th>\n",
       "      <td>0.179483</td>\n",
       "      <td>0.137365</td>\n",
       "      <td>0.101282</td>\n",
       "      <td>0.025222</td>\n",
       "      <td>0.153079</td>\n",
       "      <td>0.059523</td>\n",
       "      <td>0.211154</td>\n",
       "      <td>0.138184</td>\n",
       "    </tr>\n",
       "    <tr>\n",
       "      <th>25%</th>\n",
       "      <td>0.358237</td>\n",
       "      <td>0.261942</td>\n",
       "      <td>0.427096</td>\n",
       "      <td>0.120277</td>\n",
       "      <td>0.477258</td>\n",
       "      <td>0.445050</td>\n",
       "      <td>0.308967</td>\n",
       "      <td>0.575250</td>\n",
       "    </tr>\n",
       "    <tr>\n",
       "      <th>50%</th>\n",
       "      <td>0.599211</td>\n",
       "      <td>0.367232</td>\n",
       "      <td>0.675554</td>\n",
       "      <td>0.230367</td>\n",
       "      <td>0.538928</td>\n",
       "      <td>0.516804</td>\n",
       "      <td>0.567479</td>\n",
       "      <td>0.929731</td>\n",
       "    </tr>\n",
       "    <tr>\n",
       "      <th>75%</th>\n",
       "      <td>0.778694</td>\n",
       "      <td>0.492369</td>\n",
       "      <td>0.706888</td>\n",
       "      <td>0.255589</td>\n",
       "      <td>0.700838</td>\n",
       "      <td>0.762666</td>\n",
       "      <td>0.580374</td>\n",
       "      <td>0.979351</td>\n",
       "    </tr>\n",
       "    <tr>\n",
       "      <th>max</th>\n",
       "      <td>0.908881</td>\n",
       "      <td>0.629174</td>\n",
       "      <td>1.102650</td>\n",
       "      <td>0.503995</td>\n",
       "      <td>0.853917</td>\n",
       "      <td>1.279470</td>\n",
       "      <td>0.889340</td>\n",
       "      <td>1.504981</td>\n",
       "    </tr>\n",
       "  </tbody>\n",
       "</table>\n",
       "</div>"
      ],
      "text/plain": [
       "              0         1         2         3         4         5         6  \\\n",
       "count  5.000000  5.000000  5.000000  5.000000  5.000000  5.000000  5.000000   \n",
       "mean   0.564901  0.377616  0.602694  0.227090  0.544804  0.612703  0.511463   \n",
       "std    0.298523  0.192132  0.370260  0.180041  0.263601  0.450105  0.265456   \n",
       "min    0.179483  0.137365  0.101282  0.025222  0.153079  0.059523  0.211154   \n",
       "25%    0.358237  0.261942  0.427096  0.120277  0.477258  0.445050  0.308967   \n",
       "50%    0.599211  0.367232  0.675554  0.230367  0.538928  0.516804  0.567479   \n",
       "75%    0.778694  0.492369  0.706888  0.255589  0.700838  0.762666  0.580374   \n",
       "max    0.908881  0.629174  1.102650  0.503995  0.853917  1.279470  0.889340   \n",
       "\n",
       "              7  \n",
       "count  5.000000  \n",
       "mean   0.825499  \n",
       "std    0.507754  \n",
       "min    0.138184  \n",
       "25%    0.575250  \n",
       "50%    0.929731  \n",
       "75%    0.979351  \n",
       "max    1.504981  "
      ]
     },
     "execution_count": 178,
     "metadata": {},
     "output_type": "execute_result"
    }
   ],
   "source": [
    "df.T.describe()"
   ]
  },
  {
   "cell_type": "code",
   "execution_count": 179,
   "metadata": {
    "ExecuteTime": {
     "end_time": "2020-11-18T00:30:19.979843Z",
     "start_time": "2020-11-18T00:30:19.964364Z"
    }
   },
   "outputs": [
    {
     "data": {
      "text/html": [
       "<div>\n",
       "<style scoped>\n",
       "    .dataframe tbody tr th:only-of-type {\n",
       "        vertical-align: middle;\n",
       "    }\n",
       "\n",
       "    .dataframe tbody tr th {\n",
       "        vertical-align: top;\n",
       "    }\n",
       "\n",
       "    .dataframe thead th {\n",
       "        text-align: right;\n",
       "    }\n",
       "</style>\n",
       "<table border=\"1\" class=\"dataframe\">\n",
       "  <thead>\n",
       "    <tr style=\"text-align: right;\">\n",
       "      <th></th>\n",
       "      <th>0</th>\n",
       "      <th>1</th>\n",
       "      <th>2</th>\n",
       "      <th>3</th>\n",
       "      <th>4</th>\n",
       "      <th>5</th>\n",
       "      <th>6</th>\n",
       "      <th>7</th>\n",
       "    </tr>\n",
       "  </thead>\n",
       "  <tbody>\n",
       "    <tr>\n",
       "      <th>Andre</th>\n",
       "      <td>0.599211</td>\n",
       "      <td>0.367232</td>\n",
       "      <td>0.427096</td>\n",
       "      <td>0.025222</td>\n",
       "      <td>0.700838</td>\n",
       "      <td>0.516804</td>\n",
       "      <td>0.308967</td>\n",
       "      <td>0.575250</td>\n",
       "    </tr>\n",
       "    <tr>\n",
       "      <th>Rai</th>\n",
       "      <td>0.908881</td>\n",
       "      <td>0.137365</td>\n",
       "      <td>0.101282</td>\n",
       "      <td>0.503995</td>\n",
       "      <td>0.538928</td>\n",
       "      <td>0.059523</td>\n",
       "      <td>0.211154</td>\n",
       "      <td>0.138184</td>\n",
       "    </tr>\n",
       "    <tr>\n",
       "      <th>Rodrigo</th>\n",
       "      <td>0.358237</td>\n",
       "      <td>0.492369</td>\n",
       "      <td>0.706888</td>\n",
       "      <td>0.120277</td>\n",
       "      <td>0.477258</td>\n",
       "      <td>0.445050</td>\n",
       "      <td>0.567479</td>\n",
       "      <td>0.979351</td>\n",
       "    </tr>\n",
       "    <tr>\n",
       "      <th>Vamp</th>\n",
       "      <td>0.179483</td>\n",
       "      <td>0.261942</td>\n",
       "      <td>0.675554</td>\n",
       "      <td>0.230367</td>\n",
       "      <td>0.153079</td>\n",
       "      <td>0.762666</td>\n",
       "      <td>0.580374</td>\n",
       "      <td>0.929731</td>\n",
       "    </tr>\n",
       "    <tr>\n",
       "      <th>Total</th>\n",
       "      <td>0.778694</td>\n",
       "      <td>0.629174</td>\n",
       "      <td>1.102650</td>\n",
       "      <td>0.255589</td>\n",
       "      <td>0.853917</td>\n",
       "      <td>1.279470</td>\n",
       "      <td>0.889340</td>\n",
       "      <td>1.504981</td>\n",
       "    </tr>\n",
       "  </tbody>\n",
       "</table>\n",
       "</div>"
      ],
      "text/plain": [
       "                0         1         2         3         4         5         6  \\\n",
       "Andre    0.599211  0.367232  0.427096  0.025222  0.700838  0.516804  0.308967   \n",
       "Rai      0.908881  0.137365  0.101282  0.503995  0.538928  0.059523  0.211154   \n",
       "Rodrigo  0.358237  0.492369  0.706888  0.120277  0.477258  0.445050  0.567479   \n",
       "Vamp     0.179483  0.261942  0.675554  0.230367  0.153079  0.762666  0.580374   \n",
       "Total    0.778694  0.629174  1.102650  0.255589  0.853917  1.279470  0.889340   \n",
       "\n",
       "                7  \n",
       "Andre    0.575250  \n",
       "Rai      0.138184  \n",
       "Rodrigo  0.979351  \n",
       "Vamp     0.929731  \n",
       "Total    1.504981  "
      ]
     },
     "execution_count": 179,
     "metadata": {},
     "output_type": "execute_result"
    }
   ],
   "source": [
    "df.transpose()"
   ]
  },
  {
   "cell_type": "code",
   "execution_count": 180,
   "metadata": {
    "ExecuteTime": {
     "end_time": "2020-11-18T00:30:27.575888Z",
     "start_time": "2020-11-18T00:30:27.549240Z"
    }
   },
   "outputs": [
    {
     "data": {
      "text/html": [
       "<div>\n",
       "<style scoped>\n",
       "    .dataframe tbody tr th:only-of-type {\n",
       "        vertical-align: middle;\n",
       "    }\n",
       "\n",
       "    .dataframe tbody tr th {\n",
       "        vertical-align: top;\n",
       "    }\n",
       "\n",
       "    .dataframe thead th {\n",
       "        text-align: right;\n",
       "    }\n",
       "</style>\n",
       "<table border=\"1\" class=\"dataframe\">\n",
       "  <thead>\n",
       "    <tr style=\"text-align: right;\">\n",
       "      <th></th>\n",
       "      <th>0</th>\n",
       "      <th>1</th>\n",
       "      <th>2</th>\n",
       "      <th>3</th>\n",
       "      <th>4</th>\n",
       "      <th>5</th>\n",
       "      <th>6</th>\n",
       "      <th>7</th>\n",
       "    </tr>\n",
       "  </thead>\n",
       "  <tbody>\n",
       "    <tr>\n",
       "      <th>Andre</th>\n",
       "      <td>0.599211</td>\n",
       "      <td>0.367232</td>\n",
       "      <td>0.427096</td>\n",
       "      <td>0.025222</td>\n",
       "      <td>0.700838</td>\n",
       "      <td>0.516804</td>\n",
       "      <td>0.308967</td>\n",
       "      <td>0.575250</td>\n",
       "    </tr>\n",
       "    <tr>\n",
       "      <th>Rai</th>\n",
       "      <td>0.908881</td>\n",
       "      <td>0.137365</td>\n",
       "      <td>0.101282</td>\n",
       "      <td>0.503995</td>\n",
       "      <td>0.538928</td>\n",
       "      <td>0.059523</td>\n",
       "      <td>0.211154</td>\n",
       "      <td>0.138184</td>\n",
       "    </tr>\n",
       "    <tr>\n",
       "      <th>Rodrigo</th>\n",
       "      <td>0.358237</td>\n",
       "      <td>0.492369</td>\n",
       "      <td>0.706888</td>\n",
       "      <td>0.120277</td>\n",
       "      <td>0.477258</td>\n",
       "      <td>0.445050</td>\n",
       "      <td>0.567479</td>\n",
       "      <td>0.979351</td>\n",
       "    </tr>\n",
       "    <tr>\n",
       "      <th>Vamp</th>\n",
       "      <td>0.179483</td>\n",
       "      <td>0.261942</td>\n",
       "      <td>0.675554</td>\n",
       "      <td>0.230367</td>\n",
       "      <td>0.153079</td>\n",
       "      <td>0.762666</td>\n",
       "      <td>0.580374</td>\n",
       "      <td>0.929731</td>\n",
       "    </tr>\n",
       "    <tr>\n",
       "      <th>Total</th>\n",
       "      <td>0.778694</td>\n",
       "      <td>0.629174</td>\n",
       "      <td>1.102650</td>\n",
       "      <td>0.255589</td>\n",
       "      <td>0.853917</td>\n",
       "      <td>1.279470</td>\n",
       "      <td>0.889340</td>\n",
       "      <td>1.504981</td>\n",
       "    </tr>\n",
       "  </tbody>\n",
       "</table>\n",
       "</div>"
      ],
      "text/plain": [
       "                0         1         2         3         4         5         6  \\\n",
       "Andre    0.599211  0.367232  0.427096  0.025222  0.700838  0.516804  0.308967   \n",
       "Rai      0.908881  0.137365  0.101282  0.503995  0.538928  0.059523  0.211154   \n",
       "Rodrigo  0.358237  0.492369  0.706888  0.120277  0.477258  0.445050  0.567479   \n",
       "Vamp     0.179483  0.261942  0.675554  0.230367  0.153079  0.762666  0.580374   \n",
       "Total    0.778694  0.629174  1.102650  0.255589  0.853917  1.279470  0.889340   \n",
       "\n",
       "                7  \n",
       "Andre    0.575250  \n",
       "Rai      0.138184  \n",
       "Rodrigo  0.979351  \n",
       "Vamp     0.929731  \n",
       "Total    1.504981  "
      ]
     },
     "execution_count": 180,
     "metadata": {},
     "output_type": "execute_result"
    }
   ],
   "source": [
    "df.T"
   ]
  },
  {
   "cell_type": "code",
   "execution_count": null,
   "metadata": {},
   "outputs": [],
   "source": []
  }
 ],
 "metadata": {
  "kernelspec": {
   "display_name": "Python 3",
   "language": "python",
   "name": "python3"
  },
  "language_info": {
   "codemirror_mode": {
    "name": "ipython",
    "version": 3
   },
   "file_extension": ".py",
   "mimetype": "text/x-python",
   "name": "python",
   "nbconvert_exporter": "python",
   "pygments_lexer": "ipython3",
   "version": "3.9.0"
  },
  "toc": {
   "base_numbering": 1,
   "nav_menu": {},
   "number_sections": true,
   "sideBar": true,
   "skip_h1_title": false,
   "title_cell": "Table of Contents",
   "title_sidebar": "Contents",
   "toc_cell": false,
   "toc_position": {},
   "toc_section_display": true,
   "toc_window_display": false
  },
  "varInspector": {
   "cols": {
    "lenName": 16,
    "lenType": 16,
    "lenVar": 40
   },
   "kernels_config": {
    "python": {
     "delete_cmd_postfix": "",
     "delete_cmd_prefix": "del ",
     "library": "var_list.py",
     "varRefreshCmd": "print(var_dic_list())"
    },
    "r": {
     "delete_cmd_postfix": ") ",
     "delete_cmd_prefix": "rm(",
     "library": "var_list.r",
     "varRefreshCmd": "cat(var_dic_list()) "
    }
   },
   "types_to_exclude": [
    "module",
    "function",
    "builtin_function_or_method",
    "instance",
    "_Feature"
   ],
   "window_display": false
  }
 },
 "nbformat": 4,
 "nbformat_minor": 2
}
