{
 "cells": [
  {
   "cell_type": "code",
   "execution_count": 32,
   "metadata": {
    "ExecuteTime": {
     "end_time": "2020-11-02T13:46:43.166970Z",
     "start_time": "2020-11-02T13:46:43.158974Z"
    }
   },
   "outputs": [],
   "source": [
    "import re\n",
    "import numpy as np\n",
    "import pandas as pd"
   ]
  },
  {
   "cell_type": "markdown",
   "metadata": {},
   "source": [
    "# Function definitions"
   ]
  },
  {
   "cell_type": "markdown",
   "metadata": {},
   "source": [
    "Broken into tokens:\n",
    "\n",
    "> <b>def </b>\n",
    "- Tell python that you're starting to create a function\n",
    "\n",
    "> <b>function_name</b>\n",
    "- you give that function a name for a future call\n",
    "\n",
    "> <b>(</b>\n",
    "- Open parenthesis to give arguments (or variables) that you'll use in that functions. These helps you parametrize code.\n",
    "\n",
    "> <b>[OPTIONAL] arg1, arg2, arg3, ... </b>\n",
    "- The arguments of that function\n",
    "\n",
    "> <b>)</b>\n",
    "- CLose parenthesis to say you're done creating arguments\n",
    "\n",
    "> <b>:</b>\n",
    "- colon to say you're about to start a `code block`\n",
    "\n",
    "> <b>code block</b>\n",
    "- where you effectively do something with (or without) the arguments\n",
    "\n",
    "> <b>return</b>\n",
    "- The return statement tells you're done with the function. Whether you'll return something from that or not is optional\n",
    "\n",
    "> <b>[OPTIONAL] something</b>\n",
    "- The `something` you're allowed to retur.\n",
    "\n"
   ]
  },
  {
   "cell_type": "markdown",
   "metadata": {},
   "source": [
    "```python\n",
    "def function_name(arg1):\n",
    "    something = arg1 + 10\n",
    "    return something\n",
    "```"
   ]
  },
  {
   "cell_type": "code",
   "execution_count": 33,
   "metadata": {
    "ExecuteTime": {
     "end_time": "2020-11-02T13:47:22.940651Z",
     "start_time": "2020-11-02T13:47:22.906672Z"
    },
    "scrolled": true
   },
   "outputs": [
    {
     "data": {
      "text/plain": [
       "40"
      ]
     },
     "execution_count": 33,
     "metadata": {},
     "output_type": "execute_result"
    }
   ],
   "source": [
    "def function_name(arg1):\n",
    "    something = arg1 + 10\n",
    "    return something\n",
    "\n",
    "function_name(30)"
   ]
  },
  {
   "cell_type": "code",
   "execution_count": 34,
   "metadata": {
    "ExecuteTime": {
     "end_time": "2020-11-02T13:47:34.007787Z",
     "start_time": "2020-11-02T13:47:33.997791Z"
    }
   },
   "outputs": [
    {
     "data": {
      "text/plain": [
       "64"
      ]
     },
     "execution_count": 34,
     "metadata": {},
     "output_type": "execute_result"
    }
   ],
   "source": [
    "function_name(54)"
   ]
  },
  {
   "cell_type": "markdown",
   "metadata": {},
   "source": [
    "# What is a lambda function?\n",
    "\n",
    "https://realpython.com/python-lambda/\n",
    "\n",
    "\n",
    "> Named after `lambda calculus`.\n",
    "\n",
    "> Usually refers to `anonymous functions`"
   ]
  },
  {
   "cell_type": "markdown",
   "metadata": {},
   "source": [
    "## Defining lambda functions"
   ]
  },
  {
   "cell_type": "code",
   "execution_count": 42,
   "metadata": {
    "ExecuteTime": {
     "end_time": "2020-11-02T13:55:12.485637Z",
     "start_time": "2020-11-02T13:55:12.294040Z"
    }
   },
   "outputs": [
    {
     "name": "stdout",
     "output_type": "stream",
     "text": [
      "The Zen of Python, by Tim Peters\n",
      "\n",
      "Beautiful is better than ugly.\n",
      "Explicit is better than implicit.\n",
      "Simple is better than complex.\n",
      "Complex is better than complicated.\n",
      "Flat is better than nested.\n",
      "Sparse is better than dense.\n",
      "Readability counts.\n",
      "Special cases aren't special enough to break the rules.\n",
      "Although practicality beats purity.\n",
      "Errors should never pass silently.\n",
      "Unless explicitly silenced.\n",
      "In the face of ambiguity, refuse the temptation to guess.\n",
      "There should be one-- and preferably only one --obvious way to do it.\n",
      "Although that way may not be obvious at first unless you're Dutch.\n",
      "Now is better than never.\n",
      "Although never is often better than *right* now.\n",
      "If the implementation is hard to explain, it's a bad idea.\n",
      "If the implementation is easy to explain, it may be a good idea.\n",
      "Namespaces are one honking great idea -- let's do more of those!\n"
     ]
    }
   ],
   "source": [
    "import this"
   ]
  },
  {
   "cell_type": "code",
   "execution_count": 37,
   "metadata": {
    "ExecuteTime": {
     "end_time": "2020-11-02T13:49:10.663649Z",
     "start_time": "2020-11-02T13:49:10.652655Z"
    }
   },
   "outputs": [],
   "source": [
    "def half(x):\n",
    "    return x/2"
   ]
  },
  {
   "cell_type": "code",
   "execution_count": 38,
   "metadata": {
    "ExecuteTime": {
     "end_time": "2020-11-02T13:49:12.905932Z",
     "start_time": "2020-11-02T13:49:12.885944Z"
    },
    "scrolled": true
   },
   "outputs": [
    {
     "data": {
      "text/plain": [
       "<function __main__.half(x)>"
      ]
     },
     "execution_count": 38,
     "metadata": {},
     "output_type": "execute_result"
    }
   ],
   "source": [
    "half"
   ]
  },
  {
   "cell_type": "code",
   "execution_count": 51,
   "metadata": {
    "ExecuteTime": {
     "end_time": "2020-11-02T13:59:03.389587Z",
     "start_time": "2020-11-02T13:59:03.378587Z"
    }
   },
   "outputs": [
    {
     "data": {
      "text/plain": [
       "5.0"
      ]
     },
     "execution_count": 51,
     "metadata": {},
     "output_type": "execute_result"
    }
   ],
   "source": [
    "x=10\n",
    "x/2"
   ]
  },
  {
   "cell_type": "code",
   "execution_count": 44,
   "metadata": {
    "ExecuteTime": {
     "end_time": "2020-11-02T13:56:50.172458Z",
     "start_time": "2020-11-02T13:56:50.157464Z"
    }
   },
   "outputs": [],
   "source": [
    "f= lambda x : x/2"
   ]
  },
  {
   "cell_type": "code",
   "execution_count": 41,
   "metadata": {
    "ExecuteTime": {
     "end_time": "2020-11-02T13:50:49.667449Z",
     "start_time": "2020-11-02T13:50:49.645462Z"
    }
   },
   "outputs": [
    {
     "data": {
      "text/plain": [
       "5.0"
      ]
     },
     "execution_count": 41,
     "metadata": {},
     "output_type": "execute_result"
    }
   ],
   "source": [
    "f(10)"
   ]
  },
  {
   "cell_type": "code",
   "execution_count": 45,
   "metadata": {
    "ExecuteTime": {
     "end_time": "2020-11-02T13:57:14.078027Z",
     "start_time": "2020-11-02T13:57:14.062034Z"
    }
   },
   "outputs": [
    {
     "data": {
      "text/plain": [
       "<function __main__.<lambda>(arg1)>"
      ]
     },
     "execution_count": 45,
     "metadata": {},
     "output_type": "execute_result"
    }
   ],
   "source": [
    "lambda arg1 : arg1 + 10"
   ]
  },
  {
   "cell_type": "code",
   "execution_count": 46,
   "metadata": {
    "ExecuteTime": {
     "end_time": "2020-11-02T13:57:25.095503Z",
     "start_time": "2020-11-02T13:57:25.082514Z"
    }
   },
   "outputs": [
    {
     "data": {
      "text/plain": [
       "40"
      ]
     },
     "execution_count": 46,
     "metadata": {},
     "output_type": "execute_result"
    }
   ],
   "source": [
    "(lambda arg1 : arg1 + 10)(30)"
   ]
  },
  {
   "cell_type": "code",
   "execution_count": null,
   "metadata": {
    "ExecuteTime": {
     "end_time": "2020-08-31T14:04:40.588042Z",
     "start_time": "2020-08-31T14:04:40.584042Z"
    }
   },
   "outputs": [],
   "source": [
    "(lambda arg1 : arg1 + 10)(35)"
   ]
  },
  {
   "cell_type": "code",
   "execution_count": 47,
   "metadata": {
    "ExecuteTime": {
     "end_time": "2020-11-02T13:57:37.281487Z",
     "start_time": "2020-11-02T13:57:37.265498Z"
    }
   },
   "outputs": [],
   "source": [
    "function_name = lambda arg1 : arg1 + 10"
   ]
  },
  {
   "cell_type": "code",
   "execution_count": 48,
   "metadata": {
    "ExecuteTime": {
     "end_time": "2020-11-02T13:57:40.018537Z",
     "start_time": "2020-11-02T13:57:39.997545Z"
    }
   },
   "outputs": [
    {
     "data": {
      "text/plain": [
       "40"
      ]
     },
     "execution_count": 48,
     "metadata": {},
     "output_type": "execute_result"
    }
   ],
   "source": [
    "function_name(30)"
   ]
  },
  {
   "cell_type": "code",
   "execution_count": 52,
   "metadata": {
    "ExecuteTime": {
     "end_time": "2020-11-02T14:01:21.770568Z",
     "start_time": "2020-11-02T14:01:21.747074Z"
    }
   },
   "outputs": [],
   "source": [
    "# map\n",
    "example_list = [1,4,5,8]"
   ]
  },
  {
   "cell_type": "code",
   "execution_count": 53,
   "metadata": {
    "ExecuteTime": {
     "end_time": "2020-11-02T14:01:25.578885Z",
     "start_time": "2020-11-02T14:01:25.562874Z"
    }
   },
   "outputs": [],
   "source": [
    "def half(x):\n",
    "    return x / 2 "
   ]
  },
  {
   "cell_type": "code",
   "execution_count": 54,
   "metadata": {
    "ExecuteTime": {
     "end_time": "2020-11-02T14:01:27.753626Z",
     "start_time": "2020-11-02T14:01:27.736639Z"
    }
   },
   "outputs": [
    {
     "data": {
      "text/plain": [
       "[0.5, 2.0, 2.5, 4.0]"
      ]
     },
     "execution_count": 54,
     "metadata": {},
     "output_type": "execute_result"
    }
   ],
   "source": [
    "list(map(half, example_list))"
   ]
  },
  {
   "cell_type": "code",
   "execution_count": 56,
   "metadata": {
    "ExecuteTime": {
     "end_time": "2020-11-02T14:02:03.799350Z",
     "start_time": "2020-11-02T14:02:03.785354Z"
    }
   },
   "outputs": [],
   "source": [
    "f=lambda x : x/2"
   ]
  },
  {
   "cell_type": "code",
   "execution_count": 57,
   "metadata": {
    "ExecuteTime": {
     "end_time": "2020-11-02T14:02:08.589223Z",
     "start_time": "2020-11-02T14:02:08.563222Z"
    }
   },
   "outputs": [
    {
     "data": {
      "text/plain": [
       "[0.5, 2.0, 2.5, 4.0]"
      ]
     },
     "execution_count": 57,
     "metadata": {},
     "output_type": "execute_result"
    }
   ],
   "source": [
    "list(map(f, example_list))"
   ]
  },
  {
   "cell_type": "markdown",
   "metadata": {},
   "source": [
    "## More than 1 argument"
   ]
  },
  {
   "cell_type": "code",
   "execution_count": 58,
   "metadata": {
    "ExecuteTime": {
     "end_time": "2020-11-02T14:11:43.160872Z",
     "start_time": "2020-11-02T14:11:43.138224Z"
    }
   },
   "outputs": [],
   "source": [
    "def my_sum(a , b):\n",
    "    return a + b"
   ]
  },
  {
   "cell_type": "code",
   "execution_count": 59,
   "metadata": {
    "ExecuteTime": {
     "end_time": "2020-11-02T14:11:50.854361Z",
     "start_time": "2020-11-02T14:11:50.831376Z"
    }
   },
   "outputs": [
    {
     "data": {
      "text/plain": [
       "30"
      ]
     },
     "execution_count": 59,
     "metadata": {},
     "output_type": "execute_result"
    }
   ],
   "source": [
    "add_args = lambda a, b : a + b\n",
    "add_args(10, 20)"
   ]
  },
  {
   "cell_type": "code",
   "execution_count": 66,
   "metadata": {
    "ExecuteTime": {
     "end_time": "2020-11-02T14:14:25.322997Z",
     "start_time": "2020-11-02T14:14:25.304009Z"
    }
   },
   "outputs": [
    {
     "data": {
      "text/plain": [
       "40"
      ]
     },
     "execution_count": 66,
     "metadata": {},
     "output_type": "execute_result"
    }
   ],
   "source": [
    "(lambda a, b=0 : a + b)(10,30)"
   ]
  },
  {
   "cell_type": "code",
   "execution_count": 62,
   "metadata": {
    "ExecuteTime": {
     "end_time": "2020-11-02T14:13:00.430884Z",
     "start_time": "2020-11-02T14:13:00.403898Z"
    }
   },
   "outputs": [],
   "source": [
    "from functools import reduce"
   ]
  },
  {
   "cell_type": "code",
   "execution_count": 63,
   "metadata": {
    "ExecuteTime": {
     "end_time": "2020-11-02T14:13:15.177004Z",
     "start_time": "2020-11-02T14:13:15.155018Z"
    }
   },
   "outputs": [
    {
     "data": {
      "text/plain": [
       "[1, 4, 5, 8]"
      ]
     },
     "execution_count": 63,
     "metadata": {},
     "output_type": "execute_result"
    }
   ],
   "source": [
    "example_list"
   ]
  },
  {
   "cell_type": "code",
   "execution_count": 64,
   "metadata": {
    "ExecuteTime": {
     "end_time": "2020-11-02T14:13:18.429161Z",
     "start_time": "2020-11-02T14:13:18.409174Z"
    }
   },
   "outputs": [
    {
     "data": {
      "text/plain": [
       "18"
      ]
     },
     "execution_count": 64,
     "metadata": {},
     "output_type": "execute_result"
    }
   ],
   "source": [
    "reduce(lambda acc, value : acc + value, example_list)"
   ]
  },
  {
   "cell_type": "markdown",
   "metadata": {},
   "source": [
    "## Conditions"
   ]
  },
  {
   "cell_type": "code",
   "execution_count": 69,
   "metadata": {
    "ExecuteTime": {
     "end_time": "2020-11-02T14:15:34.544101Z",
     "start_time": "2020-11-02T14:15:34.520115Z"
    }
   },
   "outputs": [
    {
     "ename": "ZeroDivisionError",
     "evalue": "division by zero",
     "output_type": "error",
     "traceback": [
      "\u001b[1;31m---------------------------------------------------------------------------\u001b[0m",
      "\u001b[1;31mZeroDivisionError\u001b[0m                         Traceback (most recent call last)",
      "\u001b[1;32m<ipython-input-69-7a5050487faa>\u001b[0m in \u001b[0;36m<module>\u001b[1;34m\u001b[0m\n\u001b[1;32m----> 1\u001b[1;33m \u001b[1;36m9\u001b[0m\u001b[1;33m/\u001b[0m\u001b[1;36m0\u001b[0m\u001b[1;33m\u001b[0m\u001b[1;33m\u001b[0m\u001b[0m\n\u001b[0m",
      "\u001b[1;31mZeroDivisionError\u001b[0m: division by zero"
     ]
    }
   ],
   "source": [
    "9/0"
   ]
  },
  {
   "cell_type": "code",
   "execution_count": 68,
   "metadata": {
    "ExecuteTime": {
     "end_time": "2020-11-02T14:15:25.996582Z",
     "start_time": "2020-11-02T14:15:25.984591Z"
    }
   },
   "outputs": [
    {
     "data": {
      "text/plain": [
       "0"
      ]
     },
     "execution_count": 68,
     "metadata": {},
     "output_type": "execute_result"
    }
   ],
   "source": [
    "safe_div(9, 0)"
   ]
  },
  {
   "cell_type": "code",
   "execution_count": 70,
   "metadata": {
    "ExecuteTime": {
     "end_time": "2020-11-02T14:15:48.565940Z",
     "start_time": "2020-11-02T14:15:48.545932Z"
    }
   },
   "outputs": [],
   "source": [
    "example_tuples=[(10,20),(30,0),(60,30)]"
   ]
  },
  {
   "cell_type": "code",
   "execution_count": 67,
   "metadata": {
    "ExecuteTime": {
     "end_time": "2020-11-02T14:15:23.441104Z",
     "start_time": "2020-11-02T14:15:23.417108Z"
    }
   },
   "outputs": [],
   "source": [
    "def safe_div(num, denom):\n",
    "    \"\"\"\n",
    "    Return the division of num by denom. \n",
    "    In case denom is 0, return 0\n",
    "    \"\"\"\n",
    "    if denom != 0:\n",
    "        return num/denom\n",
    "    else:\n",
    "        return 0"
   ]
  },
  {
   "cell_type": "code",
   "execution_count": 28,
   "metadata": {
    "ExecuteTime": {
     "end_time": "2020-11-02T01:35:06.126549Z",
     "start_time": "2020-11-02T01:35:06.104389Z"
    }
   },
   "outputs": [
    {
     "data": {
      "text/plain": [
       "[0.5, 0, 2.0]"
      ]
     },
     "execution_count": 28,
     "metadata": {},
     "output_type": "execute_result"
    }
   ],
   "source": [
    "[(a/b if b != 0 else 0) for a,b in example_tuples]"
   ]
  },
  {
   "cell_type": "markdown",
   "metadata": {},
   "source": [
    "# Applications\n",
    "\n"
   ]
  },
  {
   "cell_type": "markdown",
   "metadata": {},
   "source": [
    "## map"
   ]
  },
  {
   "cell_type": "code",
   "execution_count": 74,
   "metadata": {
    "ExecuteTime": {
     "end_time": "2020-11-02T14:20:04.954050Z",
     "start_time": "2020-11-02T14:20:04.936060Z"
    }
   },
   "outputs": [],
   "source": [
    "example_list = [1,4,6,7,10,31,13]"
   ]
  },
  {
   "cell_type": "code",
   "execution_count": 75,
   "metadata": {
    "ExecuteTime": {
     "end_time": "2020-11-02T14:20:05.763285Z",
     "start_time": "2020-11-02T14:20:05.752309Z"
    }
   },
   "outputs": [],
   "source": [
    "def half(x):\n",
    "    return x/2"
   ]
  },
  {
   "cell_type": "code",
   "execution_count": 76,
   "metadata": {
    "ExecuteTime": {
     "end_time": "2020-11-02T14:20:11.164862Z",
     "start_time": "2020-11-02T14:20:11.150870Z"
    }
   },
   "outputs": [
    {
     "data": {
      "text/plain": [
       "[0.5, 2.0, 3.0, 3.5, 5.0, 15.5, 6.5]"
      ]
     },
     "execution_count": 76,
     "metadata": {},
     "output_type": "execute_result"
    }
   ],
   "source": [
    "list(map(half, example_list))"
   ]
  },
  {
   "cell_type": "code",
   "execution_count": 77,
   "metadata": {
    "ExecuteTime": {
     "end_time": "2020-11-02T14:20:15.312107Z",
     "start_time": "2020-11-02T14:20:15.294119Z"
    }
   },
   "outputs": [
    {
     "data": {
      "text/plain": [
       "[0.5, 2.0, 3.0, 3.5, 5.0, 15.5, 6.5]"
      ]
     },
     "execution_count": 77,
     "metadata": {},
     "output_type": "execute_result"
    }
   ],
   "source": [
    "list(map(lambda x : x/2, example_list))"
   ]
  },
  {
   "cell_type": "markdown",
   "metadata": {},
   "source": [
    "## filter"
   ]
  },
  {
   "cell_type": "code",
   "execution_count": 78,
   "metadata": {
    "ExecuteTime": {
     "end_time": "2020-11-02T14:20:29.817204Z",
     "start_time": "2020-11-02T14:20:29.799213Z"
    }
   },
   "outputs": [],
   "source": [
    "def check_if_even(x):\n",
    "    if x % 2 == 0:\n",
    "        return True\n",
    "    else:\n",
    "        return False\n",
    "    \n",
    "# def check_if_even(x):\n",
    "#     return x % 2 == 0"
   ]
  },
  {
   "cell_type": "code",
   "execution_count": 79,
   "metadata": {
    "ExecuteTime": {
     "end_time": "2020-11-02T14:20:32.453165Z",
     "start_time": "2020-11-02T14:20:32.441172Z"
    }
   },
   "outputs": [
    {
     "data": {
      "text/plain": [
       "[1, 4, 6, 7, 10, 31, 13]"
      ]
     },
     "execution_count": 79,
     "metadata": {},
     "output_type": "execute_result"
    }
   ],
   "source": [
    "example_list"
   ]
  },
  {
   "cell_type": "code",
   "execution_count": 80,
   "metadata": {
    "ExecuteTime": {
     "end_time": "2020-11-02T14:20:35.326407Z",
     "start_time": "2020-11-02T14:20:35.308418Z"
    },
    "scrolled": false
   },
   "outputs": [
    {
     "data": {
      "text/plain": [
       "[4, 6, 10]"
      ]
     },
     "execution_count": 80,
     "metadata": {},
     "output_type": "execute_result"
    }
   ],
   "source": [
    "list(filter(check_if_even, example_list))"
   ]
  },
  {
   "cell_type": "code",
   "execution_count": 90,
   "metadata": {
    "ExecuteTime": {
     "end_time": "2020-11-02T14:25:04.503366Z",
     "start_time": "2020-11-02T14:25:04.487375Z"
    }
   },
   "outputs": [
    {
     "data": {
      "text/plain": [
       "bool"
      ]
     },
     "execution_count": 90,
     "metadata": {},
     "output_type": "execute_result"
    }
   ],
   "source": [
    "type((lambda x : x % 2 == 0)(7))"
   ]
  },
  {
   "cell_type": "code",
   "execution_count": 91,
   "metadata": {
    "ExecuteTime": {
     "end_time": "2020-11-02T14:25:39.191631Z",
     "start_time": "2020-11-02T14:25:39.174639Z"
    }
   },
   "outputs": [
    {
     "data": {
      "text/plain": [
       "[4, 6, 10]"
      ]
     },
     "execution_count": 91,
     "metadata": {},
     "output_type": "execute_result"
    }
   ],
   "source": [
    "list(filter(lambda x : x % 2 == 0, example_list))"
   ]
  },
  {
   "cell_type": "markdown",
   "metadata": {},
   "source": [
    "## Using lambdas to order stuff\n"
   ]
  },
  {
   "cell_type": "code",
   "execution_count": 105,
   "metadata": {
    "ExecuteTime": {
     "end_time": "2020-11-02T14:31:15.050523Z",
     "start_time": "2020-11-02T14:31:15.039529Z"
    }
   },
   "outputs": [],
   "source": [
    "school_dash = [ 'Art-History','Philosophy', 'Computer-Science', 'Calculus']"
   ]
  },
  {
   "cell_type": "code",
   "execution_count": 93,
   "metadata": {
    "ExecuteTime": {
     "end_time": "2020-11-02T14:26:58.977819Z",
     "start_time": "2020-11-02T14:26:58.950832Z"
    }
   },
   "outputs": [
    {
     "data": {
      "text/plain": [
       "['Art-History', 'Calculus', 'Computer-Science', 'Philosophy']"
      ]
     },
     "execution_count": 93,
     "metadata": {},
     "output_type": "execute_result"
    }
   ],
   "source": [
    "sorted(school_dash)"
   ]
  },
  {
   "cell_type": "code",
   "execution_count": 94,
   "metadata": {
    "ExecuteTime": {
     "end_time": "2020-11-02T14:28:35.532363Z",
     "start_time": "2020-11-02T14:28:35.519371Z"
    }
   },
   "outputs": [],
   "source": [
    "def get_last_letter(word):\n",
    "    return word[-1]"
   ]
  },
  {
   "cell_type": "code",
   "execution_count": 95,
   "metadata": {
    "ExecuteTime": {
     "end_time": "2020-11-02T14:28:39.645581Z",
     "start_time": "2020-11-02T14:28:39.631589Z"
    }
   },
   "outputs": [
    {
     "data": {
      "text/plain": [
       "'e'"
      ]
     },
     "execution_count": 95,
     "metadata": {},
     "output_type": "execute_result"
    }
   ],
   "source": [
    "get_last_letter('Computer-Science')"
   ]
  },
  {
   "cell_type": "code",
   "execution_count": 106,
   "metadata": {
    "ExecuteTime": {
     "end_time": "2020-11-02T14:31:18.304608Z",
     "start_time": "2020-11-02T14:31:18.278623Z"
    }
   },
   "outputs": [
    {
     "data": {
      "text/plain": [
       "['Computer-Science', 'Calculus', 'Art-History', 'Philosophy']"
      ]
     },
     "execution_count": 106,
     "metadata": {},
     "output_type": "execute_result"
    }
   ],
   "source": [
    "sorted(school_dash, key=get_last_letter)"
   ]
  },
  {
   "cell_type": "code",
   "execution_count": 107,
   "metadata": {
    "ExecuteTime": {
     "end_time": "2020-11-02T14:31:40.795846Z",
     "start_time": "2020-11-02T14:31:40.774830Z"
    }
   },
   "outputs": [
    {
     "data": {
      "text/plain": [
       "['Computer-Science', 'Calculus', 'Art-History', 'Philosophy']"
      ]
     },
     "execution_count": 107,
     "metadata": {},
     "output_type": "execute_result"
    }
   ],
   "source": [
    "sorted(school_dash, key=lambda x : x[-1])"
   ]
  },
  {
   "cell_type": "markdown",
   "metadata": {},
   "source": [
    "# Ordering a dictionary by its values"
   ]
  },
  {
   "cell_type": "code",
   "execution_count": 108,
   "metadata": {
    "ExecuteTime": {
     "end_time": "2020-11-02T14:32:08.844267Z",
     "start_time": "2020-11-02T14:32:08.833274Z"
    }
   },
   "outputs": [],
   "source": [
    "my_dict = {'Andre': 80, \n",
    "           'Joao' : 90 , \n",
    "           'Pedro': 80, \n",
    "           'Carla': 70, \n",
    "           'Maria': 80, \n",
    "           'Aurora' : 80, \n",
    "           'Camila': 60}"
   ]
  },
  {
   "cell_type": "code",
   "execution_count": 109,
   "metadata": {
    "ExecuteTime": {
     "end_time": "2020-11-02T14:32:12.101456Z",
     "start_time": "2020-11-02T14:32:12.080489Z"
    }
   },
   "outputs": [
    {
     "data": {
      "text/plain": [
       "{'Andre': 80,\n",
       " 'Joao': 90,\n",
       " 'Pedro': 80,\n",
       " 'Carla': 70,\n",
       " 'Maria': 80,\n",
       " 'Aurora': 80,\n",
       " 'Camila': 60}"
      ]
     },
     "execution_count": 109,
     "metadata": {},
     "output_type": "execute_result"
    }
   ],
   "source": [
    "my_dict"
   ]
  },
  {
   "cell_type": "code",
   "execution_count": 110,
   "metadata": {
    "ExecuteTime": {
     "end_time": "2020-11-02T14:32:17.691792Z",
     "start_time": "2020-11-02T14:32:17.676801Z"
    }
   },
   "outputs": [
    {
     "data": {
      "text/plain": [
       "dict_items([('Andre', 80), ('Joao', 90), ('Pedro', 80), ('Carla', 70), ('Maria', 80), ('Aurora', 80), ('Camila', 60)])"
      ]
     },
     "execution_count": 110,
     "metadata": {},
     "output_type": "execute_result"
    }
   ],
   "source": [
    "my_dict.items()"
   ]
  },
  {
   "cell_type": "code",
   "execution_count": 112,
   "metadata": {
    "ExecuteTime": {
     "end_time": "2020-11-02T14:34:13.651915Z",
     "start_time": "2020-11-02T14:34:13.636918Z"
    }
   },
   "outputs": [
    {
     "data": {
      "text/plain": [
       "[('Joao', 90),\n",
       " ('Andre', 80),\n",
       " ('Pedro', 80),\n",
       " ('Maria', 80),\n",
       " ('Aurora', 80),\n",
       " ('Carla', 70),\n",
       " ('Camila', 60)]"
      ]
     },
     "execution_count": 112,
     "metadata": {},
     "output_type": "execute_result"
    }
   ],
   "source": [
    "sorted(my_dict.items(), key=lambda x : x[1],reverse=True)"
   ]
  },
  {
   "cell_type": "markdown",
   "metadata": {},
   "source": [
    "# Pandas apply"
   ]
  },
  {
   "cell_type": "code",
   "execution_count": 113,
   "metadata": {
    "ExecuteTime": {
     "end_time": "2020-11-02T14:35:44.190914Z",
     "start_time": "2020-11-02T14:35:44.173924Z"
    }
   },
   "outputs": [],
   "source": [
    "import pandas as pd"
   ]
  },
  {
   "cell_type": "code",
   "execution_count": 114,
   "metadata": {
    "ExecuteTime": {
     "end_time": "2020-11-02T14:35:46.166770Z",
     "start_time": "2020-11-02T14:35:46.143782Z"
    }
   },
   "outputs": [
    {
     "name": "stderr",
     "output_type": "stream",
     "text": [
      "C:\\Users\\raian\\Anaconda3\\lib\\site-packages\\tqdm\\std.py:658: FutureWarning: The Panel class is removed from pandas. Accessing it from the top-level namespace will also be removed in the next version\n",
      "  from pandas import Panel\n"
     ]
    }
   ],
   "source": [
    "from tqdm.auto import tqdm\n",
    "tqdm.pandas(desc=\"Applying transformation\")"
   ]
  },
  {
   "cell_type": "code",
   "execution_count": 125,
   "metadata": {
    "ExecuteTime": {
     "end_time": "2020-11-02T14:44:40.904628Z",
     "start_time": "2020-11-02T14:44:34.165081Z"
    }
   },
   "outputs": [],
   "source": [
    "def create_sample_dataframe(n_rows=1000000, n_cols=1):\n",
    "    \"\"\"\n",
    "    Create a pandas dataframe containing n_rows rows and n_cols columns\n",
    "    and mess up with it by changing the dots (.) by commas (,).\n",
    "    \"\"\"\n",
    "    cpf = np.random.randint(1, 999999999, size=n_rows)\n",
    "    variables = {f'column_{col_number}': np.random.random(n_rows) for col_number in range(n_cols)}\n",
    "    variables.update({'CPF': cpf})  \n",
    "\n",
    "    return pd.DataFrame(variables).applymap(lambda x : str(x).replace('.',','))\n",
    "\n",
    "df = create_sample_dataframe()"
   ]
  },
  {
   "cell_type": "code",
   "execution_count": 127,
   "metadata": {
    "ExecuteTime": {
     "end_time": "2020-11-02T14:44:51.402182Z",
     "start_time": "2020-11-02T14:44:51.373180Z"
    },
    "scrolled": true
   },
   "outputs": [
    {
     "data": {
      "text/html": [
       "<div>\n",
       "<style scoped>\n",
       "    .dataframe tbody tr th:only-of-type {\n",
       "        vertical-align: middle;\n",
       "    }\n",
       "\n",
       "    .dataframe tbody tr th {\n",
       "        vertical-align: top;\n",
       "    }\n",
       "\n",
       "    .dataframe thead th {\n",
       "        text-align: right;\n",
       "    }\n",
       "</style>\n",
       "<table border=\"1\" class=\"dataframe\">\n",
       "  <thead>\n",
       "    <tr style=\"text-align: right;\">\n",
       "      <th></th>\n",
       "      <th>column_0</th>\n",
       "      <th>CPF</th>\n",
       "    </tr>\n",
       "  </thead>\n",
       "  <tbody>\n",
       "    <tr>\n",
       "      <th>0.0</th>\n",
       "      <td>0,2400466347556388</td>\n",
       "      <td>780496400</td>\n",
       "    </tr>\n",
       "    <tr>\n",
       "      <th>1.0</th>\n",
       "      <td>0,5561108752090058</td>\n",
       "      <td>642667419</td>\n",
       "    </tr>\n",
       "    <tr>\n",
       "      <th>2.0</th>\n",
       "      <td>0,5864634178504352</td>\n",
       "      <td>974232273</td>\n",
       "    </tr>\n",
       "    <tr>\n",
       "      <th>3.0</th>\n",
       "      <td>0,8081319121033047</td>\n",
       "      <td>952729533</td>\n",
       "    </tr>\n",
       "    <tr>\n",
       "      <th>4.0</th>\n",
       "      <td>0,4061799595188128</td>\n",
       "      <td>422399038</td>\n",
       "    </tr>\n",
       "  </tbody>\n",
       "</table>\n",
       "</div>"
      ],
      "text/plain": [
       "               column_0        CPF\n",
       "0.0  0,2400466347556388  780496400\n",
       "1.0  0,5561108752090058  642667419\n",
       "2.0  0,5864634178504352  974232273\n",
       "3.0  0,8081319121033047  952729533\n",
       "4.0  0,4061799595188128  422399038"
      ]
     },
     "execution_count": 127,
     "metadata": {},
     "output_type": "execute_result"
    }
   ],
   "source": [
    "df.head()"
   ]
  },
  {
   "cell_type": "code",
   "execution_count": 123,
   "metadata": {
    "ExecuteTime": {
     "end_time": "2020-11-02T14:44:12.889180Z",
     "start_time": "2020-11-02T14:44:12.170594Z"
    },
    "scrolled": false
   },
   "outputs": [
    {
     "data": {
      "text/plain": [
       "0         0,12350319221686001\n",
       "1          0,8856616723948728\n",
       "2          0,9898639855280966\n",
       "3          0,9946506857816905\n",
       "4           0,500726107313392\n",
       "                 ...         \n",
       "999995    0,45407200497528777\n",
       "999996     0,4542445100508896\n",
       "999997     0,3491812755558068\n",
       "999998     0,8237531906351844\n",
       "999999     0,9920388523434426\n",
       "Name: column_0, Length: 1000000, dtype: object"
      ]
     },
     "execution_count": 123,
     "metadata": {},
     "output_type": "execute_result"
    }
   ],
   "source": [
    "df.column_0"
   ]
  },
  {
   "cell_type": "code",
   "execution_count": 130,
   "metadata": {
    "ExecuteTime": {
     "end_time": "2020-11-02T14:46:00.664630Z",
     "start_time": "2020-11-02T14:46:00.638648Z"
    }
   },
   "outputs": [
    {
     "data": {
      "text/plain": [
       "Float64Index([     0.0,      1.0,      2.0,      3.0,      4.0,      5.0,\n",
       "                   6.0,      7.0,      8.0,      9.0,\n",
       "              ...\n",
       "              999990.0, 999991.0, 999992.0, 999993.0, 999994.0, 999995.0,\n",
       "              999996.0, 999997.0, 999998.0, 999999.0],\n",
       "             dtype='float64', length=1000000)"
      ]
     },
     "execution_count": 130,
     "metadata": {},
     "output_type": "execute_result"
    }
   ],
   "source": [
    "df.index"
   ]
  },
  {
   "cell_type": "code",
   "execution_count": 126,
   "metadata": {
    "ExecuteTime": {
     "end_time": "2020-11-02T14:44:48.856257Z",
     "start_time": "2020-11-02T14:44:47.989671Z"
    }
   },
   "outputs": [],
   "source": [
    "df.index=list(map(lambda x : float(x),df.index))"
   ]
  },
  {
   "cell_type": "code",
   "execution_count": 131,
   "metadata": {
    "ExecuteTime": {
     "end_time": "2020-11-02T14:46:14.528896Z",
     "start_time": "2020-11-02T14:46:06.508129Z"
    }
   },
   "outputs": [
    {
     "data": {
      "application/vnd.jupyter.widget-view+json": {
       "model_id": "0f7c296f0d4341f7bec23a453cd8e584",
       "version_major": 2,
       "version_minor": 0
      },
      "text/plain": [
       "HBox(children=(FloatProgress(value=0.0, description='Applying transformation', max=1000000.0, style=ProgressSt…"
      ]
     },
     "metadata": {},
     "output_type": "display_data"
    },
    {
     "name": "stdout",
     "output_type": "stream",
     "text": [
      "\n"
     ]
    },
    {
     "data": {
      "text/plain": [
       "0.0         0.240047\n",
       "1.0         0.556111\n",
       "2.0         0.586463\n",
       "3.0         0.808132\n",
       "4.0         0.406180\n",
       "              ...   \n",
       "999995.0    0.570362\n",
       "999996.0    0.901295\n",
       "999997.0    0.008003\n",
       "999998.0    0.425914\n",
       "999999.0    0.234945\n",
       "Name: column_0, Length: 1000000, dtype: float64"
      ]
     },
     "execution_count": 131,
     "metadata": {},
     "output_type": "execute_result"
    }
   ],
   "source": [
    "df['column_0'].progress_apply(lambda x : float(x.replace(',','.')))"
   ]
  },
  {
   "cell_type": "markdown",
   "metadata": {},
   "source": [
    "---"
   ]
  },
  {
   "cell_type": "code",
   "execution_count": 132,
   "metadata": {
    "ExecuteTime": {
     "end_time": "2020-11-02T14:46:33.053341Z",
     "start_time": "2020-11-02T14:46:30.037138Z"
    },
    "scrolled": true
   },
   "outputs": [
    {
     "data": {
      "text/html": [
       "<div>\n",
       "<style scoped>\n",
       "    .dataframe tbody tr th:only-of-type {\n",
       "        vertical-align: middle;\n",
       "    }\n",
       "\n",
       "    .dataframe tbody tr th {\n",
       "        vertical-align: top;\n",
       "    }\n",
       "\n",
       "    .dataframe thead th {\n",
       "        text-align: right;\n",
       "    }\n",
       "</style>\n",
       "<table border=\"1\" class=\"dataframe\">\n",
       "  <thead>\n",
       "    <tr style=\"text-align: right;\">\n",
       "      <th></th>\n",
       "      <th>grade</th>\n",
       "      <th>user_name</th>\n",
       "      <th>text</th>\n",
       "      <th>date</th>\n",
       "    </tr>\n",
       "  </thead>\n",
       "  <tbody>\n",
       "    <tr>\n",
       "      <th>0</th>\n",
       "      <td>4</td>\n",
       "      <td>mds27272</td>\n",
       "      <td>My gf started playing before me. No option to ...</td>\n",
       "      <td>2020-03-20</td>\n",
       "    </tr>\n",
       "    <tr>\n",
       "      <th>1</th>\n",
       "      <td>5</td>\n",
       "      <td>lolo2178</td>\n",
       "      <td>While the game itself is great, really relaxin...</td>\n",
       "      <td>2020-03-20</td>\n",
       "    </tr>\n",
       "    <tr>\n",
       "      <th>2</th>\n",
       "      <td>0</td>\n",
       "      <td>Roachant</td>\n",
       "      <td>My wife and I were looking forward to playing ...</td>\n",
       "      <td>2020-03-20</td>\n",
       "    </tr>\n",
       "    <tr>\n",
       "      <th>3</th>\n",
       "      <td>0</td>\n",
       "      <td>Houndf</td>\n",
       "      <td>We need equal values and opportunities for all...</td>\n",
       "      <td>2020-03-20</td>\n",
       "    </tr>\n",
       "    <tr>\n",
       "      <th>4</th>\n",
       "      <td>0</td>\n",
       "      <td>ProfessorFox</td>\n",
       "      <td>BEWARE!  If you have multiple people in your h...</td>\n",
       "      <td>2020-03-20</td>\n",
       "    </tr>\n",
       "  </tbody>\n",
       "</table>\n",
       "</div>"
      ],
      "text/plain": [
       "   grade     user_name                                               text  \\\n",
       "0      4      mds27272  My gf started playing before me. No option to ...   \n",
       "1      5      lolo2178  While the game itself is great, really relaxin...   \n",
       "2      0      Roachant  My wife and I were looking forward to playing ...   \n",
       "3      0        Houndf  We need equal values and opportunities for all...   \n",
       "4      0  ProfessorFox  BEWARE!  If you have multiple people in your h...   \n",
       "\n",
       "         date  \n",
       "0  2020-03-20  \n",
       "1  2020-03-20  \n",
       "2  2020-03-20  \n",
       "3  2020-03-20  \n",
       "4  2020-03-20  "
      ]
     },
     "execution_count": 132,
     "metadata": {},
     "output_type": "execute_result"
    }
   ],
   "source": [
    "df = pd.read_csv('https://raw.githubusercontent.com/rfordatascience/tidytuesday/62f97ae1f8896b6b8e4bb08dcf65a07e0502aa8a/data/2020/2020-05-05/user_reviews.tsv', sep='\\t')\n",
    "df.head()"
   ]
  },
  {
   "cell_type": "code",
   "execution_count": 134,
   "metadata": {
    "ExecuteTime": {
     "end_time": "2020-11-02T14:48:04.516831Z",
     "start_time": "2020-11-02T14:48:04.447852Z"
    }
   },
   "outputs": [
    {
     "data": {
      "text/plain": [
       "'BEWARE!  If you have multiple people in your house that want to play this game they can not each have their own account (island).  ONLY ONE customizable island can be played per Switch.  Even if you buy two copies of the game you will still only be able to customize ONE island.  I have 3 kids that want to play this game and they each want to customize their own island - AND THEY CANT!BEWARE!  If you have multiple people in your house that want to play this game they can not each have their own account (island).  ONLY ONE customizable island can be played per Switch.  Even if you buy two copies of the game you will still only be able to customize ONE island.  I have 3 kids that want to play this game and they each want to customize their own island - AND THEY CANT!   This is absolutely unacceptable.  Maybe the dumbest thing Nintendo has ever done.  I have owned every Nintendo console since the original NES and I can not think of a worse decision by Nintendo.… Expand'"
      ]
     },
     "execution_count": 134,
     "metadata": {},
     "output_type": "execute_result"
    }
   ],
   "source": [
    "df.loc[4,'text']"
   ]
  },
  {
   "cell_type": "code",
   "execution_count": 133,
   "metadata": {
    "ExecuteTime": {
     "end_time": "2020-11-02T14:47:02.513289Z",
     "start_time": "2020-11-02T14:47:02.499278Z"
    }
   },
   "outputs": [],
   "source": [
    "import re"
   ]
  },
  {
   "cell_type": "code",
   "execution_count": 135,
   "metadata": {
    "ExecuteTime": {
     "end_time": "2020-11-02T14:48:36.304173Z",
     "start_time": "2020-11-02T14:48:36.294178Z"
    }
   },
   "outputs": [],
   "source": [
    "x = 'BEWARE!  If you have multiple people in your house that want to play this game they can not each have their own account (island).  ONLY ONE customizable island can be played per Switch.  Even if you buy two copies of the game you will still only be able to customize ONE island.  I have 3 kids that want to play this game and they each want to customize their own island - AND THEY CANT!BEWARE!  If you have multiple people in your house that want to play this game they can not each have their own account (island).  ONLY ONE customizable island can be played per Switch.  Even if you buy two copies of the game you will still only be able to customize ONE island.  I have 3 kids that want to play this game and they each want to customize their own island - AND THEY CANT!   This is absolutely unacceptable.  Maybe the dumbest thing Nintendo has ever done.  I have owned every Nintendo console since the original NES and I can not think of a worse decision by Nintendo.… Expand'"
   ]
  },
  {
   "cell_type": "code",
   "execution_count": 144,
   "metadata": {
    "ExecuteTime": {
     "end_time": "2020-11-02T14:53:37.963988Z",
     "start_time": "2020-11-02T14:53:37.934985Z"
    }
   },
   "outputs": [
    {
     "data": {
      "text/plain": [
       "['BEWARE!', 'THEY CANT!', 'BEWARE!', 'THEY CANT!']"
      ]
     },
     "execution_count": 144,
     "metadata": {},
     "output_type": "execute_result"
    }
   ],
   "source": [
    "re.findall('[A-Z]+ ?[A-Z]+!',x)"
   ]
  },
  {
   "cell_type": "code",
   "execution_count": null,
   "metadata": {},
   "outputs": [],
   "source": [
    "#how can i find the warning?\n"
   ]
  },
  {
   "cell_type": "code",
   "execution_count": null,
   "metadata": {
    "ExecuteTime": {
     "end_time": "2020-08-31T14:43:49.349102Z",
     "start_time": "2020-08-31T14:43:49.309084Z"
    }
   },
   "outputs": [],
   "source": [
    "df['text_warning'] = df.text.apply(lambda x : re.findall('[A-Z]+!', x))"
   ]
  },
  {
   "cell_type": "code",
   "execution_count": null,
   "metadata": {},
   "outputs": [],
   "source": []
  },
  {
   "cell_type": "code",
   "execution_count": 2,
   "metadata": {
    "ExecuteTime": {
     "end_time": "2020-11-03T14:33:01.773873Z",
     "start_time": "2020-11-03T14:33:01.760871Z"
    }
   },
   "outputs": [],
   "source": [
    "example_tuples=[(10,20),(30,0),(60,30)]"
   ]
  },
  {
   "cell_type": "code",
   "execution_count": 4,
   "metadata": {
    "ExecuteTime": {
     "end_time": "2020-11-03T14:33:24.361323Z",
     "start_time": "2020-11-03T14:33:24.348325Z"
    }
   },
   "outputs": [
    {
     "data": {
      "text/plain": [
       "[20, 0, 30]"
      ]
     },
     "execution_count": 4,
     "metadata": {},
     "output_type": "execute_result"
    }
   ],
   "source": [
    "[i[1] for i in example_tuples]"
   ]
  },
  {
   "cell_type": "code",
   "execution_count": 5,
   "metadata": {
    "ExecuteTime": {
     "end_time": "2020-11-03T14:33:35.588554Z",
     "start_time": "2020-11-03T14:33:35.568566Z"
    }
   },
   "outputs": [
    {
     "data": {
      "text/plain": [
       "[0.5, 0, 2.0]"
      ]
     },
     "execution_count": 5,
     "metadata": {},
     "output_type": "execute_result"
    }
   ],
   "source": [
    "list(map(lambda num, denom : num/denom if denom != 0 else 0,[i[0] for i in example_tuples],[i[1] for i in example_tuples]))"
   ]
  },
  {
   "cell_type": "code",
   "execution_count": null,
   "metadata": {},
   "outputs": [],
   "source": []
  }
 ],
 "metadata": {
  "kernelspec": {
   "display_name": "Python 3",
   "language": "python",
   "name": "python3"
  },
  "language_info": {
   "codemirror_mode": {
    "name": "ipython",
    "version": 3
   },
   "file_extension": ".py",
   "mimetype": "text/x-python",
   "name": "python",
   "nbconvert_exporter": "python",
   "pygments_lexer": "ipython3",
   "version": "3.7.6"
  },
  "toc": {
   "base_numbering": 1,
   "nav_menu": {},
   "number_sections": true,
   "sideBar": true,
   "skip_h1_title": false,
   "title_cell": "Table of Contents",
   "title_sidebar": "Contents",
   "toc_cell": false,
   "toc_position": {},
   "toc_section_display": true,
   "toc_window_display": false
  },
  "varInspector": {
   "cols": {
    "lenName": 16,
    "lenType": 16,
    "lenVar": 40
   },
   "kernels_config": {
    "python": {
     "delete_cmd_postfix": "",
     "delete_cmd_prefix": "del ",
     "library": "var_list.py",
     "varRefreshCmd": "print(var_dic_list())"
    },
    "r": {
     "delete_cmd_postfix": ") ",
     "delete_cmd_prefix": "rm(",
     "library": "var_list.r",
     "varRefreshCmd": "cat(var_dic_list()) "
    }
   },
   "types_to_exclude": [
    "module",
    "function",
    "builtin_function_or_method",
    "instance",
    "_Feature"
   ],
   "window_display": false
  }
 },
 "nbformat": 4,
 "nbformat_minor": 2
}
