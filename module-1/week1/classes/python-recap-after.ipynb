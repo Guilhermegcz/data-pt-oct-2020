{
 "cells": [
  {
   "cell_type": "markdown",
   "metadata": {},
   "source": [
    "# Terminal Recap"
   ]
  },
  {
   "cell_type": "markdown",
   "metadata": {},
   "source": [
    "For those who want to get deeper on `bash`: https://missing.csail.mit.edu/2020/course-shell/"
   ]
  },
  {
   "cell_type": "markdown",
   "metadata": {},
   "source": [
    "-----"
   ]
  },
  {
   "cell_type": "code",
   "execution_count": 6,
   "metadata": {},
   "outputs": [],
   "source": [
    "x='Hello World'"
   ]
  },
  {
   "cell_type": "code",
   "execution_count": 7,
   "metadata": {
    "ExecuteTime": {
     "end_time": "2020-07-09T00:21:58.383636Z",
     "start_time": "2020-07-09T00:21:58.380643Z"
    }
   },
   "outputs": [
    {
     "name": "stdout",
     "output_type": "stream",
     "text": [
      "Hello World 12312412 3988$#@%#@¨%23\n"
     ]
    }
   ],
   "source": [
    "print(x)"
   ]
  },
  {
   "cell_type": "markdown",
   "metadata": {},
   "source": []
  },
  {
   "cell_type": "markdown",
   "metadata": {},
   "source": [
    "# Titulo\n",
    "\n",
    "Hoje a aula é de revisão!"
   ]
  },
  {
   "cell_type": "markdown",
   "metadata": {},
   "source": [
    "# Example Code"
   ]
  },
  {
   "cell_type": "code",
   "execution_count": 10,
   "metadata": {
    "ExecuteTime": {
     "end_time": "2020-07-09T00:22:18.493200Z",
     "start_time": "2020-07-09T00:22:18.489210Z"
    }
   },
   "outputs": [
    {
     "name": "stdout",
     "output_type": "stream",
     "text": [
      "Hello World\n"
     ]
    }
   ],
   "source": [
    "print('Hello World')"
   ]
  },
  {
   "cell_type": "markdown",
   "metadata": {
    "ExecuteTime": {
     "end_time": "2020-06-01T21:03:11.750648Z",
     "start_time": "2020-06-01T21:03:11.742640Z"
    }
   },
   "source": [
    "`ctrl+enter`: executa o código e permanece na mesma célula\n",
    "\n",
    "`shift+enter`: executa o código e vai pra célula seguinte"
   ]
  },
  {
   "cell_type": "markdown",
   "metadata": {},
   "source": [
    "# Markdown\n",
    "\n",
    "[Guia para markdown](https://www.markdownguide.org/)\n",
    "\n",
    "\n",
    "## Hello World\n",
    "### Hello World\n",
    "#### Hello World"
   ]
  },
  {
   "cell_type": "markdown",
   "metadata": {},
   "source": [
    "# Hello World\n",
    "\n",
    "##### Teste\n",
    "\n",
    "Simplesmente escrever aqui em <b> negrito </b> ou também em **negrito**, ou ainda em *itálico*, ou ainda <i> itálico </i>\n",
    "\n",
    "* Primeiro tópico\n",
    "* Segundo tópico\n",
    "\n",
    "> Citação\n",
    "\n",
    "```python\n",
    "print('Hello World')\n",
    "\n",
    "for i in range(10):\n",
    "    print('oi')\n",
    "```\n",
    "\n",
    "é uma documentação"
   ]
  },
  {
   "cell_type": "markdown",
   "metadata": {},
   "source": [
    "# Miscelaneous \n",
    "\n",
    "## keyboard shortcuts\n",
    "- `ESC` enters `NORMAL` mode\n",
    "\n",
    "- `NORMAL MODE`\n",
    "    - `m`: turn the cell into a `markdown` cell\n",
    "    - `y`: turn the cell into a `code` cell\n",
    "    - `a`: to create a cell `above`\n",
    "    - `b`: to create a cell `below`\n",
    "    - `x`: to cut the current cell\n",
    "    - `z`: to undo deletion\n",
    "    - `enter`: to return to `INSERT` mode\n",
    "- `CTRL+ENTER` run the current cell and `stays at the same` cell\n",
    "- `SHIFT+ENTER` run the current cell and `move to next` cell\n",
    "    \n",
    "## multiple cursors\n",
    "- Use `CTRL+mouse click` (or `COMMAND + mouse click` on mac)"
   ]
  },
  {
   "cell_type": "markdown",
   "metadata": {},
   "source": [
    "----"
   ]
  },
  {
   "cell_type": "markdown",
   "metadata": {},
   "source": [
    "# Python Basics"
   ]
  },
  {
   "cell_type": "markdown",
   "metadata": {},
   "source": [
    "## Variable assignment"
   ]
  },
  {
   "cell_type": "code",
   "execution_count": null,
   "metadata": {},
   "outputs": [],
   "source": []
  },
  {
   "cell_type": "code",
   "execution_count": 11,
   "metadata": {
    "ExecuteTime": {
     "end_time": "2020-07-09T00:27:22.796562Z",
     "start_time": "2020-07-09T00:27:22.793571Z"
    }
   },
   "outputs": [],
   "source": [
    "# when you assign 2 to x, x is now an alias that will expand to 2 whenever you use it again.\n",
    "x = 2\n",
    "y = 4"
   ]
  },
  {
   "cell_type": "code",
   "execution_count": 12,
   "metadata": {},
   "outputs": [
    {
     "data": {
      "text/plain": [
       "True"
      ]
     },
     "execution_count": 12,
     "metadata": {},
     "output_type": "execute_result"
    }
   ],
   "source": [
    "x == 2"
   ]
  },
  {
   "cell_type": "markdown",
   "metadata": {},
   "source": [
    "## The print `function`"
   ]
  },
  {
   "cell_type": "code",
   "execution_count": 13,
   "metadata": {
    "ExecuteTime": {
     "end_time": "2020-07-09T00:26:46.947006Z",
     "start_time": "2020-07-09T00:26:46.942989Z"
    }
   },
   "outputs": [
    {
     "name": "stdout",
     "output_type": "stream",
     "text": [
      "2\n"
     ]
    }
   ],
   "source": [
    "print(x)"
   ]
  },
  {
   "cell_type": "code",
   "execution_count": 45,
   "metadata": {
    "ExecuteTime": {
     "end_time": "2020-07-09T00:28:15.015435Z",
     "start_time": "2020-07-09T00:28:15.010449Z"
    }
   },
   "outputs": [
    {
     "data": {
      "text/plain": [
       "4"
      ]
     },
     "execution_count": 45,
     "metadata": {},
     "output_type": "execute_result"
    }
   ],
   "source": [
    "x = 3\n",
    "x = 10\n",
    "y "
   ]
  },
  {
   "cell_type": "code",
   "execution_count": 2,
   "metadata": {
    "ExecuteTime": {
     "end_time": "2020-06-02T12:36:09.393487Z",
     "start_time": "2020-06-02T12:36:09.390523Z"
    }
   },
   "outputs": [
    {
     "name": "stdout",
     "output_type": "stream",
     "text": [
      "Hello World\n"
     ]
    }
   ],
   "source": [
    "x = 2\n",
    "\n",
    "print('Hello World')\n",
    "# useful for debugging\n",
    "y = 3"
   ]
  },
  {
   "cell_type": "code",
   "execution_count": 19,
   "metadata": {},
   "outputs": [
    {
     "name": "stdout",
     "output_type": "stream",
     "text": [
      "0\n",
      "1\n",
      "2\n",
      "3\n",
      "4\n",
      "5\n",
      "6\n",
      "7\n",
      "8\n",
      "9\n"
     ]
    }
   ],
   "source": [
    "for x in range(10):\n",
    "    print(x)\n",
    "      "
   ]
  },
  {
   "cell_type": "markdown",
   "metadata": {
    "ExecuteTime": {
     "end_time": "2020-06-02T12:36:58.069371Z",
     "start_time": "2020-06-02T12:36:58.066379Z"
    }
   },
   "source": [
    "## Print vs display"
   ]
  },
  {
   "cell_type": "code",
   "execution_count": 3,
   "metadata": {},
   "outputs": [
    {
     "name": "stdout",
     "output_type": "stream",
     "text": [
      "2\n"
     ]
    }
   ],
   "source": [
    "print(x)"
   ]
  },
  {
   "cell_type": "code",
   "execution_count": 20,
   "metadata": {},
   "outputs": [
    {
     "data": {
      "text/plain": [
       "9"
      ]
     },
     "execution_count": 20,
     "metadata": {},
     "output_type": "execute_result"
    }
   ],
   "source": [
    "x"
   ]
  },
  {
   "cell_type": "code",
   "execution_count": 21,
   "metadata": {
    "ExecuteTime": {
     "end_time": "2020-07-09T00:28:37.458203Z",
     "start_time": "2020-07-09T00:28:37.454214Z"
    }
   },
   "outputs": [
    {
     "name": "stdout",
     "output_type": "stream",
     "text": [
      "2\n",
      "3\n"
     ]
    }
   ],
   "source": [
    "x = 2\n",
    "print(x)\n",
    "\n",
    "x = 3\n",
    "print(x)"
   ]
  },
  {
   "cell_type": "code",
   "execution_count": 22,
   "metadata": {
    "ExecuteTime": {
     "end_time": "2020-07-09T00:29:35.884393Z",
     "start_time": "2020-07-09T00:29:35.880403Z"
    }
   },
   "outputs": [
    {
     "name": "stdout",
     "output_type": "stream",
     "text": [
      "O valor da variável x é igual a 3\n"
     ]
    }
   ],
   "source": [
    "print('O valor da variável x é igual a', x)"
   ]
  },
  {
   "cell_type": "code",
   "execution_count": 23,
   "metadata": {},
   "outputs": [
    {
     "name": "stdout",
     "output_type": "stream",
     "text": [
      "O valor da variável x é igual a 10\n"
     ]
    }
   ],
   "source": [
    "print('O valor da variável x é igual a {}'.format(10))"
   ]
  },
  {
   "cell_type": "markdown",
   "metadata": {},
   "source": [
    "### f-strings"
   ]
  },
  {
   "cell_type": "code",
   "execution_count": 25,
   "metadata": {},
   "outputs": [
    {
     "name": "stdout",
     "output_type": "stream",
     "text": [
      "Agora nos estamos 0 na iteracao numero 0\n",
      "Agora nos estamos 1 na iteracao numero 1\n",
      "Agora nos estamos 2 na iteracao numero 2\n",
      "Agora nos estamos 3 na iteracao numero 3\n",
      "Agora nos estamos 4 na iteracao numero 4\n",
      "Agora nos estamos 5 na iteracao numero 5\n",
      "Agora nos estamos 6 na iteracao numero 6\n",
      "Agora nos estamos 7 na iteracao numero 7\n",
      "Agora nos estamos 8 na iteracao numero 8\n",
      "Agora nos estamos 9 na iteracao numero 9\n"
     ]
    }
   ],
   "source": [
    "for i in range(10):\n",
    "    print(f'Agora nos estamos na iteracao numero {i}')"
   ]
  },
  {
   "cell_type": "code",
   "execution_count": 26,
   "metadata": {
    "ExecuteTime": {
     "end_time": "2020-07-09T00:33:11.281013Z",
     "start_time": "2020-07-09T00:33:11.277075Z"
    }
   },
   "outputs": [
    {
     "name": "stdout",
     "output_type": "stream",
     "text": [
      "A variável x é igual a {x}\n"
     ]
    }
   ],
   "source": [
    "print('A variável x é igual a {x}')"
   ]
  },
  {
   "cell_type": "code",
   "execution_count": 30,
   "metadata": {
    "ExecuteTime": {
     "end_time": "2020-07-09T00:33:54.100067Z",
     "start_time": "2020-07-09T00:33:54.097074Z"
    },
    "scrolled": true
   },
   "outputs": [
    {
     "name": "stdout",
     "output_type": "stream",
     "text": [
      "A variável x é igual a 8 que é igual a 512\n"
     ]
    }
   ],
   "source": [
    "x=8\n",
    "print(f'A variável x é igual a {x} que é igual a {x**3}')"
   ]
  },
  {
   "cell_type": "markdown",
   "metadata": {},
   "source": [
    "# Data Types\n",
    "\n",
    "## The `type` function"
   ]
  },
  {
   "cell_type": "markdown",
   "metadata": {},
   "source": [
    "* Variáveis sequenciais \n",
    "* string é sequência de caracteres\n",
    "* lista sequência de elementos\n",
    "* tupla sequência de elementos imutável \n",
    "* Variáveis Numericas\n",
    "* float\n",
    "* inteiro \n",
    "* Variavel booleana \n",
    "* True(1) False(0)\n",
    "* Variaveis map \n",
    "* Dicionarios conjunto de chave e valor "
   ]
  },
  {
   "cell_type": "code",
   "execution_count": 31,
   "metadata": {},
   "outputs": [],
   "source": [
    "first_string='Hello World'"
   ]
  },
  {
   "cell_type": "code",
   "execution_count": 40,
   "metadata": {},
   "outputs": [],
   "source": [
    "first_int=343214"
   ]
  },
  {
   "cell_type": "code",
   "execution_count": 63,
   "metadata": {},
   "outputs": [],
   "source": [
    "first_list = [1,2,'daefwe',True,x]"
   ]
  },
  {
   "cell_type": "code",
   "execution_count": 66,
   "metadata": {},
   "outputs": [],
   "source": [
    "first_tupla=(1,2,4)"
   ]
  },
  {
   "cell_type": "code",
   "execution_count": 69,
   "metadata": {},
   "outputs": [],
   "source": [
    "first_list[0]=10"
   ]
  },
  {
   "cell_type": "code",
   "execution_count": 70,
   "metadata": {},
   "outputs": [
    {
     "data": {
      "text/plain": [
       "[10, 2, 'daefwe', True, 3]"
      ]
     },
     "execution_count": 70,
     "metadata": {},
     "output_type": "execute_result"
    }
   ],
   "source": [
    "first_list"
   ]
  },
  {
   "cell_type": "code",
   "execution_count": 74,
   "metadata": {},
   "outputs": [],
   "source": [
    "first_dict ={'Raiana':'LT',65:'outra coisa', 'teste':[1,2,43,2], 'teste2':{'teste inception':'valor'}}"
   ]
  },
  {
   "cell_type": "code",
   "execution_count": 76,
   "metadata": {},
   "outputs": [
    {
     "data": {
      "text/plain": [
       "'valor'"
      ]
     },
     "execution_count": 76,
     "metadata": {},
     "output_type": "execute_result"
    }
   ],
   "source": [
    "first_dict['teste2']['teste inception']"
   ]
  },
  {
   "cell_type": "code",
   "execution_count": null,
   "metadata": {},
   "outputs": [],
   "source": []
  },
  {
   "cell_type": "code",
   "execution_count": 43,
   "metadata": {},
   "outputs": [
    {
     "data": {
      "text/plain": [
       "True"
      ]
     },
     "execution_count": 43,
     "metadata": {},
     "output_type": "execute_result"
    }
   ],
   "source": [
    "x=5\n",
    "x < 10"
   ]
  },
  {
   "cell_type": "code",
   "execution_count": 48,
   "metadata": {},
   "outputs": [],
   "source": [
    "x=3\n"
   ]
  },
  {
   "cell_type": "code",
   "execution_count": 56,
   "metadata": {},
   "outputs": [
    {
     "data": {
      "text/plain": [
       "True"
      ]
     },
     "execution_count": 56,
     "metadata": {},
     "output_type": "execute_result"
    }
   ],
   "source": [
    "x>3\n",
    "x>=3"
   ]
  },
  {
   "cell_type": "code",
   "execution_count": 57,
   "metadata": {},
   "outputs": [
    {
     "name": "stdout",
     "output_type": "stream",
     "text": [
      "True\n",
      "False\n",
      "False\n",
      "False\n",
      "True\n",
      "False\n"
     ]
    }
   ],
   "source": [
    "print(x==3)\n",
    "print(x!=3)\n",
    "print(x>3)\n",
    "print(x<2)\n",
    "print(x>=3)\n",
    "print(x<=2)"
   ]
  },
  {
   "cell_type": "code",
   "execution_count": 58,
   "metadata": {
    "ExecuteTime": {
     "end_time": "2020-07-09T00:34:32.563320Z",
     "start_time": "2020-07-09T00:34:32.558334Z"
    },
    "scrolled": true
   },
   "outputs": [
    {
     "data": {
      "text/plain": [
       "str"
      ]
     },
     "execution_count": 58,
     "metadata": {},
     "output_type": "execute_result"
    }
   ],
   "source": [
    "# type function\n",
    "\n",
    "# types: float, str, int, bool\n",
    "\n",
    "# string: str\n",
    "type('A variavel x é igual a x')"
   ]
  },
  {
   "cell_type": "code",
   "execution_count": 59,
   "metadata": {
    "ExecuteTime": {
     "end_time": "2020-07-09T00:34:42.689664Z",
     "start_time": "2020-07-09T00:34:42.685675Z"
    }
   },
   "outputs": [
    {
     "data": {
      "text/plain": [
       "float"
      ]
     },
     "execution_count": 59,
     "metadata": {},
     "output_type": "execute_result"
    }
   ],
   "source": [
    "type(3.14)"
   ]
  },
  {
   "cell_type": "code",
   "execution_count": 60,
   "metadata": {
    "ExecuteTime": {
     "end_time": "2020-07-09T00:34:47.006120Z",
     "start_time": "2020-07-09T00:34:47.002131Z"
    }
   },
   "outputs": [
    {
     "data": {
      "text/plain": [
       "int"
      ]
     },
     "execution_count": 60,
     "metadata": {},
     "output_type": "execute_result"
    }
   ],
   "source": [
    "type(3)"
   ]
  },
  {
   "cell_type": "code",
   "execution_count": 61,
   "metadata": {
    "ExecuteTime": {
     "end_time": "2020-07-09T00:34:55.165563Z",
     "start_time": "2020-07-09T00:34:55.161574Z"
    }
   },
   "outputs": [
    {
     "data": {
      "text/plain": [
       "bool"
      ]
     },
     "execution_count": 61,
     "metadata": {},
     "output_type": "execute_result"
    }
   ],
   "source": [
    "type(True)"
   ]
  },
  {
   "cell_type": "code",
   "execution_count": 62,
   "metadata": {
    "ExecuteTime": {
     "end_time": "2020-07-09T00:35:05.209500Z",
     "start_time": "2020-07-09T00:35:05.206508Z"
    }
   },
   "outputs": [],
   "source": [
    "pi = 3.14"
   ]
  },
  {
   "cell_type": "code",
   "execution_count": 63,
   "metadata": {
    "ExecuteTime": {
     "end_time": "2020-07-09T00:35:09.711304Z",
     "start_time": "2020-07-09T00:35:09.708312Z"
    }
   },
   "outputs": [
    {
     "data": {
      "text/plain": [
       "float"
      ]
     },
     "execution_count": 63,
     "metadata": {},
     "output_type": "execute_result"
    }
   ],
   "source": [
    "# float\n",
    "type(pi)"
   ]
  },
  {
   "cell_type": "code",
   "execution_count": 65,
   "metadata": {
    "ExecuteTime": {
     "end_time": "2020-07-09T00:35:13.774143Z",
     "start_time": "2020-07-09T00:35:13.770153Z"
    }
   },
   "outputs": [
    {
     "data": {
      "text/plain": [
       "3"
      ]
     },
     "execution_count": 65,
     "metadata": {},
     "output_type": "execute_result"
    }
   ],
   "source": [
    "x"
   ]
  },
  {
   "cell_type": "code",
   "execution_count": 64,
   "metadata": {
    "ExecuteTime": {
     "end_time": "2020-07-09T00:35:12.280065Z",
     "start_time": "2020-07-09T00:35:12.276076Z"
    }
   },
   "outputs": [
    {
     "data": {
      "text/plain": [
       "int"
      ]
     },
     "execution_count": 64,
     "metadata": {},
     "output_type": "execute_result"
    }
   ],
   "source": [
    "# int \n",
    "type(x)"
   ]
  },
  {
   "cell_type": "code",
   "execution_count": 59,
   "metadata": {
    "ExecuteTime": {
     "end_time": "2020-07-09T00:35:23.524678Z",
     "start_time": "2020-07-09T00:35:23.521701Z"
    }
   },
   "outputs": [],
   "source": [
    "# bool\n",
    "is_happy = True"
   ]
  },
  {
   "cell_type": "code",
   "execution_count": 60,
   "metadata": {
    "ExecuteTime": {
     "end_time": "2020-07-09T00:35:24.020926Z",
     "start_time": "2020-07-09T00:35:24.016937Z"
    }
   },
   "outputs": [
    {
     "data": {
      "text/plain": [
       "bool"
      ]
     },
     "execution_count": 60,
     "metadata": {},
     "output_type": "execute_result"
    }
   ],
   "source": [
    "type(is_happy)"
   ]
  },
  {
   "cell_type": "markdown",
   "metadata": {},
   "source": [
    "## `isinstance` function"
   ]
  },
  {
   "cell_type": "code",
   "execution_count": 62,
   "metadata": {},
   "outputs": [
    {
     "data": {
      "text/plain": [
       "False"
      ]
     },
     "execution_count": 62,
     "metadata": {},
     "output_type": "execute_result"
    }
   ],
   "source": [
    "isinstance(is_happy, bool)"
   ]
  },
  {
   "cell_type": "markdown",
   "metadata": {},
   "source": [
    "# Code Execution"
   ]
  },
  {
   "cell_type": "markdown",
   "metadata": {},
   "source": [
    "## For loops"
   ]
  },
  {
   "cell_type": "code",
   "execution_count": 77,
   "metadata": {
    "ExecuteTime": {
     "end_time": "2020-07-09T00:40:34.900125Z",
     "start_time": "2020-07-09T00:40:34.896135Z"
    }
   },
   "outputs": [
    {
     "name": "stdout",
     "output_type": "stream",
     "text": [
      "Miau\n",
      "Miau\n",
      "Miau\n",
      "Miau\n",
      "Miau\n"
     ]
    }
   ],
   "source": [
    "print('Miau')\n",
    "print('Miau')\n",
    "print('Miau')\n",
    "print('Miau')\n",
    "print('Miau')"
   ]
  },
  {
   "cell_type": "code",
   "execution_count": 81,
   "metadata": {
    "ExecuteTime": {
     "end_time": "2020-07-09T00:40:52.635348Z",
     "start_time": "2020-07-09T00:40:52.632356Z"
    },
    "scrolled": true
   },
   "outputs": [
    {
     "name": "stdout",
     "output_type": "stream",
     "text": [
      "Miau\n",
      "Miau\n",
      "Miau\n",
      "Miau\n",
      "Miau\n"
     ]
    }
   ],
   "source": [
    "# range(5) --> [0, 1, 2, 3, 4]\n",
    "for item in range(5):\n",
    "    print('Miau')"
   ]
  },
  {
   "cell_type": "code",
   "execution_count": 79,
   "metadata": {
    "ExecuteTime": {
     "end_time": "2020-07-09T00:43:08.894306Z",
     "start_time": "2020-07-09T00:43:08.890318Z"
    }
   },
   "outputs": [
    {
     "name": "stdout",
     "output_type": "stream",
     "text": [
      "Miau\n",
      "Miiiau\n",
      "Miaar\n",
      "Meaow\n",
      "Meeeeeow\n"
     ]
    }
   ],
   "source": [
    "for item in ['Miau', 'Miiiau', 'Miaar', 'Meaow' ,'Meeeeeow']:\n",
    "    print(item)"
   ]
  },
  {
   "cell_type": "code",
   "execution_count": 27,
   "metadata": {},
   "outputs": [
    {
     "name": "stdout",
     "output_type": "stream",
     "text": [
      "0\n",
      "1\n",
      "2\n",
      "3\n",
      "4\n"
     ]
    }
   ],
   "source": [
    "for item in [0, 1, 2, 3 ,4]:\n",
    "    print(item)"
   ]
  },
  {
   "cell_type": "markdown",
   "metadata": {},
   "source": [
    "## While loops\n",
    "\n",
    "`while` loop run `while a condition is True`"
   ]
  },
  {
   "cell_type": "code",
   "execution_count": 31,
   "metadata": {
    "ExecuteTime": {
     "end_time": "2020-07-09T00:45:42.796232Z",
     "start_time": "2020-07-09T00:45:42.791246Z"
    }
   },
   "outputs": [
    {
     "data": {
      "text/plain": [
       "True"
      ]
     },
     "execution_count": 31,
     "metadata": {},
     "output_type": "execute_result"
    }
   ],
   "source": [
    "item = 0\n",
    "item < 5"
   ]
  },
  {
   "cell_type": "code",
   "execution_count": 85,
   "metadata": {
    "ExecuteTime": {
     "end_time": "2020-07-09T00:46:15.719392Z",
     "start_time": "2020-07-09T00:46:15.715403Z"
    }
   },
   "outputs": [
    {
     "name": "stdout",
     "output_type": "stream",
     "text": [
      "Miau\n",
      "Miau\n",
      "Miau\n",
      "Miau\n",
      "Miau\n"
     ]
    }
   ],
   "source": [
    "item = 0\n",
    "\n",
    "while item < 5:\n",
    "    print('Miau')\n",
    "    \n",
    "    item = item + 1\n",
    "    # item += 1"
   ]
  },
  {
   "cell_type": "markdown",
   "metadata": {},
   "source": [
    "# Conditions"
   ]
  },
  {
   "cell_type": "code",
   "execution_count": 86,
   "metadata": {
    "ExecuteTime": {
     "end_time": "2020-07-09T00:46:46.641252Z",
     "start_time": "2020-07-09T00:46:46.638260Z"
    }
   },
   "outputs": [],
   "source": [
    "a = 10\n",
    "b = 5\n",
    "c = 70"
   ]
  },
  {
   "cell_type": "code",
   "execution_count": null,
   "metadata": {},
   "outputs": [],
   "source": []
  },
  {
   "cell_type": "code",
   "execution_count": 39,
   "metadata": {
    "ExecuteTime": {
     "end_time": "2020-07-09T00:47:00.981755Z",
     "start_time": "2020-07-09T00:47:00.978762Z"
    }
   },
   "outputs": [],
   "source": [
    "if a < b:\n",
    "    print('oi')"
   ]
  },
  {
   "cell_type": "code",
   "execution_count": 90,
   "metadata": {
    "ExecuteTime": {
     "end_time": "2020-07-09T00:47:46.505360Z",
     "start_time": "2020-07-09T00:47:46.501367Z"
    }
   },
   "outputs": [
    {
     "name": "stdout",
     "output_type": "stream",
     "text": [
      "Ambas as condições são verdadeiras\n"
     ]
    }
   ],
   "source": [
    "if a > b and a < c:\n",
    "    print('Ambas as condições são verdadeiras')\n",
    "else:\n",
    "    print('Ou uma ou outra condição não são verdadeiras')"
   ]
  },
  {
   "cell_type": "markdown",
   "metadata": {},
   "source": [
    "## <u>AND</u> operator \n",
    "\n",
    "- `True` **and** `True` $\\to$ `True`\n",
    "- `True` **and** `False` $\\to$ `False`\n",
    "- `False` **and** `True` $\\to$ `False`\n",
    "- `False` **and** `False` $\\to$ `False`"
   ]
  },
  {
   "cell_type": "markdown",
   "metadata": {},
   "source": [
    "## <u>OR</u> operator \n",
    "\n",
    "- `True` **or** `True` $\\to$ `True`\n",
    "- `True` **or** `False` $\\to$ `True`\n",
    "- `False` **or** `True` $\\to$ `True`\n",
    "- `False` **or** `False` $\\to$ `False`"
   ]
  }
 ],
 "metadata": {
  "kernelspec": {
   "display_name": "Python 3",
   "language": "python",
   "name": "python3"
  },
  "language_info": {
   "codemirror_mode": {
    "name": "ipython",
    "version": 3
   },
   "file_extension": ".py",
   "mimetype": "text/x-python",
   "name": "python",
   "nbconvert_exporter": "python",
   "pygments_lexer": "ipython3",
   "version": "3.9.0"
  },
  "toc": {
   "base_numbering": 1,
   "nav_menu": {},
   "number_sections": true,
   "sideBar": true,
   "skip_h1_title": false,
   "title_cell": "Table of Contents",
   "title_sidebar": "Contents",
   "toc_cell": false,
   "toc_position": {
    "height": "calc(100% - 180px)",
    "left": "10px",
    "top": "150px",
    "width": "307.2px"
   },
   "toc_section_display": true,
   "toc_window_display": false
  },
  "varInspector": {
   "cols": {
    "lenName": 16,
    "lenType": 16,
    "lenVar": 40
   },
   "kernels_config": {
    "python": {
     "delete_cmd_postfix": "",
     "delete_cmd_prefix": "del ",
     "library": "var_list.py",
     "varRefreshCmd": "print(var_dic_list())"
    },
    "r": {
     "delete_cmd_postfix": ") ",
     "delete_cmd_prefix": "rm(",
     "library": "var_list.r",
     "varRefreshCmd": "cat(var_dic_list()) "
    }
   },
   "types_to_exclude": [
    "module",
    "function",
    "builtin_function_or_method",
    "instance",
    "_Feature"
   ],
   "window_display": false
  }
 },
 "nbformat": 4,
 "nbformat_minor": 2
}
