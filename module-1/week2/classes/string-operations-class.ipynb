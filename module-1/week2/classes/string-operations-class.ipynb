{
 "cells": [
  {
   "cell_type": "markdown",
   "metadata": {},
   "source": [
    "# Strings in Python"
   ]
  },
  {
   "cell_type": "markdown",
   "metadata": {},
   "source": [
    "## String concatenation"
   ]
  },
  {
   "cell_type": "code",
   "execution_count": 4,
   "metadata": {
    "ExecuteTime": {
     "end_time": "2020-07-14T23:59:58.349449Z",
     "start_time": "2020-07-14T23:59:58.345459Z"
    }
   },
   "outputs": [
    {
     "data": {
      "text/plain": [
       "str"
      ]
     },
     "execution_count": 4,
     "metadata": {},
     "output_type": "execute_result"
    }
   ],
   "source": [
    "type('Hello')"
   ]
  },
  {
   "cell_type": "code",
   "execution_count": 5,
   "metadata": {
    "ExecuteTime": {
     "end_time": "2020-07-14T23:59:58.831738Z",
     "start_time": "2020-07-14T23:59:58.827748Z"
    }
   },
   "outputs": [
    {
     "data": {
      "text/plain": [
       "str"
      ]
     },
     "execution_count": 5,
     "metadata": {},
     "output_type": "execute_result"
    }
   ],
   "source": [
    "type(\"Hello\")"
   ]
  },
  {
   "cell_type": "code",
   "execution_count": 10,
   "metadata": {
    "ExecuteTime": {
     "end_time": "2020-07-15T00:01:10.256082Z",
     "start_time": "2020-07-15T00:01:10.252092Z"
    }
   },
   "outputs": [
    {
     "data": {
      "text/plain": [
       "'Hello_World'"
      ]
     },
     "execution_count": 10,
     "metadata": {},
     "output_type": "execute_result"
    }
   ],
   "source": [
    "'Hello' + '_' + \"World\""
   ]
  },
  {
   "cell_type": "code",
   "execution_count": 11,
   "metadata": {
    "ExecuteTime": {
     "end_time": "2020-07-15T00:01:37.718462Z",
     "start_time": "2020-07-15T00:01:37.715469Z"
    }
   },
   "outputs": [],
   "source": [
    "x = 'Hello'\n",
    "\n",
    "y = \"World\""
   ]
  },
  {
   "cell_type": "code",
   "execution_count": 12,
   "metadata": {
    "ExecuteTime": {
     "end_time": "2020-07-15T00:01:39.682197Z",
     "start_time": "2020-07-15T00:01:39.678206Z"
    }
   },
   "outputs": [
    {
     "data": {
      "text/plain": [
       "'HelloWorld'"
      ]
     },
     "execution_count": 12,
     "metadata": {},
     "output_type": "execute_result"
    }
   ],
   "source": [
    "x + y"
   ]
  },
  {
   "cell_type": "code",
   "execution_count": 13,
   "metadata": {
    "ExecuteTime": {
     "end_time": "2020-07-15T00:02:18.878171Z",
     "start_time": "2020-07-15T00:02:18.875179Z"
    }
   },
   "outputs": [],
   "source": [
    "z = 1"
   ]
  },
  {
   "cell_type": "code",
   "execution_count": 15,
   "metadata": {
    "ExecuteTime": {
     "end_time": "2020-07-15T00:02:26.501666Z",
     "start_time": "2020-07-15T00:02:26.498674Z"
    }
   },
   "outputs": [],
   "source": [
    "z += 1\n",
    "# z = z + 1"
   ]
  },
  {
   "cell_type": "code",
   "execution_count": 16,
   "metadata": {
    "ExecuteTime": {
     "end_time": "2020-07-15T00:02:28.322966Z",
     "start_time": "2020-07-15T00:02:28.318977Z"
    }
   },
   "outputs": [
    {
     "data": {
      "text/plain": [
       "2"
      ]
     },
     "execution_count": 16,
     "metadata": {},
     "output_type": "execute_result"
    }
   ],
   "source": [
    "z"
   ]
  },
  {
   "cell_type": "code",
   "execution_count": 18,
   "metadata": {
    "ExecuteTime": {
     "end_time": "2020-07-15T00:03:18.858104Z",
     "start_time": "2020-07-15T00:03:18.855141Z"
    }
   },
   "outputs": [],
   "source": [
    "x += 'World'"
   ]
  },
  {
   "cell_type": "code",
   "execution_count": 19,
   "metadata": {
    "ExecuteTime": {
     "end_time": "2020-07-15T00:03:30.384342Z",
     "start_time": "2020-07-15T00:03:30.380352Z"
    }
   },
   "outputs": [
    {
     "data": {
      "text/plain": [
       "'HelloWorld'"
      ]
     },
     "execution_count": 19,
     "metadata": {},
     "output_type": "execute_result"
    }
   ],
   "source": [
    "x"
   ]
  },
  {
   "cell_type": "code",
   "execution_count": null,
   "metadata": {
    "ExecuteTime": {
     "end_time": "2020-06-02T18:48:54.179142Z",
     "start_time": "2020-06-02T18:48:54.175153Z"
    }
   },
   "outputs": [],
   "source": [
    "x = 'Hello'\n",
    "x += 'World'\n",
    "# x = x + 'World'\n",
    "x"
   ]
  },
  {
   "cell_type": "markdown",
   "metadata": {},
   "source": [
    "x = 'Hello'\n",
    "\n",
    "x += 'World'\n",
    "\n",
    "x = x + 'World'\n",
    "\n",
    "x = 'Hello' + 'World' \n",
    "\n",
    "x <- 'HelloWorld'"
   ]
  },
  {
   "cell_type": "code",
   "execution_count": 21,
   "metadata": {
    "ExecuteTime": {
     "end_time": "2020-07-15T00:06:01.643303Z",
     "start_time": "2020-07-15T00:06:01.640311Z"
    }
   },
   "outputs": [
    {
     "data": {
      "text/plain": [
       "'Hello'"
      ]
     },
     "execution_count": 21,
     "metadata": {},
     "output_type": "execute_result"
    }
   ],
   "source": [
    "\"Hello\""
   ]
  },
  {
   "cell_type": "code",
   "execution_count": 22,
   "metadata": {
    "ExecuteTime": {
     "end_time": "2020-07-15T00:06:25.264232Z",
     "start_time": "2020-07-15T00:06:25.259245Z"
    }
   },
   "outputs": [
    {
     "name": "stdout",
     "output_type": "stream",
     "text": [
      "Hello\n"
     ]
    }
   ],
   "source": [
    "print('Hello')"
   ]
  },
  {
   "cell_type": "code",
   "execution_count": 24,
   "metadata": {
    "ExecuteTime": {
     "end_time": "2020-07-15T00:07:40.726652Z",
     "start_time": "2020-07-15T00:07:40.723660Z"
    }
   },
   "outputs": [
    {
     "data": {
      "text/plain": [
       "'\\n'"
      ]
     },
     "execution_count": 24,
     "metadata": {},
     "output_type": "execute_result"
    }
   ],
   "source": [
    "# newline character\n",
    "'\\n'"
   ]
  },
  {
   "cell_type": "code",
   "execution_count": 26,
   "metadata": {
    "ExecuteTime": {
     "end_time": "2020-07-15T00:08:33.925774Z",
     "start_time": "2020-07-15T00:08:33.921785Z"
    }
   },
   "outputs": [
    {
     "name": "stdout",
     "output_type": "stream",
     "text": [
      "\n",
      "\n",
      "\n",
      "\n",
      "\n",
      "\n"
     ]
    }
   ],
   "source": [
    "print('\\n\\n\\n\\n\\n')"
   ]
  },
  {
   "cell_type": "code",
   "execution_count": 27,
   "metadata": {
    "ExecuteTime": {
     "end_time": "2020-07-15T00:09:04.671167Z",
     "start_time": "2020-07-15T00:09:04.667200Z"
    }
   },
   "outputs": [
    {
     "data": {
      "text/plain": [
       "'\\t'"
      ]
     },
     "execution_count": 27,
     "metadata": {},
     "output_type": "execute_result"
    }
   ],
   "source": [
    "'\\t'"
   ]
  },
  {
   "cell_type": "markdown",
   "metadata": {},
   "source": [
    "## Multiline strings"
   ]
  },
  {
   "cell_type": "code",
   "execution_count": 45,
   "metadata": {
    "ExecuteTime": {
     "end_time": "2020-07-15T00:15:09.273615Z",
     "start_time": "2020-07-15T00:15:09.269625Z"
    }
   },
   "outputs": [
    {
     "data": {
      "text/plain": [
       "'Andre Ribeiro de \\nBarros Aguiar'"
      ]
     },
     "execution_count": 45,
     "metadata": {},
     "output_type": "execute_result"
    }
   ],
   "source": [
    "'''Andre Ribeiro de \n",
    "Barros Aguiar'''"
   ]
  },
  {
   "cell_type": "code",
   "execution_count": 46,
   "metadata": {
    "ExecuteTime": {
     "end_time": "2020-07-15T00:15:21.277707Z",
     "start_time": "2020-07-15T00:15:21.274716Z"
    }
   },
   "outputs": [
    {
     "name": "stdout",
     "output_type": "stream",
     "text": [
      "Andre Ribeiro de \n",
      "Barros Aguiar\n"
     ]
    }
   ],
   "source": [
    "print('''Andre Ribeiro de \n",
    "Barros Aguiar''')"
   ]
  },
  {
   "cell_type": "code",
   "execution_count": 47,
   "metadata": {
    "ExecuteTime": {
     "end_time": "2020-07-15T00:15:36.395270Z",
     "start_time": "2020-07-15T00:15:36.391281Z"
    }
   },
   "outputs": [
    {
     "data": {
      "text/plain": [
       "'Andre Ribeiro de \\nBarros Aguiar'"
      ]
     },
     "execution_count": 47,
     "metadata": {},
     "output_type": "execute_result"
    }
   ],
   "source": [
    "\"\"\"Andre Ribeiro de \n",
    "Barros Aguiar\"\"\""
   ]
  },
  {
   "cell_type": "markdown",
   "metadata": {},
   "source": [
    "- `\\n` é a representação da quebra de linha (enter)\n",
    "- `\\t` é a representação do TAB"
   ]
  },
  {
   "cell_type": "markdown",
   "metadata": {},
   "source": [
    "# String multiplication"
   ]
  },
  {
   "cell_type": "code",
   "execution_count": 50,
   "metadata": {
    "ExecuteTime": {
     "end_time": "2020-07-15T00:16:22.818291Z",
     "start_time": "2020-07-15T00:16:22.814301Z"
    }
   },
   "outputs": [
    {
     "data": {
      "text/plain": [
       "'HelloWorldHelloWorldHelloWorld'"
      ]
     },
     "execution_count": 50,
     "metadata": {},
     "output_type": "execute_result"
    }
   ],
   "source": [
    "x + x + x"
   ]
  },
  {
   "cell_type": "code",
   "execution_count": 52,
   "metadata": {
    "ExecuteTime": {
     "end_time": "2020-07-15T00:16:36.093492Z",
     "start_time": "2020-07-15T00:16:36.089504Z"
    }
   },
   "outputs": [
    {
     "data": {
      "text/plain": [
       "'HelloWorldHelloWorldHelloWorld'"
      ]
     },
     "execution_count": 52,
     "metadata": {},
     "output_type": "execute_result"
    }
   ],
   "source": [
    "x * 3"
   ]
  },
  {
   "cell_type": "code",
   "execution_count": 55,
   "metadata": {
    "ExecuteTime": {
     "end_time": "2020-07-15T00:17:16.198189Z",
     "start_time": "2020-07-15T00:17:16.195197Z"
    }
   },
   "outputs": [
    {
     "name": "stdout",
     "output_type": "stream",
     "text": [
      "\t\t\t\tAndre\n"
     ]
    }
   ],
   "source": [
    "print('\\t'*4 + 'Andre')"
   ]
  },
  {
   "cell_type": "code",
   "execution_count": 54,
   "metadata": {
    "ExecuteTime": {
     "end_time": "2020-07-15T00:16:56.295573Z",
     "start_time": "2020-07-15T00:16:56.292581Z"
    }
   },
   "outputs": [
    {
     "name": "stdout",
     "output_type": "stream",
     "text": [
      "\t\t\t\tAndre\n"
     ]
    }
   ],
   "source": [
    "print('\\t\\t\\t\\tAndre')"
   ]
  },
  {
   "cell_type": "code",
   "execution_count": null,
   "metadata": {
    "ExecuteTime": {
     "end_time": "2020-06-02T18:59:01.029168Z",
     "start_time": "2020-06-02T18:59:01.025180Z"
    }
   },
   "outputs": [],
   "source": [
    "x + x + x"
   ]
  },
  {
   "cell_type": "code",
   "execution_count": 57,
   "metadata": {
    "ExecuteTime": {
     "end_time": "2020-07-15T00:17:40.962319Z",
     "start_time": "2020-07-15T00:17:40.958330Z"
    }
   },
   "outputs": [
    {
     "data": {
      "text/plain": [
       "'--------------------------------------------------'"
      ]
     },
     "execution_count": 57,
     "metadata": {},
     "output_type": "execute_result"
    }
   ],
   "source": [
    "50 * '-'"
   ]
  },
  {
   "cell_type": "code",
   "execution_count": 61,
   "metadata": {
    "ExecuteTime": {
     "end_time": "2020-07-15T00:18:58.595077Z",
     "start_time": "2020-07-15T00:18:58.591088Z"
    }
   },
   "outputs": [
    {
     "data": {
      "text/plain": [
       "['p3', 'unp3', 'p3', 'unp3']"
      ]
     },
     "execution_count": 61,
     "metadata": {},
     "output_type": "execute_result"
    }
   ],
   "source": [
    "# curiosidade: listas tem o mesmo princípio de concatenação das strings\n",
    "['p3', 'unp3'] + ['p3', 'unp3']"
   ]
  },
  {
   "cell_type": "code",
   "execution_count": null,
   "metadata": {},
   "outputs": [],
   "source": [
    "['p3', 'unp3'] * 10"
   ]
  },
  {
   "cell_type": "code",
   "execution_count": 64,
   "metadata": {
    "ExecuteTime": {
     "end_time": "2020-07-15T00:21:41.864648Z",
     "start_time": "2020-07-15T00:21:41.859661Z"
    }
   },
   "outputs": [
    {
     "data": {
      "text/plain": [
       "['p3',\n",
       " 'unp3',\n",
       " 'p3',\n",
       " 'unp3',\n",
       " 'p3',\n",
       " 'unp3',\n",
       " 'p3',\n",
       " 'unp3',\n",
       " 'p3',\n",
       " 'unp3',\n",
       " 'p3',\n",
       " 'unp3',\n",
       " 'p3',\n",
       " 'unp3',\n",
       " 'p3',\n",
       " 'unp3']"
      ]
     },
     "execution_count": 64,
     "metadata": {},
     "output_type": "execute_result"
    }
   ],
   "source": [
    "(['p3', 'unp3'] * 10)[4:]"
   ]
  },
  {
   "cell_type": "code",
   "execution_count": 65,
   "metadata": {
    "ExecuteTime": {
     "end_time": "2020-07-15T00:22:51.972974Z",
     "start_time": "2020-07-15T00:22:51.968985Z"
    }
   },
   "outputs": [
    {
     "data": {
      "text/plain": [
       "'Andre\\nAndre\\nAndre\\nAndre\\nAndre\\nAndre\\nAndre\\nAndre\\nAndre\\nAndre\\n'"
      ]
     },
     "execution_count": 65,
     "metadata": {},
     "output_type": "execute_result"
    }
   ],
   "source": [
    "# multiply values\n",
    "\n",
    "'Andre\\n' * 10"
   ]
  },
  {
   "cell_type": "code",
   "execution_count": 66,
   "metadata": {
    "ExecuteTime": {
     "end_time": "2020-07-15T00:23:00.602034Z",
     "start_time": "2020-07-15T00:23:00.598045Z"
    }
   },
   "outputs": [
    {
     "name": "stdout",
     "output_type": "stream",
     "text": [
      "Andre\n",
      "Andre\n",
      "Andre\n",
      "Andre\n",
      "Andre\n",
      "Andre\n",
      "Andre\n",
      "Andre\n",
      "Andre\n",
      "Andre\n",
      "\n"
     ]
    }
   ],
   "source": [
    "# multiply values\n",
    "\n",
    "print('Andre\\n' * 10)"
   ]
  },
  {
   "cell_type": "markdown",
   "metadata": {},
   "source": [
    "------"
   ]
  },
  {
   "cell_type": "markdown",
   "metadata": {},
   "source": [
    "# Join list of strings"
   ]
  },
  {
   "cell_type": "code",
   "execution_count": 67,
   "metadata": {
    "ExecuteTime": {
     "end_time": "2020-07-15T00:24:09.806405Z",
     "start_time": "2020-07-15T00:24:09.801419Z"
    },
    "scrolled": true
   },
   "outputs": [
    {
     "data": {
      "text/plain": [
       "['Andre', 'Ribeiro', 'de', 'Barros', 'Aguiar']"
      ]
     },
     "execution_count": 67,
     "metadata": {},
     "output_type": "execute_result"
    }
   ],
   "source": [
    "meu_nome = ['Andre','Ribeiro','de', 'Barros','Aguiar']\n",
    "meu_nome"
   ]
  },
  {
   "cell_type": "code",
   "execution_count": 73,
   "metadata": {
    "ExecuteTime": {
     "end_time": "2020-07-15T00:24:43.323351Z",
     "start_time": "2020-07-15T00:24:43.320382Z"
    }
   },
   "outputs": [],
   "source": [
    "# meu_nome[0] + ' ' + meu_nome[1] + ..."
   ]
  },
  {
   "cell_type": "code",
   "execution_count": 74,
   "metadata": {
    "ExecuteTime": {
     "end_time": "2020-07-15T00:25:17.726579Z",
     "start_time": "2020-07-15T00:25:17.723559Z"
    }
   },
   "outputs": [],
   "source": [
    "espaco = ' '"
   ]
  },
  {
   "cell_type": "code",
   "execution_count": 75,
   "metadata": {
    "ExecuteTime": {
     "end_time": "2020-07-15T00:26:41.939469Z",
     "start_time": "2020-07-15T00:26:41.933485Z"
    }
   },
   "outputs": [
    {
     "data": {
      "text/plain": [
       "'Andre Ribeiro de Barros Aguiar'"
      ]
     },
     "execution_count": 75,
     "metadata": {},
     "output_type": "execute_result"
    }
   ],
   "source": [
    "espaco.join(meu_nome)"
   ]
  },
  {
   "cell_type": "code",
   "execution_count": 77,
   "metadata": {
    "ExecuteTime": {
     "end_time": "2020-07-15T00:27:13.482058Z",
     "start_time": "2020-07-15T00:27:13.478067Z"
    }
   },
   "outputs": [
    {
     "data": {
      "text/plain": [
       "'Andre Ribeiro de Barros Aguiar'"
      ]
     },
     "execution_count": 77,
     "metadata": {},
     "output_type": "execute_result"
    }
   ],
   "source": [
    "' '.join(meu_nome)"
   ]
  },
  {
   "cell_type": "code",
   "execution_count": 78,
   "metadata": {
    "ExecuteTime": {
     "end_time": "2020-07-15T00:27:42.282585Z",
     "start_time": "2020-07-15T00:27:42.279566Z"
    }
   },
   "outputs": [
    {
     "data": {
      "text/plain": [
       "'Andre-Ribeiro-de-Barros-Aguiar'"
      ]
     },
     "execution_count": 78,
     "metadata": {},
     "output_type": "execute_result"
    }
   ],
   "source": [
    "'-'.join(meu_nome)"
   ]
  },
  {
   "cell_type": "code",
   "execution_count": 82,
   "metadata": {
    "ExecuteTime": {
     "end_time": "2020-07-15T00:29:13.002383Z",
     "start_time": "2020-07-15T00:29:12.998395Z"
    }
   },
   "outputs": [
    {
     "data": {
      "text/plain": [
       "'Andre*****Ribeiro*****de*****Barros*****Aguiar'"
      ]
     },
     "execution_count": 82,
     "metadata": {},
     "output_type": "execute_result"
    }
   ],
   "source": [
    "'*****'.join(meu_nome)"
   ]
  },
  {
   "cell_type": "code",
   "execution_count": 83,
   "metadata": {
    "ExecuteTime": {
     "end_time": "2020-07-15T00:29:32.552897Z",
     "start_time": "2020-07-15T00:29:32.547910Z"
    }
   },
   "outputs": [
    {
     "data": {
      "text/plain": [
       "'Andre->Ribeiro->de->Barros->Aguiar'"
      ]
     },
     "execution_count": 83,
     "metadata": {},
     "output_type": "execute_result"
    }
   ],
   "source": [
    "'->'.join(['Andre','Ribeiro','de', 'Barros','Aguiar'])"
   ]
  },
  {
   "cell_type": "code",
   "execution_count": 84,
   "metadata": {
    "ExecuteTime": {
     "end_time": "2020-07-15T00:30:13.652436Z",
     "start_time": "2020-07-15T00:30:13.648477Z"
    }
   },
   "outputs": [
    {
     "data": {
      "text/plain": [
       "'Happy-Puppies'"
      ]
     },
     "execution_count": 84,
     "metadata": {},
     "output_type": "execute_result"
    }
   ],
   "source": [
    "x = 'Happy'\n",
    "y = 'Puppies'\n",
    "\n",
    "'-'.join([x, y])"
   ]
  },
  {
   "cell_type": "markdown",
   "metadata": {},
   "source": [
    "# The newline character (\\n)"
   ]
  },
  {
   "cell_type": "code",
   "execution_count": 2,
   "metadata": {
    "ExecuteTime": {
     "end_time": "2020-07-15T00:30:27.325772Z",
     "start_time": "2020-07-15T00:30:27.322780Z"
    }
   },
   "outputs": [
    {
     "name": "stdout",
     "output_type": "stream",
     "text": [
      "\n",
      "\n",
      "\n",
      "\n"
     ]
    }
   ],
   "source": [
    "print('\\n'* 3)"
   ]
  },
  {
   "cell_type": "markdown",
   "metadata": {},
   "source": [
    "# Practical example"
   ]
  },
  {
   "cell_type": "code",
   "execution_count": 86,
   "metadata": {
    "ExecuteTime": {
     "end_time": "2020-07-15T00:32:04.325145Z",
     "start_time": "2020-07-15T00:32:04.322152Z"
    }
   },
   "outputs": [],
   "source": [
    "queries = []\n",
    "\n",
    "tables = ['table_A', 'table_B', 'table_C', \n",
    "          'table_D','table_E', 'table_F',\n",
    "          'table_G','table_H', 'table_I']"
   ]
  },
  {
   "cell_type": "code",
   "execution_count": 87,
   "metadata": {
    "ExecuteTime": {
     "end_time": "2020-07-15T00:32:05.391210Z",
     "start_time": "2020-07-15T00:32:05.387222Z"
    }
   },
   "outputs": [
    {
     "data": {
      "text/plain": [
       "['table_A',\n",
       " 'table_B',\n",
       " 'table_C',\n",
       " 'table_D',\n",
       " 'table_E',\n",
       " 'table_F',\n",
       " 'table_G',\n",
       " 'table_H',\n",
       " 'table_I']"
      ]
     },
     "execution_count": 87,
     "metadata": {},
     "output_type": "execute_result"
    }
   ],
   "source": [
    "tables"
   ]
  },
  {
   "cell_type": "code",
   "execution_count": null,
   "metadata": {},
   "outputs": [],
   "source": [
    "'''\n",
    "SELECT * FROM table_A\n",
    "UNION\n",
    "SELECT * FROM table_B\n",
    "UNION \n",
    "SELECT * FROM table_C ...\n",
    "'''"
   ]
  },
  {
   "cell_type": "code",
   "execution_count": 88,
   "metadata": {
    "ExecuteTime": {
     "end_time": "2020-07-15T00:33:10.526974Z",
     "start_time": "2020-07-15T00:33:10.522984Z"
    }
   },
   "outputs": [
    {
     "name": "stdout",
     "output_type": "stream",
     "text": [
      "SELECT * FROM table_A\n",
      "UNION\n",
      "SELECT * FROM table_B\n",
      "UNION\n",
      "SELECT * FROM table_C\n",
      "UNION\n",
      "SELECT * FROM table_D\n",
      "UNION\n",
      "SELECT * FROM table_E\n",
      "UNION\n",
      "SELECT * FROM table_F\n",
      "UNION\n",
      "SELECT * FROM table_G\n",
      "UNION\n",
      "SELECT * FROM table_H\n",
      "UNION\n",
      "SELECT * FROM table_I\n",
      "UNION\n"
     ]
    }
   ],
   "source": [
    "for each_table in tables:\n",
    "    print(f'''SELECT * FROM {each_table}\\nUNION''')"
   ]
  },
  {
   "cell_type": "code",
   "execution_count": 89,
   "metadata": {
    "ExecuteTime": {
     "end_time": "2020-07-15T00:34:11.778074Z",
     "start_time": "2020-07-15T00:34:11.773087Z"
    }
   },
   "outputs": [
    {
     "data": {
      "text/plain": [
       "['SELECT * FROM table_A',\n",
       " 'SELECT * FROM table_B',\n",
       " 'SELECT * FROM table_C',\n",
       " 'SELECT * FROM table_D',\n",
       " 'SELECT * FROM table_E',\n",
       " 'SELECT * FROM table_F',\n",
       " 'SELECT * FROM table_G',\n",
       " 'SELECT * FROM table_H',\n",
       " 'SELECT * FROM table_I']"
      ]
     },
     "execution_count": 89,
     "metadata": {},
     "output_type": "execute_result"
    }
   ],
   "source": [
    "queries = []\n",
    "\n",
    "for each_table in tables:\n",
    "    queries.append(f'SELECT * FROM {each_table}')\n",
    "queries"
   ]
  },
  {
   "cell_type": "code",
   "execution_count": 93,
   "metadata": {
    "ExecuteTime": {
     "end_time": "2020-07-15T00:35:11.933953Z",
     "start_time": "2020-07-15T00:35:11.930962Z"
    }
   },
   "outputs": [
    {
     "name": "stdout",
     "output_type": "stream",
     "text": [
      "SELECT * FROM table_A\n",
      "UNION\n",
      "SELECT * FROM table_B\n",
      "UNION\n",
      "SELECT * FROM table_C\n",
      "UNION\n",
      "SELECT * FROM table_D\n",
      "UNION\n",
      "SELECT * FROM table_E\n",
      "UNION\n",
      "SELECT * FROM table_F\n",
      "UNION\n",
      "SELECT * FROM table_G\n",
      "UNION\n",
      "SELECT * FROM table_H\n",
      "UNION\n",
      "SELECT * FROM table_I\n"
     ]
    }
   ],
   "source": [
    "print('\\nUNION\\n'.join(queries))"
   ]
  },
  {
   "cell_type": "code",
   "execution_count": 94,
   "metadata": {
    "ExecuteTime": {
     "end_time": "2020-07-15T00:35:56.821897Z",
     "start_time": "2020-07-15T00:35:56.818933Z"
    }
   },
   "outputs": [
    {
     "name": "stdout",
     "output_type": "stream",
     "text": [
      "SELECT * FROM table_A\n",
      "UNION\n",
      "SELECT * FROM table_B\n",
      "UNION\n",
      "SELECT * FROM table_C\n",
      "UNION\n",
      "SELECT * FROM table_D\n",
      "UNION\n",
      "SELECT * FROM table_E\n",
      "UNION\n",
      "SELECT * FROM table_F\n",
      "UNION\n",
      "SELECT * FROM table_G\n",
      "UNION\n",
      "SELECT * FROM table_H\n",
      "UNION\n",
      "SELECT * FROM table_I\n"
     ]
    }
   ],
   "source": [
    "final_query = '\\nUNION\\n'.join(queries)\n",
    "print(final_query)"
   ]
  },
  {
   "cell_type": "markdown",
   "metadata": {},
   "source": [
    "# Size of strings"
   ]
  },
  {
   "cell_type": "code",
   "execution_count": 95,
   "metadata": {
    "ExecuteTime": {
     "end_time": "2020-07-15T00:37:36.365424Z",
     "start_time": "2020-07-15T00:37:36.359440Z"
    }
   },
   "outputs": [
    {
     "data": {
      "text/plain": [
       "9"
      ]
     },
     "execution_count": 95,
     "metadata": {},
     "output_type": "execute_result"
    }
   ],
   "source": [
    "len([1,2,3,4,5,98,1,3,54])"
   ]
  },
  {
   "cell_type": "code",
   "execution_count": 4,
   "metadata": {
    "ExecuteTime": {
     "end_time": "2020-07-15T00:37:47.311614Z",
     "start_time": "2020-07-15T00:37:47.307624Z"
    }
   },
   "outputs": [
    {
     "data": {
      "text/plain": [
       "5"
      ]
     },
     "execution_count": 4,
     "metadata": {},
     "output_type": "execute_result"
    }
   ],
   "source": [
    "# len of string\n",
    "len('Andre')"
   ]
  },
  {
   "cell_type": "code",
   "execution_count": 98,
   "metadata": {
    "ExecuteTime": {
     "end_time": "2020-07-15T00:38:34.328377Z",
     "start_time": "2020-07-15T00:38:34.325357Z"
    }
   },
   "outputs": [
    {
     "data": {
      "text/plain": [
       "7"
      ]
     },
     "execution_count": 98,
     "metadata": {},
     "output_type": "execute_result"
    }
   ],
   "source": [
    "len('''Andre \n",
    "''')"
   ]
  },
  {
   "cell_type": "code",
   "execution_count": 99,
   "metadata": {
    "ExecuteTime": {
     "end_time": "2020-07-15T00:39:25.310209Z",
     "start_time": "2020-07-15T00:39:25.306220Z"
    }
   },
   "outputs": [
    {
     "name": "stdout",
     "output_type": "stream",
     "text": [
      "A\n",
      "n\n",
      "d\n",
      "r\n",
      "e\n",
      " \n",
      "A\n",
      "g\n",
      "u\n",
      "i\n",
      "a\n",
      "r\n"
     ]
    }
   ],
   "source": [
    "for each_character in 'Andre Aguiar':\n",
    "    print(each_character)"
   ]
  },
  {
   "cell_type": "code",
   "execution_count": 100,
   "metadata": {
    "ExecuteTime": {
     "end_time": "2020-07-15T00:39:51.393249Z",
     "start_time": "2020-07-15T00:39:51.389243Z"
    }
   },
   "outputs": [
    {
     "data": {
      "text/plain": [
       "['A', 'n', 'd', 'r', 'e', ' ', 'A', 'g', 'u', 'i', 'a', 'r']"
      ]
     },
     "execution_count": 100,
     "metadata": {},
     "output_type": "execute_result"
    }
   ],
   "source": [
    "list('Andre Aguiar')"
   ]
  },
  {
   "cell_type": "markdown",
   "metadata": {},
   "source": [
    "## Operador in"
   ]
  },
  {
   "cell_type": "code",
   "execution_count": 102,
   "metadata": {
    "ExecuteTime": {
     "end_time": "2020-07-15T00:40:40.195278Z",
     "start_time": "2020-07-15T00:40:40.189273Z"
    }
   },
   "outputs": [
    {
     "data": {
      "text/plain": [
       "True"
      ]
     },
     "execution_count": 102,
     "metadata": {},
     "output_type": "execute_result"
    }
   ],
   "source": [
    "5 in [1, 2, 3, 4, 4, 5, 7, 8, 9]"
   ]
  },
  {
   "cell_type": "code",
   "execution_count": 104,
   "metadata": {
    "ExecuteTime": {
     "end_time": "2020-07-15T00:40:52.016206Z",
     "start_time": "2020-07-15T00:40:52.012244Z"
    }
   },
   "outputs": [
    {
     "data": {
      "text/plain": [
       "False"
      ]
     },
     "execution_count": 104,
     "metadata": {},
     "output_type": "execute_result"
    }
   ],
   "source": [
    "10 in [1, 2, 3, 4, 4, 5, 7, 8, 9]"
   ]
  },
  {
   "cell_type": "code",
   "execution_count": 108,
   "metadata": {
    "ExecuteTime": {
     "end_time": "2020-07-15T00:42:25.719908Z",
     "start_time": "2020-07-15T00:42:25.715919Z"
    }
   },
   "outputs": [
    {
     "data": {
      "text/plain": [
       "True"
      ]
     },
     "execution_count": 108,
     "metadata": {},
     "output_type": "execute_result"
    }
   ],
   "source": [
    "'Andre' in 'Andre Ribeiro de Barros Aguiar'"
   ]
  },
  {
   "cell_type": "code",
   "execution_count": 107,
   "metadata": {
    "ExecuteTime": {
     "end_time": "2020-07-15T00:41:49.435088Z",
     "start_time": "2020-07-15T00:41:49.430101Z"
    }
   },
   "outputs": [
    {
     "data": {
      "text/plain": [
       "False"
      ]
     },
     "execution_count": 107,
     "metadata": {},
     "output_type": "execute_result"
    }
   ],
   "source": [
    "'Andre Aguiar' in 'Andre Ribeiro de Barros Aguiar'"
   ]
  },
  {
   "cell_type": "code",
   "execution_count": 113,
   "metadata": {
    "ExecuteTime": {
     "end_time": "2020-07-15T00:45:17.463234Z",
     "start_time": "2020-07-15T00:45:17.459245Z"
    }
   },
   "outputs": [
    {
     "data": {
      "text/plain": [
       "3"
      ]
     },
     "execution_count": 113,
     "metadata": {},
     "output_type": "execute_result"
    }
   ],
   "source": [
    "'Andre Ribeiro de Barros Aguiar'.count('e')"
   ]
  },
  {
   "cell_type": "code",
   "execution_count": 111,
   "metadata": {
    "ExecuteTime": {
     "end_time": "2020-07-15T00:44:52.968901Z",
     "start_time": "2020-07-15T00:44:52.965908Z"
    }
   },
   "outputs": [],
   "source": [
    "counter = 0\n",
    "for each_character in 'Andre Ribeiro de Barros Aguiar':\n",
    "    if 'e' in each_character:\n",
    "        counter += 1"
   ]
  },
  {
   "cell_type": "code",
   "execution_count": 112,
   "metadata": {
    "ExecuteTime": {
     "end_time": "2020-07-15T00:44:54.723509Z",
     "start_time": "2020-07-15T00:44:54.719521Z"
    }
   },
   "outputs": [
    {
     "data": {
      "text/plain": [
       "3"
      ]
     },
     "execution_count": 112,
     "metadata": {},
     "output_type": "execute_result"
    }
   ],
   "source": [
    "counter"
   ]
  },
  {
   "cell_type": "code",
   "execution_count": null,
   "metadata": {},
   "outputs": [],
   "source": []
  },
  {
   "cell_type": "markdown",
   "metadata": {},
   "source": [
    "# Word slicing"
   ]
  },
  {
   "cell_type": "code",
   "execution_count": 120,
   "metadata": {
    "ExecuteTime": {
     "end_time": "2020-07-15T01:07:36.515052Z",
     "start_time": "2020-07-15T01:07:36.511064Z"
    }
   },
   "outputs": [
    {
     "data": {
      "text/plain": [
       "[88, 5, 5, 55576]"
      ]
     },
     "execution_count": 120,
     "metadata": {},
     "output_type": "execute_result"
    }
   ],
   "source": [
    "# slicings in lists\n",
    "x = [1,2,3,566,88,5,5,55576]\n",
    "x[4:]"
   ]
  },
  {
   "cell_type": "code",
   "execution_count": 121,
   "metadata": {
    "ExecuteTime": {
     "end_time": "2020-07-15T01:08:04.657947Z",
     "start_time": "2020-07-15T01:08:04.654954Z"
    }
   },
   "outputs": [],
   "source": [
    "word = 'automobile'"
   ]
  },
  {
   "cell_type": "code",
   "execution_count": 122,
   "metadata": {
    "ExecuteTime": {
     "end_time": "2020-07-15T01:08:10.426843Z",
     "start_time": "2020-07-15T01:08:10.423823Z"
    }
   },
   "outputs": [
    {
     "data": {
      "text/plain": [
       "'a'"
      ]
     },
     "execution_count": 122,
     "metadata": {},
     "output_type": "execute_result"
    }
   ],
   "source": [
    "word[0]"
   ]
  },
  {
   "cell_type": "code",
   "execution_count": 123,
   "metadata": {
    "ExecuteTime": {
     "end_time": "2020-07-15T01:08:17.971002Z",
     "start_time": "2020-07-15T01:08:17.967041Z"
    }
   },
   "outputs": [
    {
     "data": {
      "text/plain": [
       "'u'"
      ]
     },
     "execution_count": 123,
     "metadata": {},
     "output_type": "execute_result"
    }
   ],
   "source": [
    "word[1]"
   ]
  },
  {
   "cell_type": "code",
   "execution_count": 124,
   "metadata": {
    "ExecuteTime": {
     "end_time": "2020-07-15T01:08:23.067066Z",
     "start_time": "2020-07-15T01:08:23.063077Z"
    }
   },
   "outputs": [
    {
     "data": {
      "text/plain": [
       "'e'"
      ]
     },
     "execution_count": 124,
     "metadata": {},
     "output_type": "execute_result"
    }
   ],
   "source": [
    "word[-1]"
   ]
  },
  {
   "cell_type": "code",
   "execution_count": 125,
   "metadata": {
    "ExecuteTime": {
     "end_time": "2020-07-15T01:12:52.511476Z",
     "start_time": "2020-07-15T01:12:52.507460Z"
    }
   },
   "outputs": [
    {
     "data": {
      "text/plain": [
       "'autom'"
      ]
     },
     "execution_count": 125,
     "metadata": {},
     "output_type": "execute_result"
    }
   ],
   "source": [
    "# [0, 5) : 0,1,2,3,4\n",
    "word[:5]"
   ]
  },
  {
   "cell_type": "code",
   "execution_count": 126,
   "metadata": {
    "ExecuteTime": {
     "end_time": "2020-07-15T01:13:05.507394Z",
     "start_time": "2020-07-15T01:13:05.503405Z"
    }
   },
   "outputs": [
    {
     "data": {
      "text/plain": [
       "'mobile'"
      ]
     },
     "execution_count": 126,
     "metadata": {},
     "output_type": "execute_result"
    }
   ],
   "source": [
    "word[4:]"
   ]
  },
  {
   "cell_type": "code",
   "execution_count": 127,
   "metadata": {
    "ExecuteTime": {
     "end_time": "2020-07-15T01:13:13.113906Z",
     "start_time": "2020-07-15T01:13:13.109917Z"
    }
   },
   "outputs": [
    {
     "name": "stdout",
     "output_type": "stream",
     "text": [
      "a\n",
      "m\n",
      "e\n",
      "omo\n",
      "omobile\n",
      "automobile\n",
      "automobile\n"
     ]
    }
   ],
   "source": [
    "print(word[0])\n",
    "print(word[4])\n",
    "print(word[-1])\n",
    "print(word[3:6])\n",
    "print(word[3:])\n",
    "print(word[0::])\n",
    "print(word[:])"
   ]
  },
  {
   "cell_type": "markdown",
   "metadata": {},
   "source": [
    "# Splitting a string\n",
    "\n",
    "Inverse of join"
   ]
  },
  {
   "cell_type": "code",
   "execution_count": 5,
   "metadata": {
    "ExecuteTime": {
     "end_time": "2020-07-15T01:16:59.641269Z",
     "start_time": "2020-07-15T01:16:59.638278Z"
    }
   },
   "outputs": [],
   "source": [
    "a = 'They ate the - mystery chicken meat. It tasted like          chicken'"
   ]
  },
  {
   "cell_type": "code",
   "execution_count": 7,
   "metadata": {
    "ExecuteTime": {
     "end_time": "2020-07-15T01:17:30.691326Z",
     "start_time": "2020-07-15T01:17:30.687360Z"
    }
   },
   "outputs": [
    {
     "data": {
      "text/plain": [
       "True"
      ]
     },
     "execution_count": 7,
     "metadata": {},
     "output_type": "execute_result"
    }
   ],
   "source": [
    "'chicken' in a.split()"
   ]
  },
  {
   "cell_type": "code",
   "execution_count": 144,
   "metadata": {
    "ExecuteTime": {
     "end_time": "2020-07-15T01:17:56.124290Z",
     "start_time": "2020-07-15T01:17:56.120273Z"
    }
   },
   "outputs": [
    {
     "data": {
      "text/plain": [
       "['They',\n",
       " 'ate',\n",
       " 'the',\n",
       " '-',\n",
       " 'mystery',\n",
       " 'chicken',\n",
       " 'meat.',\n",
       " 'It',\n",
       " 'tasted',\n",
       " 'like',\n",
       " 'chicken']"
      ]
     },
     "execution_count": 144,
     "metadata": {},
     "output_type": "execute_result"
    }
   ],
   "source": [
    "a.split()"
   ]
  },
  {
   "cell_type": "code",
   "execution_count": null,
   "metadata": {
    "ExecuteTime": {
     "end_time": "2020-06-02T19:23:30.070370Z",
     "start_time": "2020-06-02T19:23:30.066380Z"
    }
   },
   "outputs": [],
   "source": [
    "# when sep=None: discard empty strings\n",
    "a.split()"
   ]
  },
  {
   "cell_type": "code",
   "execution_count": 145,
   "metadata": {
    "ExecuteTime": {
     "end_time": "2020-07-15T01:19:26.778747Z",
     "start_time": "2020-07-15T01:19:26.774784Z"
    },
    "scrolled": true
   },
   "outputs": [
    {
     "data": {
      "text/plain": [
       "['They',\n",
       " 'ate',\n",
       " 'the',\n",
       " '-',\n",
       " 'mystery',\n",
       " 'chicken',\n",
       " 'meat.',\n",
       " 'It',\n",
       " 'tasted',\n",
       " 'like',\n",
       " '',\n",
       " '',\n",
       " '',\n",
       " '',\n",
       " '',\n",
       " '',\n",
       " '',\n",
       " '',\n",
       " '',\n",
       " 'chicken']"
      ]
     },
     "execution_count": 145,
     "metadata": {},
     "output_type": "execute_result"
    }
   ],
   "source": [
    "# when sep=' ': DO NOT discard empty strings\n",
    "a.split(sep=' ')"
   ]
  },
  {
   "cell_type": "code",
   "execution_count": 146,
   "metadata": {
    "ExecuteTime": {
     "end_time": "2020-07-15T01:19:43.540355Z",
     "start_time": "2020-07-15T01:19:43.536366Z"
    }
   },
   "outputs": [
    {
     "data": {
      "text/plain": [
       "'They ate the - mystery chicken meat. It tasted like          chicken'"
      ]
     },
     "execution_count": 146,
     "metadata": {},
     "output_type": "execute_result"
    }
   ],
   "source": [
    "a"
   ]
  },
  {
   "cell_type": "code",
   "execution_count": 147,
   "metadata": {
    "ExecuteTime": {
     "end_time": "2020-07-15T01:19:58.220522Z",
     "start_time": "2020-07-15T01:19:58.216565Z"
    }
   },
   "outputs": [
    {
     "data": {
      "text/plain": [
       "['They ate the - mystery chicken meat', ' It tasted like          chicken']"
      ]
     },
     "execution_count": 147,
     "metadata": {},
     "output_type": "execute_result"
    }
   ],
   "source": [
    "a.split('.')"
   ]
  },
  {
   "cell_type": "code",
   "execution_count": 148,
   "metadata": {
    "ExecuteTime": {
     "end_time": "2020-07-15T01:20:16.785879Z",
     "start_time": "2020-07-15T01:20:16.781889Z"
    }
   },
   "outputs": [
    {
     "data": {
      "text/plain": [
       "['They ate the ', ' mystery chicken meat. It tasted like          chicken']"
      ]
     },
     "execution_count": 148,
     "metadata": {},
     "output_type": "execute_result"
    }
   ],
   "source": [
    "a.split(sep='-')"
   ]
  },
  {
   "cell_type": "code",
   "execution_count": 154,
   "metadata": {
    "ExecuteTime": {
     "end_time": "2020-07-15T01:24:27.336745Z",
     "start_time": "2020-07-15T01:24:27.332754Z"
    }
   },
   "outputs": [
    {
     "data": {
      "text/plain": [
       "['They ate the - mystery chicken meat', ' It tasted like          chicken']"
      ]
     },
     "execution_count": 154,
     "metadata": {},
     "output_type": "execute_result"
    }
   ],
   "source": [
    "a.split('.')"
   ]
  },
  {
   "cell_type": "code",
   "execution_count": 162,
   "metadata": {
    "ExecuteTime": {
     "end_time": "2020-07-15T01:27:08.085171Z",
     "start_time": "2020-07-15T01:27:08.081181Z"
    }
   },
   "outputs": [
    {
     "data": {
      "text/plain": [
       "'ahud asduia hdaui asduhid'"
      ]
     },
     "execution_count": 162,
     "metadata": {},
     "output_type": "execute_result"
    }
   ],
   "source": [
    "# remover os espaços do meio\n",
    "' '.join('ahud asduia hdaui              asduhid'.split())"
   ]
  },
  {
   "cell_type": "code",
   "execution_count": 159,
   "metadata": {
    "ExecuteTime": {
     "end_time": "2020-07-15T01:26:48.631235Z",
     "start_time": "2020-07-15T01:26:48.627245Z"
    }
   },
   "outputs": [
    {
     "data": {
      "text/plain": [
       "'ahud asduia hdaui asduhid'"
      ]
     },
     "execution_count": 159,
     "metadata": {},
     "output_type": "execute_result"
    }
   ],
   "source": [
    "' '.join(['ahud', 'asduia', 'hdaui', 'asduhid'])"
   ]
  },
  {
   "cell_type": "code",
   "execution_count": 165,
   "metadata": {
    "ExecuteTime": {
     "end_time": "2020-07-15T01:29:02.290898Z",
     "start_time": "2020-07-15T01:29:02.286908Z"
    }
   },
   "outputs": [
    {
     "data": {
      "text/plain": [
       "['', 'Andre Aguiar', 'Darua Iama', '']"
      ]
     },
     "execution_count": 165,
     "metadata": {},
     "output_type": "execute_result"
    }
   ],
   "source": [
    "'''\n",
    "Andre Aguiar\n",
    "Darua Iama\n",
    "'''.split('\\n')"
   ]
  },
  {
   "cell_type": "code",
   "execution_count": 153,
   "metadata": {
    "ExecuteTime": {
     "end_time": "2020-07-15T01:22:37.366210Z",
     "start_time": "2020-07-15T01:22:37.361194Z"
    }
   },
   "outputs": [
    {
     "data": {
      "text/plain": [
       "' mystery chicken meat'"
      ]
     },
     "execution_count": 153,
     "metadata": {},
     "output_type": "execute_result"
    }
   ],
   "source": [
    "a.split('.')[0].split('-')[-1]"
   ]
  },
  {
   "cell_type": "markdown",
   "metadata": {},
   "source": [
    "# Startswith vs Endswith"
   ]
  },
  {
   "cell_type": "code",
   "execution_count": 166,
   "metadata": {
    "ExecuteTime": {
     "end_time": "2020-07-15T01:30:19.164561Z",
     "start_time": "2020-07-15T01:30:19.161537Z"
    }
   },
   "outputs": [],
   "source": [
    "b = 'There is no business like show business.'"
   ]
  },
  {
   "cell_type": "code",
   "execution_count": 167,
   "metadata": {
    "ExecuteTime": {
     "end_time": "2020-07-15T01:30:39.092202Z",
     "start_time": "2020-07-15T01:30:39.088187Z"
    }
   },
   "outputs": [
    {
     "data": {
      "text/plain": [
       "True"
      ]
     },
     "execution_count": 167,
     "metadata": {},
     "output_type": "execute_result"
    }
   ],
   "source": [
    "b.startswith('There')"
   ]
  },
  {
   "cell_type": "code",
   "execution_count": 168,
   "metadata": {
    "ExecuteTime": {
     "end_time": "2020-07-15T01:30:49.922923Z",
     "start_time": "2020-07-15T01:30:49.917937Z"
    }
   },
   "outputs": [
    {
     "data": {
      "text/plain": [
       "False"
      ]
     },
     "execution_count": 168,
     "metadata": {},
     "output_type": "execute_result"
    }
   ],
   "source": [
    "b.endswith('s')"
   ]
  },
  {
   "cell_type": "code",
   "execution_count": 169,
   "metadata": {
    "ExecuteTime": {
     "end_time": "2020-07-15T01:30:53.132068Z",
     "start_time": "2020-07-15T01:30:53.129076Z"
    }
   },
   "outputs": [
    {
     "data": {
      "text/plain": [
       "True"
      ]
     },
     "execution_count": 169,
     "metadata": {},
     "output_type": "execute_result"
    }
   ],
   "source": [
    "b.endswith('.')"
   ]
  },
  {
   "cell_type": "code",
   "execution_count": 170,
   "metadata": {
    "ExecuteTime": {
     "end_time": "2020-07-15T01:31:20.038629Z",
     "start_time": "2020-07-15T01:31:20.034666Z"
    }
   },
   "outputs": [
    {
     "data": {
      "text/plain": [
       "True"
      ]
     },
     "execution_count": 170,
     "metadata": {},
     "output_type": "execute_result"
    }
   ],
   "source": [
    "b.startswith('T')"
   ]
  },
  {
   "cell_type": "code",
   "execution_count": 171,
   "metadata": {
    "ExecuteTime": {
     "end_time": "2020-07-15T01:31:25.398715Z",
     "start_time": "2020-07-15T01:31:25.394726Z"
    }
   },
   "outputs": [],
   "source": [
    "# exemplo pratico\n",
    "variables = ['qtd_casa','qtd_boleto','qtd_titulos','vlr_boleto','vlr_titulos','vlr_cartao']"
   ]
  },
  {
   "cell_type": "code",
   "execution_count": 172,
   "metadata": {
    "ExecuteTime": {
     "end_time": "2020-07-15T01:31:52.771726Z",
     "start_time": "2020-07-15T01:31:52.767737Z"
    }
   },
   "outputs": [
    {
     "name": "stdout",
     "output_type": "stream",
     "text": [
      "vlr_boleto\n",
      "vlr_titulos\n",
      "vlr_cartao\n"
     ]
    }
   ],
   "source": [
    "for each_var in variables:\n",
    "    if each_var.startswith('vlr'):\n",
    "        print(each_var)"
   ]
  },
  {
   "cell_type": "code",
   "execution_count": null,
   "metadata": {},
   "outputs": [],
   "source": [
    "# exemplo pratico\n",
    "variables = ['qtd_casa','qtd_boleto_1','qtd_titulos_56','vlr_boleto','vlr_titulos','vlr_cartao']"
   ]
  },
  {
   "cell_type": "code",
   "execution_count": null,
   "metadata": {},
   "outputs": [],
   "source": [
    "for each_var in variables:\n",
    "    if each_var.startswith('vlr'):\n",
    "        print(each_var)"
   ]
  },
  {
   "cell_type": "markdown",
   "metadata": {},
   "source": [
    "# Is it in a string?"
   ]
  },
  {
   "cell_type": "code",
   "execution_count": 173,
   "metadata": {
    "ExecuteTime": {
     "end_time": "2020-07-15T01:32:27.326315Z",
     "start_time": "2020-07-15T01:32:27.322325Z"
    }
   },
   "outputs": [
    {
     "data": {
      "text/plain": [
       "'There is no business like show business.'"
      ]
     },
     "execution_count": 173,
     "metadata": {},
     "output_type": "execute_result"
    }
   ],
   "source": [
    "b"
   ]
  },
  {
   "cell_type": "code",
   "execution_count": 174,
   "metadata": {
    "ExecuteTime": {
     "end_time": "2020-07-15T01:32:29.128453Z",
     "start_time": "2020-07-15T01:32:29.124465Z"
    }
   },
   "outputs": [
    {
     "data": {
      "text/plain": [
       "True"
      ]
     },
     "execution_count": 174,
     "metadata": {},
     "output_type": "execute_result"
    }
   ],
   "source": [
    "'business' in b"
   ]
  },
  {
   "cell_type": "code",
   "execution_count": 175,
   "metadata": {
    "ExecuteTime": {
     "end_time": "2020-07-15T01:32:30.526442Z",
     "start_time": "2020-07-15T01:32:30.522453Z"
    }
   },
   "outputs": [
    {
     "data": {
      "text/plain": [
       "False"
      ]
     },
     "execution_count": 175,
     "metadata": {},
     "output_type": "execute_result"
    }
   ],
   "source": [
    "'businessss' in b"
   ]
  },
  {
   "cell_type": "code",
   "execution_count": 176,
   "metadata": {
    "ExecuteTime": {
     "end_time": "2020-07-15T01:32:33.442393Z",
     "start_time": "2020-07-15T01:32:33.439376Z"
    }
   },
   "outputs": [
    {
     "name": "stdout",
     "output_type": "stream",
     "text": [
      "vlr_boleto\n",
      "vlr_titulos\n",
      "vlr_cartao\n"
     ]
    }
   ],
   "source": [
    "for variable in variables:\n",
    "    if 'vlr_' in variable:\n",
    "        print(variable)"
   ]
  },
  {
   "cell_type": "markdown",
   "metadata": {},
   "source": [
    "# String methods. "
   ]
  },
  {
   "cell_type": "code",
   "execution_count": 177,
   "metadata": {
    "ExecuteTime": {
     "end_time": "2020-07-15T01:32:52.189053Z",
     "start_time": "2020-07-15T01:32:52.186060Z"
    }
   },
   "outputs": [],
   "source": [
    "c = 'shE HaD a maRveLoUs aSsoRtmeNt of PUPPETS.'"
   ]
  },
  {
   "cell_type": "code",
   "execution_count": 178,
   "metadata": {
    "ExecuteTime": {
     "end_time": "2020-07-15T01:33:00.388750Z",
     "start_time": "2020-07-15T01:33:00.384759Z"
    }
   },
   "outputs": [
    {
     "data": {
      "text/plain": [
       "'She had a marvelous assortment of puppets.'"
      ]
     },
     "execution_count": 178,
     "metadata": {},
     "output_type": "execute_result"
    }
   ],
   "source": [
    "c.capitalize()"
   ]
  },
  {
   "cell_type": "code",
   "execution_count": 179,
   "metadata": {
    "ExecuteTime": {
     "end_time": "2020-07-15T01:33:32.707465Z",
     "start_time": "2020-07-15T01:33:32.703476Z"
    }
   },
   "outputs": [
    {
     "data": {
      "text/plain": [
       "'she had a marvelous assortment of puppets.'"
      ]
     },
     "execution_count": 179,
     "metadata": {},
     "output_type": "execute_result"
    }
   ],
   "source": [
    "c.lower()"
   ]
  },
  {
   "cell_type": "code",
   "execution_count": 180,
   "metadata": {
    "ExecuteTime": {
     "end_time": "2020-07-15T01:33:38.155808Z",
     "start_time": "2020-07-15T01:33:38.150827Z"
    }
   },
   "outputs": [
    {
     "data": {
      "text/plain": [
       "'SHE HAD A MARVELOUS ASSORTMENT OF PUPPETS.'"
      ]
     },
     "execution_count": 180,
     "metadata": {},
     "output_type": "execute_result"
    }
   ],
   "source": [
    "c.upper()"
   ]
  },
  {
   "cell_type": "code",
   "execution_count": 181,
   "metadata": {
    "ExecuteTime": {
     "end_time": "2020-07-15T01:33:44.608621Z",
     "start_time": "2020-07-15T01:33:44.605630Z"
    }
   },
   "outputs": [],
   "source": [
    "c = 'shE HaD a maRveLoUs aSsoRtmeNt of PUPPETS.'"
   ]
  },
  {
   "cell_type": "code",
   "execution_count": null,
   "metadata": {
    "ExecuteTime": {
     "end_time": "2020-06-02T19:40:21.360154Z",
     "start_time": "2020-06-02T19:40:21.356166Z"
    }
   },
   "outputs": [],
   "source": [
    "c.title()"
   ]
  },
  {
   "cell_type": "code",
   "execution_count": 182,
   "metadata": {
    "ExecuteTime": {
     "end_time": "2020-07-15T01:35:04.464514Z",
     "start_time": "2020-07-15T01:35:04.461495Z"
    }
   },
   "outputs": [],
   "source": [
    "x = 'Andre'"
   ]
  },
  {
   "cell_type": "code",
   "execution_count": null,
   "metadata": {
    "ExecuteTime": {
     "end_time": "2020-06-02T19:40:38.699436Z",
     "start_time": "2020-06-02T19:40:38.695448Z"
    }
   },
   "outputs": [],
   "source": [
    "x"
   ]
  },
  {
   "cell_type": "code",
   "execution_count": null,
   "metadata": {
    "ExecuteTime": {
     "end_time": "2020-06-02T19:40:57.759093Z",
     "start_time": "2020-06-02T19:40:57.755075Z"
    }
   },
   "outputs": [],
   "source": [
    "f'And then he said: \"My name is {x.lower()}\"' "
   ]
  },
  {
   "cell_type": "code",
   "execution_count": null,
   "metadata": {
    "ExecuteTime": {
     "end_time": "2020-06-02T19:41:02.368674Z",
     "start_time": "2020-06-02T19:41:02.363689Z"
    }
   },
   "outputs": [],
   "source": [
    "f'And then he said: \"My name is {x.upper()}\"'"
   ]
  },
  {
   "cell_type": "markdown",
   "metadata": {},
   "source": [
    "# Strip!"
   ]
  },
  {
   "cell_type": "code",
   "execution_count": 183,
   "metadata": {
    "ExecuteTime": {
     "end_time": "2020-07-15T01:37:10.841905Z",
     "start_time": "2020-07-15T01:37:10.838910Z"
    }
   },
   "outputs": [],
   "source": [
    "d = ' I have a tendency to leave trailing spaces.     '"
   ]
  },
  {
   "cell_type": "code",
   "execution_count": 184,
   "metadata": {
    "ExecuteTime": {
     "end_time": "2020-07-15T01:37:11.634923Z",
     "start_time": "2020-07-15T01:37:11.630933Z"
    }
   },
   "outputs": [
    {
     "data": {
      "text/plain": [
       "'I have a tendency to leave trailing spaces.'"
      ]
     },
     "execution_count": 184,
     "metadata": {},
     "output_type": "execute_result"
    }
   ],
   "source": [
    "# strip default, lstrip and rstrip\n",
    "\n",
    "d.strip()"
   ]
  },
  {
   "cell_type": "code",
   "execution_count": 185,
   "metadata": {
    "ExecuteTime": {
     "end_time": "2020-07-15T01:37:30.166497Z",
     "start_time": "2020-07-15T01:37:30.162507Z"
    }
   },
   "outputs": [
    {
     "data": {
      "text/plain": [
       "'I have a tendency to leave trailing spaces.     '"
      ]
     },
     "execution_count": 185,
     "metadata": {},
     "output_type": "execute_result"
    }
   ],
   "source": [
    "d.lstrip()"
   ]
  },
  {
   "cell_type": "code",
   "execution_count": 186,
   "metadata": {
    "ExecuteTime": {
     "end_time": "2020-07-15T01:37:42.653939Z",
     "start_time": "2020-07-15T01:37:42.649950Z"
    }
   },
   "outputs": [
    {
     "data": {
      "text/plain": [
       "' I have a tendency to leave trailing spaces.'"
      ]
     },
     "execution_count": 186,
     "metadata": {},
     "output_type": "execute_result"
    }
   ],
   "source": [
    "d.rstrip()"
   ]
  },
  {
   "cell_type": "markdown",
   "metadata": {},
   "source": [
    "# Replacing values"
   ]
  },
  {
   "cell_type": "code",
   "execution_count": 191,
   "metadata": {
    "ExecuteTime": {
     "end_time": "2020-07-15T01:39:01.002185Z",
     "start_time": "2020-07-15T01:39:00.998220Z"
    }
   },
   "outputs": [
    {
     "data": {
      "text/plain": [
       "'I thought the movie was wonderful wonderful Wonderful!'"
      ]
     },
     "execution_count": 191,
     "metadata": {},
     "output_type": "execute_result"
    }
   ],
   "source": [
    "e = 'I thought the movie was wonderful wonderful Wonderful!'\n",
    "\n",
    "e"
   ]
  },
  {
   "cell_type": "code",
   "execution_count": 188,
   "metadata": {
    "ExecuteTime": {
     "end_time": "2020-07-15T01:38:11.140190Z",
     "start_time": "2020-07-15T01:38:11.136233Z"
    }
   },
   "outputs": [
    {
     "data": {
      "text/plain": [
       "'I thought the film was wonderful wonderful wonderful!'"
      ]
     },
     "execution_count": 188,
     "metadata": {},
     "output_type": "execute_result"
    }
   ],
   "source": [
    "e.replace('movie', 'film')"
   ]
  },
  {
   "cell_type": "code",
   "execution_count": 192,
   "metadata": {
    "ExecuteTime": {
     "end_time": "2020-07-15T01:39:05.006073Z",
     "start_time": "2020-07-15T01:39:05.002057Z"
    }
   },
   "outputs": [
    {
     "data": {
      "text/plain": [
       "'I thought the movie was awful awful Wonderful!'"
      ]
     },
     "execution_count": 192,
     "metadata": {},
     "output_type": "execute_result"
    }
   ],
   "source": [
    "e.replace('wonderful','awful')"
   ]
  },
  {
   "cell_type": "code",
   "execution_count": 190,
   "metadata": {
    "ExecuteTime": {
     "end_time": "2020-07-15T01:38:50.486215Z",
     "start_time": "2020-07-15T01:38:50.482226Z"
    }
   },
   "outputs": [
    {
     "data": {
      "text/plain": [
       "'I thought the movie was awful wonderful wonderful!'"
      ]
     },
     "execution_count": 190,
     "metadata": {},
     "output_type": "execute_result"
    }
   ],
   "source": [
    "e.replace('wonderful','awful', 1)"
   ]
  },
  {
   "cell_type": "code",
   "execution_count": 8,
   "metadata": {},
   "outputs": [
    {
     "ename": "TypeError",
     "evalue": "'str' object does not support item assignment",
     "output_type": "error",
     "traceback": [
      "\u001b[1;31m---------------------------------------------------------------------------\u001b[0m",
      "\u001b[1;31mTypeError\u001b[0m                                 Traceback (most recent call last)",
      "\u001b[1;32m<ipython-input-8-bd91b14184a8>\u001b[0m in \u001b[0;36m<module>\u001b[1;34m\u001b[0m\n\u001b[1;32m----> 1\u001b[1;33m \u001b[1;34m'dasdas'\u001b[0m\u001b[1;33m[\u001b[0m\u001b[1;36m2\u001b[0m\u001b[1;33m]\u001b[0m\u001b[1;33m=\u001b[0m\u001b[1;36m0\u001b[0m\u001b[1;33m\u001b[0m\u001b[1;33m\u001b[0m\u001b[0m\n\u001b[0m",
      "\u001b[1;31mTypeError\u001b[0m: 'str' object does not support item assignment"
     ]
    }
   ],
   "source": [
    "'dasdas'[2]=0"
   ]
  },
  {
   "cell_type": "code",
   "execution_count": null,
   "metadata": {},
   "outputs": [],
   "source": []
  }
 ],
 "metadata": {
  "kernelspec": {
   "display_name": "Python 3",
   "language": "python",
   "name": "python3"
  },
  "language_info": {
   "codemirror_mode": {
    "name": "ipython",
    "version": 3
   },
   "file_extension": ".py",
   "mimetype": "text/x-python",
   "name": "python",
   "nbconvert_exporter": "python",
   "pygments_lexer": "ipython3",
   "version": "3.7.6"
  },
  "toc": {
   "base_numbering": 1,
   "nav_menu": {},
   "number_sections": true,
   "sideBar": true,
   "skip_h1_title": false,
   "title_cell": "Table of Contents",
   "title_sidebar": "Contents",
   "toc_cell": false,
   "toc_position": {},
   "toc_section_display": true,
   "toc_window_display": false
  },
  "varInspector": {
   "cols": {
    "lenName": 16,
    "lenType": 16,
    "lenVar": 40
   },
   "kernels_config": {
    "python": {
     "delete_cmd_postfix": "",
     "delete_cmd_prefix": "del ",
     "library": "var_list.py",
     "varRefreshCmd": "print(var_dic_list())"
    },
    "r": {
     "delete_cmd_postfix": ") ",
     "delete_cmd_prefix": "rm(",
     "library": "var_list.r",
     "varRefreshCmd": "cat(var_dic_list()) "
    }
   },
   "types_to_exclude": [
    "module",
    "function",
    "builtin_function_or_method",
    "instance",
    "_Feature"
   ],
   "window_display": false
  }
 },
 "nbformat": 4,
 "nbformat_minor": 2
}
